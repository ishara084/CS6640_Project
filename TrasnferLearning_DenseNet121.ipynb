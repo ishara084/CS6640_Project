{
 "cells": [
  {
   "cell_type": "markdown",
   "source": [
    "# DenseNet121 (Transfer Learning)"
   ],
   "metadata": {
    "collapsed": false
   },
   "id": "21c8f23ebd8a1e35"
  },
  {
   "cell_type": "code",
   "execution_count": 6,
   "outputs": [],
   "source": [
    "import torch\n",
    "import torch.nn as nn\n",
    "import torch.optim as optim\n",
    "from torchvision import models, transforms\n",
    "from ptflops import get_model_complexity_info\n",
    "from torchsummary import summary\n",
    "import pandas as pd\n",
    "import time\n",
    "\n",
    "# Import custom utility module\n",
    "from utils import get_transform, prepare_train_test_data, calculate_evaluation_metrics"
   ],
   "metadata": {
    "collapsed": false,
    "ExecuteTime": {
     "end_time": "2024-11-30T09:53:25.933014Z",
     "start_time": "2024-11-30T09:53:25.916964300Z"
    }
   },
   "id": "41eca1968df2ebf1"
  },
  {
   "cell_type": "code",
   "execution_count": 7,
   "outputs": [
    {
     "data": {
      "text/plain": "device(type='cuda')"
     },
     "execution_count": 7,
     "metadata": {},
     "output_type": "execute_result"
    }
   ],
   "source": [
    "# Device configuration\n",
    "device = torch.device(\"cuda\" if torch.cuda.is_available() else \"cpu\")\n",
    "device"
   ],
   "metadata": {
    "collapsed": false,
    "ExecuteTime": {
     "end_time": "2024-11-30T09:53:25.951474600Z",
     "start_time": "2024-11-30T09:53:25.920894400Z"
    }
   },
   "id": "50289ef829534d37"
  },
  {
   "cell_type": "markdown",
   "source": [
    "### Load and prepare the data"
   ],
   "metadata": {
    "collapsed": false
   },
   "id": "5d0f2326ad4f29d1"
  },
  {
   "cell_type": "code",
   "execution_count": 11,
   "outputs": [],
   "source": [
    "# Transform data\n",
    "image_input_size = (3, 224, 224) # Image input size for the model\n",
    "transform = get_transform(resize_image_size = (224, 224))\n",
    "\n",
    "# Prepare Train/Val/Test Data\n",
    "train_loader, val_loader, test_loader = prepare_train_test_data(transform)\n",
    "\n",
    "# Model keyword\n",
    "model_keyword = \"densenet121\""
   ],
   "metadata": {
    "collapsed": false,
    "ExecuteTime": {
     "end_time": "2024-11-30T09:54:18.568842Z",
     "start_time": "2024-11-30T09:53:59.584132900Z"
    }
   },
   "id": "e754bf0570346a4d"
  },
  {
   "cell_type": "markdown",
   "source": [
    "### Load pre-trained DenseNet model and modify it"
   ],
   "metadata": {
    "collapsed": false
   },
   "id": "1ed2bf3c9fa67487"
  },
  {
   "cell_type": "code",
   "execution_count": 12,
   "outputs": [
    {
     "name": "stderr",
     "output_type": "stream",
     "text": [
      "C:\\Users\\ishar\\.virtualenvs\\ML_env\\Lib\\site-packages\\torchvision\\models\\_utils.py:208: UserWarning: The parameter 'pretrained' is deprecated since 0.13 and may be removed in the future, please use 'weights' instead.\n",
      "  warnings.warn(\n",
      "C:\\Users\\ishar\\.virtualenvs\\ML_env\\Lib\\site-packages\\torchvision\\models\\_utils.py:223: UserWarning: Arguments other than a weight enum or `None` for 'weights' are deprecated since 0.13 and may be removed in the future. The current behavior is equivalent to passing `weights=DenseNet121_Weights.IMAGENET1K_V1`. You can also use `weights=DenseNet121_Weights.DEFAULT` to get the most up-to-date weights.\n",
      "  warnings.warn(msg)\n"
     ]
    }
   ],
   "source": [
    "# Load DenseNet121 model\n",
    "model = models.densenet121(pretrained=True)\n",
    "\n",
    "# Modify the classifier for binary classification\n",
    "num_features = model.classifier.in_features\n",
    "model.classifier = nn.Linear(num_features, 2)  # Binary classification: Internal waves (1) or No waves (0)\n",
    "model = model.to(device)\n",
    "\n",
    "# Define loss function and optimizer\n",
    "criterion = nn.CrossEntropyLoss()\n",
    "optimizer = optim.Adam(model.parameters(), lr=0.001)\n",
    "scheduler = optim.lr_scheduler.ReduceLROnPlateau(optimizer, mode='min', patience=5, factor=0.1) # Implement a learning rate scheduler to adjust the learning rate during training\n",
    "\n",
    "# Print the summary for DenseNet121\n",
    "# summary(model, input_size=image_input_size, device=str(device))"
   ],
   "metadata": {
    "collapsed": false,
    "ExecuteTime": {
     "end_time": "2024-11-30T09:54:18.784502100Z",
     "start_time": "2024-11-30T09:54:18.567834900Z"
    }
   },
   "id": "a6b7d18da9b9231b"
  },
  {
   "cell_type": "markdown",
   "source": [
    "### Train the model"
   ],
   "metadata": {
    "collapsed": false
   },
   "id": "452a3507cab1d33f"
  },
  {
   "cell_type": "code",
   "execution_count": 13,
   "outputs": [
    {
     "name": "stdout",
     "output_type": "stream",
     "text": [
      "Epoch [1/50], Train Loss: 0.4522, Val Loss: 0.4615, Val Accuracy: 81.35%, GFLOPs: 2.90\n",
      "Epoch [2/50], Train Loss: 0.3311, Val Loss: 0.7241, Val Accuracy: 80.76%, GFLOPs: 2.90\n",
      "Epoch [3/50], Train Loss: 0.2928, Val Loss: 0.3501, Val Accuracy: 85.76%, GFLOPs: 2.90\n",
      "Epoch [4/50], Train Loss: 0.2433, Val Loss: 0.3233, Val Accuracy: 83.99%, GFLOPs: 2.90\n",
      "Epoch [5/50], Train Loss: 0.2119, Val Loss: 0.2432, Val Accuracy: 89.43%, GFLOPs: 2.90\n",
      "Epoch [6/50], Train Loss: 0.1672, Val Loss: 0.2243, Val Accuracy: 90.75%, GFLOPs: 2.90\n",
      "Epoch [7/50], Train Loss: 0.1339, Val Loss: 0.3245, Val Accuracy: 86.05%, GFLOPs: 2.90\n",
      "Epoch [8/50], Train Loss: 0.1797, Val Loss: 0.3241, Val Accuracy: 90.31%, GFLOPs: 2.90\n",
      "Epoch [9/50], Train Loss: 0.1248, Val Loss: 0.2761, Val Accuracy: 90.60%, GFLOPs: 2.90\n",
      "Epoch [10/50], Train Loss: 0.1091, Val Loss: 0.2892, Val Accuracy: 90.60%, GFLOPs: 2.90\n",
      "Epoch [11/50], Train Loss: 0.0960, Val Loss: 0.3466, Val Accuracy: 87.08%, GFLOPs: 2.90\n",
      "Epoch [12/50], Train Loss: 0.1071, Val Loss: 0.2738, Val Accuracy: 89.57%, GFLOPs: 2.90\n",
      "Epoch [13/50], Train Loss: 0.0537, Val Loss: 0.2220, Val Accuracy: 92.80%, GFLOPs: 2.90\n",
      "Epoch [14/50], Train Loss: 0.0238, Val Loss: 0.2246, Val Accuracy: 93.10%, GFLOPs: 2.90\n",
      "Epoch [15/50], Train Loss: 0.0214, Val Loss: 0.2252, Val Accuracy: 93.54%, GFLOPs: 2.90\n",
      "Epoch [16/50], Train Loss: 0.0120, Val Loss: 0.2394, Val Accuracy: 93.25%, GFLOPs: 2.90\n",
      "Epoch [17/50], Train Loss: 0.0105, Val Loss: 0.2281, Val Accuracy: 93.25%, GFLOPs: 2.90\n",
      "Epoch [18/50], Train Loss: 0.0093, Val Loss: 0.2399, Val Accuracy: 92.95%, GFLOPs: 2.90\n",
      "Epoch [19/50], Train Loss: 0.0066, Val Loss: 0.2512, Val Accuracy: 92.95%, GFLOPs: 2.90\n",
      "Epoch [20/50], Train Loss: 0.0078, Val Loss: 0.2536, Val Accuracy: 92.66%, GFLOPs: 2.90\n",
      "Epoch [21/50], Train Loss: 0.0074, Val Loss: 0.2537, Val Accuracy: 92.95%, GFLOPs: 2.90\n",
      "Epoch [22/50], Train Loss: 0.0074, Val Loss: 0.2461, Val Accuracy: 93.69%, GFLOPs: 2.90\n",
      "Epoch [23/50], Train Loss: 0.0054, Val Loss: 0.2566, Val Accuracy: 92.80%, GFLOPs: 2.90\n",
      "Epoch [24/50], Train Loss: 0.0055, Val Loss: 0.2513, Val Accuracy: 92.80%, GFLOPs: 2.90\n",
      "Epoch [25/50], Train Loss: 0.0058, Val Loss: 0.2598, Val Accuracy: 92.95%, GFLOPs: 2.90\n",
      "Epoch [26/50], Train Loss: 0.0058, Val Loss: 0.2477, Val Accuracy: 93.39%, GFLOPs: 2.90\n",
      "Epoch [27/50], Train Loss: 0.0068, Val Loss: 0.2618, Val Accuracy: 92.95%, GFLOPs: 2.90\n",
      "Epoch [28/50], Train Loss: 0.0051, Val Loss: 0.2602, Val Accuracy: 93.25%, GFLOPs: 2.90\n",
      "Epoch [29/50], Train Loss: 0.0046, Val Loss: 0.2512, Val Accuracy: 93.25%, GFLOPs: 2.90\n",
      "Epoch [30/50], Train Loss: 0.0093, Val Loss: 0.2477, Val Accuracy: 93.83%, GFLOPs: 2.90\n",
      "Epoch [31/50], Train Loss: 0.0038, Val Loss: 0.2472, Val Accuracy: 93.25%, GFLOPs: 2.90\n",
      "Epoch [32/50], Train Loss: 0.0035, Val Loss: 0.2546, Val Accuracy: 93.10%, GFLOPs: 2.90\n",
      "Epoch [33/50], Train Loss: 0.0051, Val Loss: 0.2537, Val Accuracy: 93.10%, GFLOPs: 2.90\n",
      "Epoch [34/50], Train Loss: 0.0065, Val Loss: 0.2603, Val Accuracy: 93.69%, GFLOPs: 2.90\n",
      "Epoch [35/50], Train Loss: 0.0072, Val Loss: 0.2515, Val Accuracy: 93.39%, GFLOPs: 2.90\n",
      "Epoch [36/50], Train Loss: 0.0056, Val Loss: 0.2514, Val Accuracy: 93.39%, GFLOPs: 2.90\n",
      "Epoch [37/50], Train Loss: 0.0067, Val Loss: 0.2462, Val Accuracy: 93.54%, GFLOPs: 2.90\n",
      "Epoch [38/50], Train Loss: 0.0038, Val Loss: 0.2534, Val Accuracy: 92.95%, GFLOPs: 2.90\n",
      "Epoch [39/50], Train Loss: 0.0051, Val Loss: 0.2589, Val Accuracy: 92.95%, GFLOPs: 2.90\n",
      "Epoch [40/50], Train Loss: 0.0052, Val Loss: 0.2516, Val Accuracy: 93.69%, GFLOPs: 2.90\n",
      "Epoch [41/50], Train Loss: 0.0056, Val Loss: 0.2561, Val Accuracy: 93.10%, GFLOPs: 2.90\n",
      "Epoch [42/50], Train Loss: 0.0069, Val Loss: 0.2554, Val Accuracy: 92.95%, GFLOPs: 2.90\n",
      "Epoch [43/50], Train Loss: 0.0061, Val Loss: 0.2547, Val Accuracy: 92.95%, GFLOPs: 2.90\n",
      "Epoch [44/50], Train Loss: 0.0040, Val Loss: 0.2517, Val Accuracy: 93.69%, GFLOPs: 2.90\n",
      "Epoch [45/50], Train Loss: 0.0047, Val Loss: 0.2493, Val Accuracy: 93.39%, GFLOPs: 2.90\n",
      "Epoch [46/50], Train Loss: 0.0050, Val Loss: 0.2556, Val Accuracy: 93.54%, GFLOPs: 2.90\n",
      "Epoch [47/50], Train Loss: 0.0049, Val Loss: 0.2488, Val Accuracy: 93.39%, GFLOPs: 2.90\n",
      "Epoch [48/50], Train Loss: 0.0075, Val Loss: 0.2532, Val Accuracy: 93.25%, GFLOPs: 2.90\n",
      "Epoch [49/50], Train Loss: 0.0050, Val Loss: 0.2527, Val Accuracy: 93.39%, GFLOPs: 2.90\n",
      "Epoch [50/50], Train Loss: 0.0044, Val Loss: 0.2499, Val Accuracy: 93.54%, GFLOPs: 2.90\n",
      "\n",
      "Total Training Time: 1904.06 seconds\n"
     ]
    }
   ],
   "source": [
    "# Initialize a DataFrame to log training/validation metrics\n",
    "log_df = []\n",
    "\n",
    "# Record the start time\n",
    "start_time = time.time()\n",
    "\n",
    "# Training loop\n",
    "num_epochs = 50\n",
    "best_val_loss = float('inf')  # Initialize best validation loss for saving the model\n",
    "\n",
    "for epoch in range(num_epochs):\n",
    "    # Training phase\n",
    "    model.train()\n",
    "    train_loss = 0.0\n",
    "\n",
    "    for images, labels in train_loader:\n",
    "        images, labels = images.to(device), labels.to(device)\n",
    "\n",
    "        # Forward pass\n",
    "        outputs = model(images)\n",
    "        loss = criterion(outputs, labels)\n",
    "\n",
    "        # Backward pass and optimization\n",
    "        optimizer.zero_grad()\n",
    "        loss.backward()\n",
    "        optimizer.step()\n",
    "\n",
    "        train_loss += loss.item()\n",
    "\n",
    "    # Validation phase\n",
    "    model.eval()\n",
    "    val_loss = 0.0\n",
    "    val_correct = 0\n",
    "    val_total = 0\n",
    "    with torch.no_grad():\n",
    "        for images, labels in val_loader:\n",
    "            images, labels = images.to(device), labels.to(device)\n",
    "            outputs = model(images)\n",
    "            loss = criterion(outputs, labels)\n",
    "            val_loss += loss.item()\n",
    "\n",
    "            _, predicted = torch.max(outputs, 1)\n",
    "            val_total += labels.size(0)\n",
    "            val_correct += (predicted == labels).sum().item()\n",
    "\n",
    "    val_accuracy = val_correct / val_total * 100\n",
    "    \n",
    "    # Adjust learning rate\n",
    "    scheduler.step(val_loss)\n",
    "    \n",
    "    # Calculate FLOPs after each epoch\n",
    "    with torch.no_grad():\n",
    "        flops, _ = get_model_complexity_info(model, image_input_size, as_strings=False, print_per_layer_stat=False)\n",
    "\n",
    "    # Log metrics into the DataFrame\n",
    "    new_row = {\n",
    "        \"Epoch\": epoch + 1,\n",
    "        \"Train_Loss\": train_loss / len(train_loader),\n",
    "        \"Validation_Loss\": val_loss / len(val_loader),\n",
    "        \"Validation_Accuracy\": val_accuracy,\n",
    "        \"FLOPs\": flops\n",
    "    }\n",
    "    log_df.append(new_row)\n",
    "\n",
    "    # Print metrics for this epoch\n",
    "    print(f\"Epoch [{epoch+1}/{num_epochs}], Train Loss: {train_loss / len(train_loader):.4f}, \"\n",
    "          f\"Val Loss: {val_loss / len(val_loader):.4f}, Val Accuracy: {val_accuracy:.2f}%, \"\n",
    "          f\"GFLOPs: {(flops / 1e9 ):.2f}\")\n",
    "\n",
    "    # Save the best model based on validation loss\n",
    "    if val_loss < best_val_loss:\n",
    "        best_val_loss = val_loss\n",
    "        torch.save(model.state_dict(), f\"model_outputs_data/best_{model_keyword}_model.pth\")\n",
    "\n",
    "# Calculate the total training time in seconds\n",
    "print(f\"\\nTotal Training Time: {(time.time() - start_time):.2f} seconds\")\n",
    "\n",
    "# Save the DataFrame to a CSV file for later use\n",
    "log_df = pd.DataFrame(log_df)\n",
    "log_df.to_csv(f\"model_outputs_data/model_evaluation_logs/training_logs_{model_keyword}.csv\", index=False)"
   ],
   "metadata": {
    "collapsed": false,
    "ExecuteTime": {
     "end_time": "2024-11-30T10:26:02.872227400Z",
     "start_time": "2024-11-30T09:54:18.789500300Z"
    }
   },
   "id": "a765573938f8131d"
  },
  {
   "cell_type": "markdown",
   "source": [
    "### Prediction and Model evaluation"
   ],
   "metadata": {
    "collapsed": false
   },
   "id": "a3ab8b35cd783866"
  },
  {
   "cell_type": "code",
   "execution_count": 14,
   "outputs": [
    {
     "name": "stdout",
     "output_type": "stream",
     "text": [
      "\n",
      "Test Accuracy: 93.21%\n",
      "Precision: 0.94\n",
      "Recall: 0.92\n",
      "F1-Score: 0.93\n",
      "\n",
      "Classification Report:\n",
      "                   precision    recall  f1-score   support\n",
      "\n",
      "No Internal Waves       0.92      0.94      0.93       719\n",
      "   Internal Waves       0.94      0.92      0.93       740\n",
      "\n",
      "         accuracy                           0.93      1459\n",
      "        macro avg       0.93      0.93      0.93      1459\n",
      "     weighted avg       0.93      0.93      0.93      1459\n",
      "\n",
      "\n",
      "Confusion Matrix:\n",
      "[[676  43]\n",
      " [ 56 684]]\n",
      "\n",
      " Predictions saved to model_outputs_data/model_prediction_logs/densenet121_labels_predictions.csv\n"
     ]
    }
   ],
   "source": [
    "model.eval()\n",
    "# Load the best model for testing\n",
    "# model.load_state_dict(torch.load(f\"model_outputs_data/best_{model_keyword}_model.pth\"))\n",
    "\n",
    "# Test the model\n",
    "all_labels = []\n",
    "all_preds = []\n",
    "all_probs = []\n",
    "\n",
    "with torch.no_grad():\n",
    "    for images, labels in test_loader:\n",
    "        images, labels = images.to(device), labels.to(device)\n",
    "        outputs = model(images)\n",
    "        probabilities = torch.softmax(outputs, dim=1)\n",
    "        _, predicted = torch.max(outputs, 1)\n",
    "\n",
    "        all_labels.extend(labels.cpu().numpy())\n",
    "        all_preds.extend(predicted.cpu().numpy())\n",
    "        all_probs.extend(probabilities[:, 1].cpu().numpy())\n",
    "\n",
    "# Print evaluation metrics\n",
    "calculate_evaluation_metrics(all_labels, all_preds, all_probs, model_keyword)"
   ],
   "metadata": {
    "collapsed": false,
    "ExecuteTime": {
     "end_time": "2024-11-30T10:32:05.033711800Z",
     "start_time": "2024-11-30T10:31:53.253270500Z"
    }
   },
   "id": "1cbd6ad53101af08"
  }
 ],
 "metadata": {
  "kernelspec": {
   "display_name": "Python 3",
   "language": "python",
   "name": "python3"
  },
  "language_info": {
   "codemirror_mode": {
    "name": "ipython",
    "version": 2
   },
   "file_extension": ".py",
   "mimetype": "text/x-python",
   "name": "python",
   "nbconvert_exporter": "python",
   "pygments_lexer": "ipython2",
   "version": "2.7.6"
  }
 },
 "nbformat": 4,
 "nbformat_minor": 5
}
