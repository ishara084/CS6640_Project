{
 "cells": [
  {
   "cell_type": "markdown",
   "source": [
    "# DenseNet121 (Transfer Learning)"
   ],
   "metadata": {
    "collapsed": false
   },
   "id": "21c8f23ebd8a1e35"
  },
  {
   "cell_type": "code",
   "execution_count": 2,
   "outputs": [],
   "source": [
    "import torch\n",
    "import torch.nn as nn\n",
    "import torch.optim as optim\n",
    "from torchvision import models, transforms\n",
    "from ptflops import get_model_complexity_info\n",
    "from torchsummary import summary\n",
    "import pandas as pd\n",
    "import time\n",
    "\n",
    "# Import custom utility module\n",
    "from utils import get_transform, prepare_train_test_data, calculate_evaluation_metrics"
   ],
   "metadata": {
    "collapsed": false,
    "ExecuteTime": {
     "end_time": "2024-11-22T23:03:39.365058300Z",
     "start_time": "2024-11-22T23:03:36.005309300Z"
    }
   },
   "id": "41eca1968df2ebf1"
  },
  {
   "cell_type": "code",
   "execution_count": 3,
   "outputs": [
    {
     "data": {
      "text/plain": "device(type='cuda')"
     },
     "execution_count": 3,
     "metadata": {},
     "output_type": "execute_result"
    }
   ],
   "source": [
    "# Device configuration\n",
    "device = torch.device(\"cuda\" if torch.cuda.is_available() else \"cpu\")\n",
    "device"
   ],
   "metadata": {
    "collapsed": false,
    "ExecuteTime": {
     "end_time": "2024-11-22T23:03:39.449526300Z",
     "start_time": "2024-11-22T23:03:39.366056500Z"
    }
   },
   "id": "50289ef829534d37"
  },
  {
   "cell_type": "markdown",
   "source": [
    "### Load and prepare the data"
   ],
   "metadata": {
    "collapsed": false
   },
   "id": "5d0f2326ad4f29d1"
  },
  {
   "cell_type": "code",
   "execution_count": 4,
   "outputs": [],
   "source": [
    "# Transform data\n",
    "image_input_size = (3, 256, 256) # Image input size for the model\n",
    "transform = get_transform(resize_image_size = (256, 256))\n",
    "\n",
    "# Prepare Train/Val/Test Data\n",
    "train_loader, val_loader, test_loader = prepare_train_test_data(transform)\n",
    "\n",
    "# Model keyword\n",
    "model_keyword = \"densenet121\""
   ],
   "metadata": {
    "collapsed": false,
    "ExecuteTime": {
     "end_time": "2024-11-22T23:04:01.271503900Z",
     "start_time": "2024-11-22T23:03:39.443487200Z"
    }
   },
   "id": "e754bf0570346a4d"
  },
  {
   "cell_type": "markdown",
   "source": [
    "### Load pre-trained DenseNet model and modify it"
   ],
   "metadata": {
    "collapsed": false
   },
   "id": "1ed2bf3c9fa67487"
  },
  {
   "cell_type": "code",
   "execution_count": 5,
   "outputs": [
    {
     "name": "stderr",
     "output_type": "stream",
     "text": [
      "C:\\Users\\ishar\\.virtualenvs\\ML_env\\Lib\\site-packages\\torchvision\\models\\_utils.py:208: UserWarning: The parameter 'pretrained' is deprecated since 0.13 and may be removed in the future, please use 'weights' instead.\n",
      "  warnings.warn(\n",
      "C:\\Users\\ishar\\.virtualenvs\\ML_env\\Lib\\site-packages\\torchvision\\models\\_utils.py:223: UserWarning: Arguments other than a weight enum or `None` for 'weights' are deprecated since 0.13 and may be removed in the future. The current behavior is equivalent to passing `weights=DenseNet121_Weights.IMAGENET1K_V1`. You can also use `weights=DenseNet121_Weights.DEFAULT` to get the most up-to-date weights.\n",
      "  warnings.warn(msg)\n"
     ]
    },
    {
     "ename": "AttributeError",
     "evalue": "'list' object has no attribute 'size'",
     "output_type": "error",
     "traceback": [
      "\u001B[1;31m---------------------------------------------------------------------------\u001B[0m",
      "\u001B[1;31mAttributeError\u001B[0m                            Traceback (most recent call last)",
      "Cell \u001B[1;32mIn[5], line 15\u001B[0m\n\u001B[0;32m     12\u001B[0m scheduler \u001B[38;5;241m=\u001B[39m optim\u001B[38;5;241m.\u001B[39mlr_scheduler\u001B[38;5;241m.\u001B[39mReduceLROnPlateau(optimizer, mode\u001B[38;5;241m=\u001B[39m\u001B[38;5;124m'\u001B[39m\u001B[38;5;124mmin\u001B[39m\u001B[38;5;124m'\u001B[39m, patience\u001B[38;5;241m=\u001B[39m\u001B[38;5;241m5\u001B[39m, factor\u001B[38;5;241m=\u001B[39m\u001B[38;5;241m0.1\u001B[39m) \u001B[38;5;66;03m# Implement a learning rate scheduler to adjust the learning rate during training\u001B[39;00m\n\u001B[0;32m     14\u001B[0m \u001B[38;5;66;03m# Print the summary for DenseNet121\u001B[39;00m\n\u001B[1;32m---> 15\u001B[0m \u001B[43msummary\u001B[49m\u001B[43m(\u001B[49m\u001B[43mmodel\u001B[49m\u001B[43m,\u001B[49m\u001B[43m \u001B[49m\u001B[43minput_size\u001B[49m\u001B[38;5;241;43m=\u001B[39;49m\u001B[43mimage_input_size\u001B[49m\u001B[43m,\u001B[49m\u001B[43m \u001B[49m\u001B[43mdevice\u001B[49m\u001B[38;5;241;43m=\u001B[39;49m\u001B[38;5;28;43mstr\u001B[39;49m\u001B[43m(\u001B[49m\u001B[43mdevice\u001B[49m\u001B[43m)\u001B[49m\u001B[43m)\u001B[49m\n",
      "File \u001B[1;32m~\\.virtualenvs\\ML_env\\Lib\\site-packages\\torchsummary\\torchsummary.py:72\u001B[0m, in \u001B[0;36msummary\u001B[1;34m(model, input_size, batch_size, device)\u001B[0m\n\u001B[0;32m     68\u001B[0m model\u001B[38;5;241m.\u001B[39mapply(register_hook)\n\u001B[0;32m     70\u001B[0m \u001B[38;5;66;03m# make a forward pass\u001B[39;00m\n\u001B[0;32m     71\u001B[0m \u001B[38;5;66;03m# print(x.shape)\u001B[39;00m\n\u001B[1;32m---> 72\u001B[0m \u001B[43mmodel\u001B[49m\u001B[43m(\u001B[49m\u001B[38;5;241;43m*\u001B[39;49m\u001B[43mx\u001B[49m\u001B[43m)\u001B[49m\n\u001B[0;32m     74\u001B[0m \u001B[38;5;66;03m# remove these hooks\u001B[39;00m\n\u001B[0;32m     75\u001B[0m \u001B[38;5;28;01mfor\u001B[39;00m h \u001B[38;5;129;01min\u001B[39;00m hooks:\n",
      "File \u001B[1;32m~\\.virtualenvs\\ML_env\\Lib\\site-packages\\torch\\nn\\modules\\module.py:1736\u001B[0m, in \u001B[0;36mModule._wrapped_call_impl\u001B[1;34m(self, *args, **kwargs)\u001B[0m\n\u001B[0;32m   1734\u001B[0m     \u001B[38;5;28;01mreturn\u001B[39;00m \u001B[38;5;28mself\u001B[39m\u001B[38;5;241m.\u001B[39m_compiled_call_impl(\u001B[38;5;241m*\u001B[39margs, \u001B[38;5;241m*\u001B[39m\u001B[38;5;241m*\u001B[39mkwargs)  \u001B[38;5;66;03m# type: ignore[misc]\u001B[39;00m\n\u001B[0;32m   1735\u001B[0m \u001B[38;5;28;01melse\u001B[39;00m:\n\u001B[1;32m-> 1736\u001B[0m     \u001B[38;5;28;01mreturn\u001B[39;00m \u001B[38;5;28;43mself\u001B[39;49m\u001B[38;5;241;43m.\u001B[39;49m\u001B[43m_call_impl\u001B[49m\u001B[43m(\u001B[49m\u001B[38;5;241;43m*\u001B[39;49m\u001B[43margs\u001B[49m\u001B[43m,\u001B[49m\u001B[43m \u001B[49m\u001B[38;5;241;43m*\u001B[39;49m\u001B[38;5;241;43m*\u001B[39;49m\u001B[43mkwargs\u001B[49m\u001B[43m)\u001B[49m\n",
      "File \u001B[1;32m~\\.virtualenvs\\ML_env\\Lib\\site-packages\\torch\\nn\\modules\\module.py:1747\u001B[0m, in \u001B[0;36mModule._call_impl\u001B[1;34m(self, *args, **kwargs)\u001B[0m\n\u001B[0;32m   1742\u001B[0m \u001B[38;5;66;03m# If we don't have any hooks, we want to skip the rest of the logic in\u001B[39;00m\n\u001B[0;32m   1743\u001B[0m \u001B[38;5;66;03m# this function, and just call forward.\u001B[39;00m\n\u001B[0;32m   1744\u001B[0m \u001B[38;5;28;01mif\u001B[39;00m \u001B[38;5;129;01mnot\u001B[39;00m (\u001B[38;5;28mself\u001B[39m\u001B[38;5;241m.\u001B[39m_backward_hooks \u001B[38;5;129;01mor\u001B[39;00m \u001B[38;5;28mself\u001B[39m\u001B[38;5;241m.\u001B[39m_backward_pre_hooks \u001B[38;5;129;01mor\u001B[39;00m \u001B[38;5;28mself\u001B[39m\u001B[38;5;241m.\u001B[39m_forward_hooks \u001B[38;5;129;01mor\u001B[39;00m \u001B[38;5;28mself\u001B[39m\u001B[38;5;241m.\u001B[39m_forward_pre_hooks\n\u001B[0;32m   1745\u001B[0m         \u001B[38;5;129;01mor\u001B[39;00m _global_backward_pre_hooks \u001B[38;5;129;01mor\u001B[39;00m _global_backward_hooks\n\u001B[0;32m   1746\u001B[0m         \u001B[38;5;129;01mor\u001B[39;00m _global_forward_hooks \u001B[38;5;129;01mor\u001B[39;00m _global_forward_pre_hooks):\n\u001B[1;32m-> 1747\u001B[0m     \u001B[38;5;28;01mreturn\u001B[39;00m \u001B[43mforward_call\u001B[49m\u001B[43m(\u001B[49m\u001B[38;5;241;43m*\u001B[39;49m\u001B[43margs\u001B[49m\u001B[43m,\u001B[49m\u001B[43m \u001B[49m\u001B[38;5;241;43m*\u001B[39;49m\u001B[38;5;241;43m*\u001B[39;49m\u001B[43mkwargs\u001B[49m\u001B[43m)\u001B[49m\n\u001B[0;32m   1749\u001B[0m result \u001B[38;5;241m=\u001B[39m \u001B[38;5;28;01mNone\u001B[39;00m\n\u001B[0;32m   1750\u001B[0m called_always_called_hooks \u001B[38;5;241m=\u001B[39m \u001B[38;5;28mset\u001B[39m()\n",
      "File \u001B[1;32m~\\.virtualenvs\\ML_env\\Lib\\site-packages\\torchvision\\models\\densenet.py:213\u001B[0m, in \u001B[0;36mDenseNet.forward\u001B[1;34m(self, x)\u001B[0m\n\u001B[0;32m    212\u001B[0m \u001B[38;5;28;01mdef\u001B[39;00m \u001B[38;5;21mforward\u001B[39m(\u001B[38;5;28mself\u001B[39m, x: Tensor) \u001B[38;5;241m-\u001B[39m\u001B[38;5;241m>\u001B[39m Tensor:\n\u001B[1;32m--> 213\u001B[0m     features \u001B[38;5;241m=\u001B[39m \u001B[38;5;28;43mself\u001B[39;49m\u001B[38;5;241;43m.\u001B[39;49m\u001B[43mfeatures\u001B[49m\u001B[43m(\u001B[49m\u001B[43mx\u001B[49m\u001B[43m)\u001B[49m\n\u001B[0;32m    214\u001B[0m     out \u001B[38;5;241m=\u001B[39m F\u001B[38;5;241m.\u001B[39mrelu(features, inplace\u001B[38;5;241m=\u001B[39m\u001B[38;5;28;01mTrue\u001B[39;00m)\n\u001B[0;32m    215\u001B[0m     out \u001B[38;5;241m=\u001B[39m F\u001B[38;5;241m.\u001B[39madaptive_avg_pool2d(out, (\u001B[38;5;241m1\u001B[39m, \u001B[38;5;241m1\u001B[39m))\n",
      "File \u001B[1;32m~\\.virtualenvs\\ML_env\\Lib\\site-packages\\torch\\nn\\modules\\module.py:1736\u001B[0m, in \u001B[0;36mModule._wrapped_call_impl\u001B[1;34m(self, *args, **kwargs)\u001B[0m\n\u001B[0;32m   1734\u001B[0m     \u001B[38;5;28;01mreturn\u001B[39;00m \u001B[38;5;28mself\u001B[39m\u001B[38;5;241m.\u001B[39m_compiled_call_impl(\u001B[38;5;241m*\u001B[39margs, \u001B[38;5;241m*\u001B[39m\u001B[38;5;241m*\u001B[39mkwargs)  \u001B[38;5;66;03m# type: ignore[misc]\u001B[39;00m\n\u001B[0;32m   1735\u001B[0m \u001B[38;5;28;01melse\u001B[39;00m:\n\u001B[1;32m-> 1736\u001B[0m     \u001B[38;5;28;01mreturn\u001B[39;00m \u001B[38;5;28;43mself\u001B[39;49m\u001B[38;5;241;43m.\u001B[39;49m\u001B[43m_call_impl\u001B[49m\u001B[43m(\u001B[49m\u001B[38;5;241;43m*\u001B[39;49m\u001B[43margs\u001B[49m\u001B[43m,\u001B[49m\u001B[43m \u001B[49m\u001B[38;5;241;43m*\u001B[39;49m\u001B[38;5;241;43m*\u001B[39;49m\u001B[43mkwargs\u001B[49m\u001B[43m)\u001B[49m\n",
      "File \u001B[1;32m~\\.virtualenvs\\ML_env\\Lib\\site-packages\\torch\\nn\\modules\\module.py:1747\u001B[0m, in \u001B[0;36mModule._call_impl\u001B[1;34m(self, *args, **kwargs)\u001B[0m\n\u001B[0;32m   1742\u001B[0m \u001B[38;5;66;03m# If we don't have any hooks, we want to skip the rest of the logic in\u001B[39;00m\n\u001B[0;32m   1743\u001B[0m \u001B[38;5;66;03m# this function, and just call forward.\u001B[39;00m\n\u001B[0;32m   1744\u001B[0m \u001B[38;5;28;01mif\u001B[39;00m \u001B[38;5;129;01mnot\u001B[39;00m (\u001B[38;5;28mself\u001B[39m\u001B[38;5;241m.\u001B[39m_backward_hooks \u001B[38;5;129;01mor\u001B[39;00m \u001B[38;5;28mself\u001B[39m\u001B[38;5;241m.\u001B[39m_backward_pre_hooks \u001B[38;5;129;01mor\u001B[39;00m \u001B[38;5;28mself\u001B[39m\u001B[38;5;241m.\u001B[39m_forward_hooks \u001B[38;5;129;01mor\u001B[39;00m \u001B[38;5;28mself\u001B[39m\u001B[38;5;241m.\u001B[39m_forward_pre_hooks\n\u001B[0;32m   1745\u001B[0m         \u001B[38;5;129;01mor\u001B[39;00m _global_backward_pre_hooks \u001B[38;5;129;01mor\u001B[39;00m _global_backward_hooks\n\u001B[0;32m   1746\u001B[0m         \u001B[38;5;129;01mor\u001B[39;00m _global_forward_hooks \u001B[38;5;129;01mor\u001B[39;00m _global_forward_pre_hooks):\n\u001B[1;32m-> 1747\u001B[0m     \u001B[38;5;28;01mreturn\u001B[39;00m \u001B[43mforward_call\u001B[49m\u001B[43m(\u001B[49m\u001B[38;5;241;43m*\u001B[39;49m\u001B[43margs\u001B[49m\u001B[43m,\u001B[49m\u001B[43m \u001B[49m\u001B[38;5;241;43m*\u001B[39;49m\u001B[38;5;241;43m*\u001B[39;49m\u001B[43mkwargs\u001B[49m\u001B[43m)\u001B[49m\n\u001B[0;32m   1749\u001B[0m result \u001B[38;5;241m=\u001B[39m \u001B[38;5;28;01mNone\u001B[39;00m\n\u001B[0;32m   1750\u001B[0m called_always_called_hooks \u001B[38;5;241m=\u001B[39m \u001B[38;5;28mset\u001B[39m()\n",
      "File \u001B[1;32m~\\.virtualenvs\\ML_env\\Lib\\site-packages\\torch\\nn\\modules\\container.py:250\u001B[0m, in \u001B[0;36mSequential.forward\u001B[1;34m(self, input)\u001B[0m\n\u001B[0;32m    248\u001B[0m \u001B[38;5;28;01mdef\u001B[39;00m \u001B[38;5;21mforward\u001B[39m(\u001B[38;5;28mself\u001B[39m, \u001B[38;5;28minput\u001B[39m):\n\u001B[0;32m    249\u001B[0m     \u001B[38;5;28;01mfor\u001B[39;00m module \u001B[38;5;129;01min\u001B[39;00m \u001B[38;5;28mself\u001B[39m:\n\u001B[1;32m--> 250\u001B[0m         \u001B[38;5;28minput\u001B[39m \u001B[38;5;241m=\u001B[39m \u001B[43mmodule\u001B[49m\u001B[43m(\u001B[49m\u001B[38;5;28;43minput\u001B[39;49m\u001B[43m)\u001B[49m\n\u001B[0;32m    251\u001B[0m     \u001B[38;5;28;01mreturn\u001B[39;00m \u001B[38;5;28minput\u001B[39m\n",
      "File \u001B[1;32m~\\.virtualenvs\\ML_env\\Lib\\site-packages\\torch\\nn\\modules\\module.py:1736\u001B[0m, in \u001B[0;36mModule._wrapped_call_impl\u001B[1;34m(self, *args, **kwargs)\u001B[0m\n\u001B[0;32m   1734\u001B[0m     \u001B[38;5;28;01mreturn\u001B[39;00m \u001B[38;5;28mself\u001B[39m\u001B[38;5;241m.\u001B[39m_compiled_call_impl(\u001B[38;5;241m*\u001B[39margs, \u001B[38;5;241m*\u001B[39m\u001B[38;5;241m*\u001B[39mkwargs)  \u001B[38;5;66;03m# type: ignore[misc]\u001B[39;00m\n\u001B[0;32m   1735\u001B[0m \u001B[38;5;28;01melse\u001B[39;00m:\n\u001B[1;32m-> 1736\u001B[0m     \u001B[38;5;28;01mreturn\u001B[39;00m \u001B[38;5;28;43mself\u001B[39;49m\u001B[38;5;241;43m.\u001B[39;49m\u001B[43m_call_impl\u001B[49m\u001B[43m(\u001B[49m\u001B[38;5;241;43m*\u001B[39;49m\u001B[43margs\u001B[49m\u001B[43m,\u001B[49m\u001B[43m \u001B[49m\u001B[38;5;241;43m*\u001B[39;49m\u001B[38;5;241;43m*\u001B[39;49m\u001B[43mkwargs\u001B[49m\u001B[43m)\u001B[49m\n",
      "File \u001B[1;32m~\\.virtualenvs\\ML_env\\Lib\\site-packages\\torch\\nn\\modules\\module.py:1844\u001B[0m, in \u001B[0;36mModule._call_impl\u001B[1;34m(self, *args, **kwargs)\u001B[0m\n\u001B[0;32m   1841\u001B[0m     \u001B[38;5;28;01mreturn\u001B[39;00m inner()\n\u001B[0;32m   1843\u001B[0m \u001B[38;5;28;01mtry\u001B[39;00m:\n\u001B[1;32m-> 1844\u001B[0m     \u001B[38;5;28;01mreturn\u001B[39;00m \u001B[43minner\u001B[49m\u001B[43m(\u001B[49m\u001B[43m)\u001B[49m\n\u001B[0;32m   1845\u001B[0m \u001B[38;5;28;01mexcept\u001B[39;00m \u001B[38;5;167;01mException\u001B[39;00m:\n\u001B[0;32m   1846\u001B[0m     \u001B[38;5;66;03m# run always called hooks if they have not already been run\u001B[39;00m\n\u001B[0;32m   1847\u001B[0m     \u001B[38;5;66;03m# For now only forward hooks have the always_call option but perhaps\u001B[39;00m\n\u001B[0;32m   1848\u001B[0m     \u001B[38;5;66;03m# this functionality should be added to full backward hooks as well.\u001B[39;00m\n\u001B[0;32m   1849\u001B[0m     \u001B[38;5;28;01mfor\u001B[39;00m hook_id, hook \u001B[38;5;129;01min\u001B[39;00m _global_forward_hooks\u001B[38;5;241m.\u001B[39mitems():\n",
      "File \u001B[1;32m~\\.virtualenvs\\ML_env\\Lib\\site-packages\\torch\\nn\\modules\\module.py:1790\u001B[0m, in \u001B[0;36mModule._call_impl.<locals>.inner\u001B[1;34m()\u001B[0m\n\u001B[0;32m   1787\u001B[0m     bw_hook \u001B[38;5;241m=\u001B[39m BackwardHook(\u001B[38;5;28mself\u001B[39m, full_backward_hooks, backward_pre_hooks)\n\u001B[0;32m   1788\u001B[0m     args \u001B[38;5;241m=\u001B[39m bw_hook\u001B[38;5;241m.\u001B[39msetup_input_hook(args)\n\u001B[1;32m-> 1790\u001B[0m result \u001B[38;5;241m=\u001B[39m \u001B[43mforward_call\u001B[49m\u001B[43m(\u001B[49m\u001B[38;5;241;43m*\u001B[39;49m\u001B[43margs\u001B[49m\u001B[43m,\u001B[49m\u001B[43m \u001B[49m\u001B[38;5;241;43m*\u001B[39;49m\u001B[38;5;241;43m*\u001B[39;49m\u001B[43mkwargs\u001B[49m\u001B[43m)\u001B[49m\n\u001B[0;32m   1791\u001B[0m \u001B[38;5;28;01mif\u001B[39;00m _global_forward_hooks \u001B[38;5;129;01mor\u001B[39;00m \u001B[38;5;28mself\u001B[39m\u001B[38;5;241m.\u001B[39m_forward_hooks:\n\u001B[0;32m   1792\u001B[0m     \u001B[38;5;28;01mfor\u001B[39;00m hook_id, hook \u001B[38;5;129;01min\u001B[39;00m (\n\u001B[0;32m   1793\u001B[0m         \u001B[38;5;241m*\u001B[39m_global_forward_hooks\u001B[38;5;241m.\u001B[39mitems(),\n\u001B[0;32m   1794\u001B[0m         \u001B[38;5;241m*\u001B[39m\u001B[38;5;28mself\u001B[39m\u001B[38;5;241m.\u001B[39m_forward_hooks\u001B[38;5;241m.\u001B[39mitems(),\n\u001B[0;32m   1795\u001B[0m     ):\n\u001B[0;32m   1796\u001B[0m         \u001B[38;5;66;03m# mark that always called hook is run\u001B[39;00m\n",
      "File \u001B[1;32m~\\.virtualenvs\\ML_env\\Lib\\site-packages\\torchvision\\models\\densenet.py:122\u001B[0m, in \u001B[0;36m_DenseBlock.forward\u001B[1;34m(self, init_features)\u001B[0m\n\u001B[0;32m    120\u001B[0m features \u001B[38;5;241m=\u001B[39m [init_features]\n\u001B[0;32m    121\u001B[0m \u001B[38;5;28;01mfor\u001B[39;00m name, layer \u001B[38;5;129;01min\u001B[39;00m \u001B[38;5;28mself\u001B[39m\u001B[38;5;241m.\u001B[39mitems():\n\u001B[1;32m--> 122\u001B[0m     new_features \u001B[38;5;241m=\u001B[39m \u001B[43mlayer\u001B[49m\u001B[43m(\u001B[49m\u001B[43mfeatures\u001B[49m\u001B[43m)\u001B[49m\n\u001B[0;32m    123\u001B[0m     features\u001B[38;5;241m.\u001B[39mappend(new_features)\n\u001B[0;32m    124\u001B[0m \u001B[38;5;28;01mreturn\u001B[39;00m torch\u001B[38;5;241m.\u001B[39mcat(features, \u001B[38;5;241m1\u001B[39m)\n",
      "File \u001B[1;32m~\\.virtualenvs\\ML_env\\Lib\\site-packages\\torch\\nn\\modules\\module.py:1736\u001B[0m, in \u001B[0;36mModule._wrapped_call_impl\u001B[1;34m(self, *args, **kwargs)\u001B[0m\n\u001B[0;32m   1734\u001B[0m     \u001B[38;5;28;01mreturn\u001B[39;00m \u001B[38;5;28mself\u001B[39m\u001B[38;5;241m.\u001B[39m_compiled_call_impl(\u001B[38;5;241m*\u001B[39margs, \u001B[38;5;241m*\u001B[39m\u001B[38;5;241m*\u001B[39mkwargs)  \u001B[38;5;66;03m# type: ignore[misc]\u001B[39;00m\n\u001B[0;32m   1735\u001B[0m \u001B[38;5;28;01melse\u001B[39;00m:\n\u001B[1;32m-> 1736\u001B[0m     \u001B[38;5;28;01mreturn\u001B[39;00m \u001B[38;5;28;43mself\u001B[39;49m\u001B[38;5;241;43m.\u001B[39;49m\u001B[43m_call_impl\u001B[49m\u001B[43m(\u001B[49m\u001B[38;5;241;43m*\u001B[39;49m\u001B[43margs\u001B[49m\u001B[43m,\u001B[49m\u001B[43m \u001B[49m\u001B[38;5;241;43m*\u001B[39;49m\u001B[38;5;241;43m*\u001B[39;49m\u001B[43mkwargs\u001B[49m\u001B[43m)\u001B[49m\n",
      "File \u001B[1;32m~\\.virtualenvs\\ML_env\\Lib\\site-packages\\torch\\nn\\modules\\module.py:1844\u001B[0m, in \u001B[0;36mModule._call_impl\u001B[1;34m(self, *args, **kwargs)\u001B[0m\n\u001B[0;32m   1841\u001B[0m     \u001B[38;5;28;01mreturn\u001B[39;00m inner()\n\u001B[0;32m   1843\u001B[0m \u001B[38;5;28;01mtry\u001B[39;00m:\n\u001B[1;32m-> 1844\u001B[0m     \u001B[38;5;28;01mreturn\u001B[39;00m \u001B[43minner\u001B[49m\u001B[43m(\u001B[49m\u001B[43m)\u001B[49m\n\u001B[0;32m   1845\u001B[0m \u001B[38;5;28;01mexcept\u001B[39;00m \u001B[38;5;167;01mException\u001B[39;00m:\n\u001B[0;32m   1846\u001B[0m     \u001B[38;5;66;03m# run always called hooks if they have not already been run\u001B[39;00m\n\u001B[0;32m   1847\u001B[0m     \u001B[38;5;66;03m# For now only forward hooks have the always_call option but perhaps\u001B[39;00m\n\u001B[0;32m   1848\u001B[0m     \u001B[38;5;66;03m# this functionality should be added to full backward hooks as well.\u001B[39;00m\n\u001B[0;32m   1849\u001B[0m     \u001B[38;5;28;01mfor\u001B[39;00m hook_id, hook \u001B[38;5;129;01min\u001B[39;00m _global_forward_hooks\u001B[38;5;241m.\u001B[39mitems():\n",
      "File \u001B[1;32m~\\.virtualenvs\\ML_env\\Lib\\site-packages\\torch\\nn\\modules\\module.py:1803\u001B[0m, in \u001B[0;36mModule._call_impl.<locals>.inner\u001B[1;34m()\u001B[0m\n\u001B[0;32m   1801\u001B[0m     hook_result \u001B[38;5;241m=\u001B[39m hook(\u001B[38;5;28mself\u001B[39m, args, kwargs, result)\n\u001B[0;32m   1802\u001B[0m \u001B[38;5;28;01melse\u001B[39;00m:\n\u001B[1;32m-> 1803\u001B[0m     hook_result \u001B[38;5;241m=\u001B[39m \u001B[43mhook\u001B[49m\u001B[43m(\u001B[49m\u001B[38;5;28;43mself\u001B[39;49m\u001B[43m,\u001B[49m\u001B[43m \u001B[49m\u001B[43margs\u001B[49m\u001B[43m,\u001B[49m\u001B[43m \u001B[49m\u001B[43mresult\u001B[49m\u001B[43m)\u001B[49m\n\u001B[0;32m   1805\u001B[0m \u001B[38;5;28;01mif\u001B[39;00m hook_result \u001B[38;5;129;01mis\u001B[39;00m \u001B[38;5;129;01mnot\u001B[39;00m \u001B[38;5;28;01mNone\u001B[39;00m:\n\u001B[0;32m   1806\u001B[0m     result \u001B[38;5;241m=\u001B[39m hook_result\n",
      "File \u001B[1;32m~\\.virtualenvs\\ML_env\\Lib\\site-packages\\torchsummary\\torchsummary.py:19\u001B[0m, in \u001B[0;36msummary.<locals>.register_hook.<locals>.hook\u001B[1;34m(module, input, output)\u001B[0m\n\u001B[0;32m     17\u001B[0m m_key \u001B[38;5;241m=\u001B[39m \u001B[38;5;124m\"\u001B[39m\u001B[38;5;132;01m%s\u001B[39;00m\u001B[38;5;124m-\u001B[39m\u001B[38;5;132;01m%i\u001B[39;00m\u001B[38;5;124m\"\u001B[39m \u001B[38;5;241m%\u001B[39m (class_name, module_idx \u001B[38;5;241m+\u001B[39m \u001B[38;5;241m1\u001B[39m)\n\u001B[0;32m     18\u001B[0m summary[m_key] \u001B[38;5;241m=\u001B[39m OrderedDict()\n\u001B[1;32m---> 19\u001B[0m summary[m_key][\u001B[38;5;124m\"\u001B[39m\u001B[38;5;124minput_shape\u001B[39m\u001B[38;5;124m\"\u001B[39m] \u001B[38;5;241m=\u001B[39m \u001B[38;5;28mlist\u001B[39m(\u001B[38;5;28;43minput\u001B[39;49m\u001B[43m[\u001B[49m\u001B[38;5;241;43m0\u001B[39;49m\u001B[43m]\u001B[49m\u001B[38;5;241;43m.\u001B[39;49m\u001B[43msize\u001B[49m())\n\u001B[0;32m     20\u001B[0m summary[m_key][\u001B[38;5;124m\"\u001B[39m\u001B[38;5;124minput_shape\u001B[39m\u001B[38;5;124m\"\u001B[39m][\u001B[38;5;241m0\u001B[39m] \u001B[38;5;241m=\u001B[39m batch_size\n\u001B[0;32m     21\u001B[0m \u001B[38;5;28;01mif\u001B[39;00m \u001B[38;5;28misinstance\u001B[39m(output, (\u001B[38;5;28mlist\u001B[39m, \u001B[38;5;28mtuple\u001B[39m)):\n",
      "\u001B[1;31mAttributeError\u001B[0m: 'list' object has no attribute 'size'"
     ]
    }
   ],
   "source": [
    "# Load DenseNet121 model\n",
    "model = models.densenet121(pretrained=True)\n",
    "\n",
    "# Modify the classifier for binary classification\n",
    "num_features = model.classifier.in_features\n",
    "model.classifier = nn.Linear(num_features, 2)  # Binary classification: Internal waves (1) or No waves (0)\n",
    "model = model.to(device)\n",
    "\n",
    "# Define loss function and optimizer\n",
    "criterion = nn.CrossEntropyLoss()\n",
    "optimizer = optim.Adam(model.parameters(), lr=0.001)\n",
    "scheduler = optim.lr_scheduler.ReduceLROnPlateau(optimizer, mode='min', patience=5, factor=0.1) # Implement a learning rate scheduler to adjust the learning rate during training\n",
    "\n",
    "# Print the summary for DenseNet121\n",
    "summary(model, input_size=image_input_size, device=str(device))"
   ],
   "metadata": {
    "collapsed": false,
    "ExecuteTime": {
     "end_time": "2024-11-22T23:04:02.206811200Z",
     "start_time": "2024-11-22T23:04:01.272505400Z"
    }
   },
   "id": "a6b7d18da9b9231b"
  },
  {
   "cell_type": "markdown",
   "source": [
    "### Train the model"
   ],
   "metadata": {
    "collapsed": false
   },
   "id": "452a3507cab1d33f"
  },
  {
   "cell_type": "code",
   "execution_count": 29,
   "outputs": [
    {
     "name": "stdout",
     "output_type": "stream",
     "text": [
      "Epoch [1/50], Train Loss: 0.4666, Val Loss: 0.4803, Val Accuracy: 81.20%, GFLOPs: 3.79\n",
      "Epoch [2/50], Train Loss: 0.3745, Val Loss: 0.4637, Val Accuracy: 82.23%, GFLOPs: 3.79\n",
      "Epoch [3/50], Train Loss: 0.3333, Val Loss: 0.3569, Val Accuracy: 84.43%, GFLOPs: 3.79\n",
      "Epoch [4/50], Train Loss: 0.2823, Val Loss: 0.2738, Val Accuracy: 88.55%, GFLOPs: 3.79\n",
      "Epoch [5/50], Train Loss: 0.2140, Val Loss: 0.3419, Val Accuracy: 87.52%, GFLOPs: 3.79\n",
      "Epoch [6/50], Train Loss: 0.2377, Val Loss: 0.2293, Val Accuracy: 92.80%, GFLOPs: 3.79\n",
      "Epoch [7/50], Train Loss: 0.2097, Val Loss: 0.3397, Val Accuracy: 87.67%, GFLOPs: 3.79\n",
      "Epoch [8/50], Train Loss: 0.1587, Val Loss: 0.2535, Val Accuracy: 91.48%, GFLOPs: 3.79\n",
      "Epoch [9/50], Train Loss: 0.1774, Val Loss: 0.3036, Val Accuracy: 88.11%, GFLOPs: 3.79\n",
      "Epoch [10/50], Train Loss: 0.1504, Val Loss: 0.2426, Val Accuracy: 91.48%, GFLOPs: 3.79\n",
      "Epoch [11/50], Train Loss: 0.1112, Val Loss: 0.2438, Val Accuracy: 90.75%, GFLOPs: 3.79\n",
      "Epoch [12/50], Train Loss: 0.0826, Val Loss: 0.2838, Val Accuracy: 91.04%, GFLOPs: 3.79\n",
      "Epoch [13/50], Train Loss: 0.0617, Val Loss: 0.1893, Val Accuracy: 93.54%, GFLOPs: 3.79\n",
      "Epoch [14/50], Train Loss: 0.0340, Val Loss: 0.1736, Val Accuracy: 94.27%, GFLOPs: 3.79\n",
      "Epoch [15/50], Train Loss: 0.0208, Val Loss: 0.1795, Val Accuracy: 94.42%, GFLOPs: 3.79\n",
      "Epoch [16/50], Train Loss: 0.0155, Val Loss: 0.1705, Val Accuracy: 94.42%, GFLOPs: 3.79\n",
      "Epoch [17/50], Train Loss: 0.0152, Val Loss: 0.1748, Val Accuracy: 94.42%, GFLOPs: 3.79\n",
      "Epoch [18/50], Train Loss: 0.0092, Val Loss: 0.1665, Val Accuracy: 94.86%, GFLOPs: 3.79\n",
      "Epoch [19/50], Train Loss: 0.0068, Val Loss: 0.1805, Val Accuracy: 94.57%, GFLOPs: 3.79\n",
      "Epoch [20/50], Train Loss: 0.0083, Val Loss: 0.1879, Val Accuracy: 94.57%, GFLOPs: 3.79\n",
      "Epoch [21/50], Train Loss: 0.0062, Val Loss: 0.1817, Val Accuracy: 94.86%, GFLOPs: 3.79\n",
      "Epoch [22/50], Train Loss: 0.0051, Val Loss: 0.1960, Val Accuracy: 94.13%, GFLOPs: 3.79\n",
      "Epoch [23/50], Train Loss: 0.0058, Val Loss: 0.1978, Val Accuracy: 93.83%, GFLOPs: 3.79\n",
      "Epoch [24/50], Train Loss: 0.0123, Val Loss: 0.1935, Val Accuracy: 94.27%, GFLOPs: 3.79\n",
      "Epoch [25/50], Train Loss: 0.0045, Val Loss: 0.2049, Val Accuracy: 93.98%, GFLOPs: 3.79\n",
      "Epoch [26/50], Train Loss: 0.0040, Val Loss: 0.1989, Val Accuracy: 94.27%, GFLOPs: 3.79\n",
      "Epoch [27/50], Train Loss: 0.0044, Val Loss: 0.1970, Val Accuracy: 94.71%, GFLOPs: 3.79\n",
      "Epoch [28/50], Train Loss: 0.0063, Val Loss: 0.1969, Val Accuracy: 94.71%, GFLOPs: 3.79\n",
      "Epoch [29/50], Train Loss: 0.0029, Val Loss: 0.1911, Val Accuracy: 94.71%, GFLOPs: 3.79\n",
      "Epoch [30/50], Train Loss: 0.0027, Val Loss: 0.1961, Val Accuracy: 94.71%, GFLOPs: 3.79\n",
      "Epoch [31/50], Train Loss: 0.0039, Val Loss: 0.1910, Val Accuracy: 94.71%, GFLOPs: 3.79\n",
      "Epoch [32/50], Train Loss: 0.0059, Val Loss: 0.1942, Val Accuracy: 95.01%, GFLOPs: 3.79\n",
      "Epoch [33/50], Train Loss: 0.0022, Val Loss: 0.1877, Val Accuracy: 95.01%, GFLOPs: 3.79\n",
      "Epoch [34/50], Train Loss: 0.0053, Val Loss: 0.1917, Val Accuracy: 95.01%, GFLOPs: 3.79\n",
      "Epoch [35/50], Train Loss: 0.0034, Val Loss: 0.1910, Val Accuracy: 95.01%, GFLOPs: 3.79\n",
      "Epoch [36/50], Train Loss: 0.0026, Val Loss: 0.1894, Val Accuracy: 95.15%, GFLOPs: 3.79\n",
      "Epoch [37/50], Train Loss: 0.0041, Val Loss: 0.1928, Val Accuracy: 95.01%, GFLOPs: 3.79\n",
      "Epoch [38/50], Train Loss: 0.0028, Val Loss: 0.1899, Val Accuracy: 95.30%, GFLOPs: 3.79\n",
      "Epoch [39/50], Train Loss: 0.0069, Val Loss: 0.1870, Val Accuracy: 95.30%, GFLOPs: 3.79\n",
      "Epoch [40/50], Train Loss: 0.0031, Val Loss: 0.1893, Val Accuracy: 95.01%, GFLOPs: 3.79\n",
      "Epoch [41/50], Train Loss: 0.0066, Val Loss: 0.1943, Val Accuracy: 94.27%, GFLOPs: 3.79\n",
      "Epoch [42/50], Train Loss: 0.0056, Val Loss: 0.2115, Val Accuracy: 93.98%, GFLOPs: 3.79\n",
      "Epoch [43/50], Train Loss: 0.0038, Val Loss: 0.1910, Val Accuracy: 94.86%, GFLOPs: 3.79\n",
      "Epoch [44/50], Train Loss: 0.0048, Val Loss: 0.1907, Val Accuracy: 95.15%, GFLOPs: 3.79\n",
      "Epoch [45/50], Train Loss: 0.0051, Val Loss: 0.1889, Val Accuracy: 95.15%, GFLOPs: 3.79\n",
      "Epoch [46/50], Train Loss: 0.0047, Val Loss: 0.2010, Val Accuracy: 94.27%, GFLOPs: 3.79\n",
      "Epoch [47/50], Train Loss: 0.0021, Val Loss: 0.2003, Val Accuracy: 94.27%, GFLOPs: 3.79\n",
      "Epoch [48/50], Train Loss: 0.0029, Val Loss: 0.1984, Val Accuracy: 94.71%, GFLOPs: 3.79\n",
      "Epoch [49/50], Train Loss: 0.0034, Val Loss: 0.1981, Val Accuracy: 94.42%, GFLOPs: 3.79\n",
      "Epoch [50/50], Train Loss: 0.0037, Val Loss: 0.2098, Val Accuracy: 94.27%, GFLOPs: 3.79\n",
      "\n",
      "Total Training Time: 2273.48 seconds\n"
     ]
    }
   ],
   "source": [
    "# Initialize a DataFrame to log training/validation metrics\n",
    "log_df = []\n",
    "\n",
    "# Record the start time\n",
    "start_time = time.time()\n",
    "\n",
    "# Training loop\n",
    "num_epochs = 50\n",
    "best_val_loss = float('inf')  # Initialize best validation loss for saving the model\n",
    "\n",
    "for epoch in range(num_epochs):\n",
    "    # Training phase\n",
    "    model.train()\n",
    "    train_loss = 0.0\n",
    "\n",
    "    for images, labels in train_loader:\n",
    "        images, labels = images.to(device), labels.to(device)\n",
    "\n",
    "        # Forward pass\n",
    "        outputs = model(images)\n",
    "        loss = criterion(outputs, labels)\n",
    "\n",
    "        # Backward pass and optimization\n",
    "        optimizer.zero_grad()\n",
    "        loss.backward()\n",
    "        optimizer.step()\n",
    "\n",
    "        train_loss += loss.item()\n",
    "\n",
    "    # Validation phase\n",
    "    model.eval()\n",
    "    val_loss = 0.0\n",
    "    val_correct = 0\n",
    "    val_total = 0\n",
    "    with torch.no_grad():\n",
    "        for images, labels in val_loader:\n",
    "            images, labels = images.to(device), labels.to(device)\n",
    "            outputs = model(images)\n",
    "            loss = criterion(outputs, labels)\n",
    "            val_loss += loss.item()\n",
    "\n",
    "            _, predicted = torch.max(outputs, 1)\n",
    "            val_total += labels.size(0)\n",
    "            val_correct += (predicted == labels).sum().item()\n",
    "\n",
    "    val_accuracy = val_correct / val_total * 100\n",
    "    \n",
    "    # Adjust learning rate\n",
    "    scheduler.step(val_loss)\n",
    "    \n",
    "    # Calculate FLOPs after each epoch\n",
    "    with torch.no_grad():\n",
    "        flops, _ = get_model_complexity_info(model, image_input_size, as_strings=False, print_per_layer_stat=False)\n",
    "\n",
    "    # Log metrics into the DataFrame\n",
    "    new_row = {\n",
    "        \"Epoch\": epoch + 1,\n",
    "        \"Train_Loss\": train_loss / len(train_loader),\n",
    "        \"Validation_Loss\": val_loss / len(val_loader),\n",
    "        \"Validation_Accuracy\": val_accuracy,\n",
    "        \"FLOPs\": flops\n",
    "    }\n",
    "    log_df.append(new_row)\n",
    "\n",
    "    # Print metrics for this epoch\n",
    "    print(f\"Epoch [{epoch+1}/{num_epochs}], Train Loss: {train_loss / len(train_loader):.4f}, \"\n",
    "          f\"Val Loss: {val_loss / len(val_loader):.4f}, Val Accuracy: {val_accuracy:.2f}%, \"\n",
    "          f\"GFLOPs: {(flops / 1e9 ):.2f}\")\n",
    "\n",
    "    # Save the best model based on validation loss\n",
    "    if val_loss < best_val_loss:\n",
    "        best_val_loss = val_loss\n",
    "        torch.save(model.state_dict(), \"model_outputs_data/best_densenet121_model.pth\")\n",
    "\n",
    "# Calculate the total training time in seconds\n",
    "print(f\"\\nTotal Training Time: {(time.time() - start_time):.2f} seconds\")\n",
    "\n",
    "# Save the DataFrame to a CSV file for later use\n",
    "log_df = pd.DataFrame(log_df)\n",
    "log_df.to_csv(\"model_outputs_data/model_evaluation_logs/training_logs_densenet121.csv\", index=False)"
   ],
   "metadata": {
    "collapsed": false,
    "ExecuteTime": {
     "end_time": "2024-11-22T06:46:41.317548200Z",
     "start_time": "2024-11-22T06:08:47.826881300Z"
    }
   },
   "id": "a765573938f8131d"
  },
  {
   "cell_type": "markdown",
   "source": [
    "### Prediction and Model evaluation"
   ],
   "metadata": {
    "collapsed": false
   },
   "id": "a3ab8b35cd783866"
  },
  {
   "cell_type": "code",
   "execution_count": 30,
   "outputs": [
    {
     "name": "stdout",
     "output_type": "stream",
     "text": [
      "\n",
      "Test Accuracy: 93.63%\n",
      "Precision: 0.95\n",
      "Recall: 0.92\n",
      "F1-Score: 0.94\n",
      "\n",
      "Classification Report:\n",
      "                   precision    recall  f1-score   support\n",
      "\n",
      "No Internal Waves       0.92      0.95      0.94       719\n",
      "   Internal Waves       0.95      0.92      0.94       740\n",
      "\n",
      "         accuracy                           0.94      1459\n",
      "        macro avg       0.94      0.94      0.94      1459\n",
      "     weighted avg       0.94      0.94      0.94      1459\n",
      "\n",
      "\n",
      "Confusion Matrix:\n",
      "[[685  34]\n",
      " [ 59 681]]\n",
      "Predictions saved to model_outputs_data/model_prediction_logs/densenet121_labels_predictions.csv\n"
     ]
    }
   ],
   "source": [
    "model.eval()\n",
    "# Load the best model for testing\n",
    "# model.load_state_dict(torch.load(\"model_outputs_data/best_densenet121_model.pth\"))\n",
    "\n",
    "# Test the model\n",
    "all_labels = []\n",
    "all_preds = []\n",
    "\n",
    "with torch.no_grad():\n",
    "    for images, labels in test_loader:\n",
    "        images, labels = images.to(device), labels.to(device)\n",
    "        outputs = model(images)\n",
    "        _, predicted = torch.max(outputs, 1)\n",
    "\n",
    "        all_labels.extend(labels.cpu().numpy())\n",
    "        all_preds.extend(predicted.cpu().numpy())\n",
    "\n",
    "# Print evaluation metrics\n",
    "calculate_evaluation_metrics(all_labels, all_preds, model_keyword)"
   ],
   "metadata": {
    "collapsed": false,
    "ExecuteTime": {
     "end_time": "2024-11-22T06:46:54.501396400Z",
     "start_time": "2024-11-22T06:46:41.312199700Z"
    }
   },
   "id": "1cbd6ad53101af08"
  }
 ],
 "metadata": {
  "kernelspec": {
   "display_name": "Python 3",
   "language": "python",
   "name": "python3"
  },
  "language_info": {
   "codemirror_mode": {
    "name": "ipython",
    "version": 2
   },
   "file_extension": ".py",
   "mimetype": "text/x-python",
   "name": "python",
   "nbconvert_exporter": "python",
   "pygments_lexer": "ipython2",
   "version": "2.7.6"
  }
 },
 "nbformat": 4,
 "nbformat_minor": 5
}
