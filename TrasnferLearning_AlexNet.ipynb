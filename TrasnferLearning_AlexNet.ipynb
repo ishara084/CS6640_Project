{
 "cells": [
  {
   "cell_type": "markdown",
   "id": "2a61cdd4fcf34165",
   "metadata": {
    "collapsed": false
   },
   "source": [
    "# AlexNet (Transfer Learning)"
   ]
  },
  {
   "cell_type": "code",
   "execution_count": 26,
   "outputs": [],
   "source": [
    "import torch\n",
    "import torchvision.models as models\n",
    "from torch import nn, optim\n",
    "from torchvision import transforms\n",
    "from torch.utils.data import DataLoader, random_split\n",
    "from torchsummary import summary\n",
    "import pandas as pd\n",
    "from sklearn.metrics import accuracy_score, precision_score, recall_score, f1_score, classification_report, confusion_matrix\n",
    "from PIL import Image\n",
    "import matplotlib.pyplot as plt\n",
    "from ptflops import get_model_complexity_info\n",
    "import time\n",
    "\n",
    "# Import custom utility module\n",
    "from utils import get_transform, prepare_train_test_data, calculate_evaluation_metrics"
   ],
   "metadata": {
    "collapsed": false,
    "ExecuteTime": {
     "end_time": "2024-11-30T18:47:11.820706700Z",
     "start_time": "2024-11-30T18:47:11.800667Z"
    }
   },
   "id": "3a21c456bcaf905b"
  },
  {
   "cell_type": "code",
   "execution_count": 27,
   "outputs": [
    {
     "name": "stdout",
     "output_type": "stream",
     "text": [
      "\n",
      " Device : cuda\n"
     ]
    }
   ],
   "source": [
    "# Device configuration (Select CPU or GPU)\n",
    "device = torch.device(\"cuda\" if torch.cuda.is_available() else \"cpu\")\n",
    "print(f\"\\n Device : {device}\")"
   ],
   "metadata": {
    "collapsed": false,
    "ExecuteTime": {
     "end_time": "2024-11-30T18:47:11.830711Z",
     "start_time": "2024-11-30T18:47:11.805296100Z"
    }
   },
   "id": "f26b91bef342d73f"
  },
  {
   "cell_type": "markdown",
   "source": [
    "### Load and prepare the data"
   ],
   "metadata": {
    "collapsed": false
   },
   "id": "bfe3785237c973d7"
  },
  {
   "cell_type": "code",
   "execution_count": 28,
   "outputs": [],
   "source": [
    "# Transform data\n",
    "normalize_mean = [0.485, 0.456, 0.406]\n",
    "normalize_std = [0.229, 0.224, 0.225]\n",
    "\n",
    "image_input_size = (3, 227, 227) # Image input size for the model\n",
    "transform = get_transform(resize_image_size = (227, 227), normalize_mean= normalize_mean, normalize_std = normalize_std)\n",
    "\n",
    "# Prepare Train/Val/Test Data\n",
    "train_loader, val_loader, test_loader = prepare_train_test_data(transform)\n",
    "\n",
    "# Model keyword\n",
    "model_keyword = \"alexnet\""
   ],
   "metadata": {
    "collapsed": false,
    "ExecuteTime": {
     "end_time": "2024-11-30T18:47:29.771166300Z",
     "start_time": "2024-11-30T18:47:11.811707Z"
    }
   },
   "id": "54708feab2e7ddd8"
  },
  {
   "cell_type": "markdown",
   "source": [
    "### Load pre-trained AlexNet model"
   ],
   "metadata": {
    "collapsed": false
   },
   "id": "9d988a030bfc5d7"
  },
  {
   "cell_type": "code",
   "execution_count": 37,
   "outputs": [
    {
     "name": "stdout",
     "output_type": "stream",
     "text": [
      "----------------------------------------------------------------\n",
      "        Layer (type)               Output Shape         Param #\n",
      "================================================================\n",
      "            Conv2d-1           [-1, 64, 56, 56]          23,296\n",
      "              ReLU-2           [-1, 64, 56, 56]               0\n",
      "         MaxPool2d-3           [-1, 64, 27, 27]               0\n",
      "            Conv2d-4          [-1, 192, 27, 27]         307,392\n",
      "              ReLU-5          [-1, 192, 27, 27]               0\n",
      "         MaxPool2d-6          [-1, 192, 13, 13]               0\n",
      "            Conv2d-7          [-1, 384, 13, 13]         663,936\n",
      "              ReLU-8          [-1, 384, 13, 13]               0\n",
      "            Conv2d-9          [-1, 256, 13, 13]         884,992\n",
      "             ReLU-10          [-1, 256, 13, 13]               0\n",
      "           Conv2d-11          [-1, 256, 13, 13]         590,080\n",
      "             ReLU-12          [-1, 256, 13, 13]               0\n",
      "        MaxPool2d-13            [-1, 256, 6, 6]               0\n",
      "AdaptiveAvgPool2d-14            [-1, 256, 6, 6]               0\n",
      "          Dropout-15                 [-1, 9216]               0\n",
      "           Linear-16                 [-1, 4096]      37,752,832\n",
      "             ReLU-17                 [-1, 4096]               0\n",
      "          Dropout-18                 [-1, 4096]               0\n",
      "           Linear-19                 [-1, 4096]      16,781,312\n",
      "             ReLU-20                 [-1, 4096]               0\n",
      "           Linear-21                    [-1, 2]           8,194\n",
      "================================================================\n",
      "Total params: 57,012,034\n",
      "Trainable params: 57,012,034\n",
      "Non-trainable params: 0\n",
      "----------------------------------------------------------------\n",
      "Input size (MB): 0.59\n",
      "Forward/backward pass size (MB): 8.48\n",
      "Params size (MB): 217.48\n",
      "Estimated Total Size (MB): 226.55\n",
      "----------------------------------------------------------------\n",
      "Total number of layers: 24\n"
     ]
    }
   ],
   "source": [
    "# Load pre-trained AlexNet\n",
    "model = models.alexnet(pretrained=True)\n",
    "\n",
    "# Modify the final fully connected layer for binary classification\n",
    "num_features = model.classifier[6].in_features  # Get the input features of the last layer\n",
    "model.classifier[6] = nn.Linear(num_features, 2)  # Replaced the final layer for binary classification: Internal waves (1) or No waves (0). (This is actually treating binary classification as a 2-class problem when compared to a single output neuron)\n",
    "model = model.to(device)\n",
    "\n",
    "# Define the loss function and optimizer\n",
    "criterion = nn.CrossEntropyLoss()\n",
    "\n",
    "# optimizer = optim.Adam(model.parameters(), lr=1e-3)\n",
    "optimizer = optim.SGD(model.parameters(), lr=1e-3, momentum=0.9) # AlexNet is sensitive to SGD compared to Adam + it doesn't use BatchNormalization as other newer models. Therefor, using the SGD optimizer.\n",
    "\n",
    "scheduler = optim.lr_scheduler.ReduceLROnPlateau(optimizer, mode='min', patience=5, factor=0.1) # Implement a learning rate scheduler to adjust the learning rate during training\n",
    "# scheduler = torch.optim.lr_scheduler.CosineAnnealingLR(optimizer, T_max=10)\n",
    "\n",
    "# Print summary\n",
    "summary(model, input_size=image_input_size)\n",
    "print(f\"Total number of layers: {sum(1 for _ in model.modules())}\")"
   ],
   "metadata": {
    "collapsed": false,
    "ExecuteTime": {
     "end_time": "2024-11-30T19:09:31.257795200Z",
     "start_time": "2024-11-30T19:09:30.820414800Z"
    }
   },
   "id": "3de16a2f1b1b7618"
  },
  {
   "cell_type": "markdown",
   "source": [
    "### Train the model"
   ],
   "metadata": {
    "collapsed": false
   },
   "id": "edfaedc3e77ed2aa"
  },
  {
   "cell_type": "code",
   "execution_count": 38,
   "outputs": [
    {
     "name": "stdout",
     "output_type": "stream",
     "text": [
      "Epoch [1/50], Train Loss: 0.4274, Val Loss: 0.3704, Val Accuracy: 82.82%, GFLOPs: 0.71\n",
      "Epoch [2/50], Train Loss: 0.2876, Val Loss: 0.2743, Val Accuracy: 86.20%, GFLOPs: 0.71\n",
      "Epoch [3/50], Train Loss: 0.2393, Val Loss: 0.2963, Val Accuracy: 86.93%, GFLOPs: 0.71\n",
      "Epoch [4/50], Train Loss: 0.2581, Val Loss: 0.2290, Val Accuracy: 90.46%, GFLOPs: 0.71\n",
      "Epoch [5/50], Train Loss: 0.1936, Val Loss: 0.2652, Val Accuracy: 88.69%, GFLOPs: 0.71\n",
      "Epoch [6/50], Train Loss: 0.1630, Val Loss: 0.2590, Val Accuracy: 87.96%, GFLOPs: 0.71\n",
      "Epoch [7/50], Train Loss: 0.1307, Val Loss: 0.2020, Val Accuracy: 91.19%, GFLOPs: 0.71\n",
      "Epoch [8/50], Train Loss: 0.1190, Val Loss: 0.2237, Val Accuracy: 91.92%, GFLOPs: 0.71\n",
      "Epoch [9/50], Train Loss: 0.0978, Val Loss: 0.2223, Val Accuracy: 92.07%, GFLOPs: 0.71\n",
      "Epoch [10/50], Train Loss: 0.0994, Val Loss: 0.2557, Val Accuracy: 90.01%, GFLOPs: 0.71\n",
      "Epoch [11/50], Train Loss: 0.0796, Val Loss: 0.2371, Val Accuracy: 91.63%, GFLOPs: 0.71\n",
      "Epoch [12/50], Train Loss: 0.0750, Val Loss: 0.2460, Val Accuracy: 91.04%, GFLOPs: 0.71\n",
      "Epoch [13/50], Train Loss: 0.0515, Val Loss: 0.2323, Val Accuracy: 93.54%, GFLOPs: 0.71\n",
      "Epoch [14/50], Train Loss: 0.0237, Val Loss: 0.2063, Val Accuracy: 93.39%, GFLOPs: 0.71\n",
      "Epoch [15/50], Train Loss: 0.0174, Val Loss: 0.2147, Val Accuracy: 93.83%, GFLOPs: 0.71\n",
      "Epoch [16/50], Train Loss: 0.0138, Val Loss: 0.2211, Val Accuracy: 94.13%, GFLOPs: 0.71\n",
      "Epoch [17/50], Train Loss: 0.0158, Val Loss: 0.2240, Val Accuracy: 93.98%, GFLOPs: 0.71\n",
      "Epoch [18/50], Train Loss: 0.0141, Val Loss: 0.2205, Val Accuracy: 93.98%, GFLOPs: 0.71\n",
      "Epoch [19/50], Train Loss: 0.0148, Val Loss: 0.2191, Val Accuracy: 94.27%, GFLOPs: 0.71\n",
      "Epoch [20/50], Train Loss: 0.0135, Val Loss: 0.2186, Val Accuracy: 94.27%, GFLOPs: 0.71\n",
      "Epoch [21/50], Train Loss: 0.0125, Val Loss: 0.2198, Val Accuracy: 94.27%, GFLOPs: 0.71\n",
      "Epoch [22/50], Train Loss: 0.0117, Val Loss: 0.2192, Val Accuracy: 94.27%, GFLOPs: 0.71\n",
      "Epoch [23/50], Train Loss: 0.0100, Val Loss: 0.2187, Val Accuracy: 94.27%, GFLOPs: 0.71\n",
      "Epoch [24/50], Train Loss: 0.0121, Val Loss: 0.2177, Val Accuracy: 94.27%, GFLOPs: 0.71\n",
      "Epoch [25/50], Train Loss: 0.0134, Val Loss: 0.2177, Val Accuracy: 94.42%, GFLOPs: 0.71\n",
      "Epoch [26/50], Train Loss: 0.0121, Val Loss: 0.2178, Val Accuracy: 94.42%, GFLOPs: 0.71\n",
      "Epoch [27/50], Train Loss: 0.0110, Val Loss: 0.2179, Val Accuracy: 94.42%, GFLOPs: 0.71\n",
      "Epoch [28/50], Train Loss: 0.0130, Val Loss: 0.2179, Val Accuracy: 94.42%, GFLOPs: 0.71\n",
      "Epoch [29/50], Train Loss: 0.0126, Val Loss: 0.2180, Val Accuracy: 94.42%, GFLOPs: 0.71\n",
      "Epoch [30/50], Train Loss: 0.0122, Val Loss: 0.2179, Val Accuracy: 94.42%, GFLOPs: 0.71\n",
      "Epoch [31/50], Train Loss: 0.0117, Val Loss: 0.2180, Val Accuracy: 94.42%, GFLOPs: 0.71\n",
      "Epoch [32/50], Train Loss: 0.0121, Val Loss: 0.2180, Val Accuracy: 94.42%, GFLOPs: 0.71\n",
      "Epoch [33/50], Train Loss: 0.0121, Val Loss: 0.2180, Val Accuracy: 94.42%, GFLOPs: 0.71\n",
      "Epoch [34/50], Train Loss: 0.0106, Val Loss: 0.2180, Val Accuracy: 94.42%, GFLOPs: 0.71\n",
      "Epoch [35/50], Train Loss: 0.0127, Val Loss: 0.2180, Val Accuracy: 94.42%, GFLOPs: 0.71\n",
      "Epoch [36/50], Train Loss: 0.0106, Val Loss: 0.2181, Val Accuracy: 94.42%, GFLOPs: 0.71\n",
      "Epoch [37/50], Train Loss: 0.0103, Val Loss: 0.2181, Val Accuracy: 94.42%, GFLOPs: 0.71\n",
      "Epoch [38/50], Train Loss: 0.0157, Val Loss: 0.2181, Val Accuracy: 94.42%, GFLOPs: 0.71\n",
      "Epoch [39/50], Train Loss: 0.0128, Val Loss: 0.2181, Val Accuracy: 94.42%, GFLOPs: 0.71\n",
      "Epoch [40/50], Train Loss: 0.0132, Val Loss: 0.2181, Val Accuracy: 94.42%, GFLOPs: 0.71\n",
      "Epoch [41/50], Train Loss: 0.0134, Val Loss: 0.2181, Val Accuracy: 94.42%, GFLOPs: 0.71\n",
      "Epoch [42/50], Train Loss: 0.0117, Val Loss: 0.2181, Val Accuracy: 94.42%, GFLOPs: 0.71\n",
      "Epoch [43/50], Train Loss: 0.0108, Val Loss: 0.2181, Val Accuracy: 94.42%, GFLOPs: 0.71\n",
      "Epoch [44/50], Train Loss: 0.0113, Val Loss: 0.2181, Val Accuracy: 94.42%, GFLOPs: 0.71\n",
      "Epoch [45/50], Train Loss: 0.0137, Val Loss: 0.2181, Val Accuracy: 94.42%, GFLOPs: 0.71\n",
      "Epoch [46/50], Train Loss: 0.0121, Val Loss: 0.2181, Val Accuracy: 94.42%, GFLOPs: 0.71\n",
      "Epoch [47/50], Train Loss: 0.0103, Val Loss: 0.2181, Val Accuracy: 94.42%, GFLOPs: 0.71\n",
      "Epoch [48/50], Train Loss: 0.0118, Val Loss: 0.2181, Val Accuracy: 94.42%, GFLOPs: 0.71\n",
      "Epoch [49/50], Train Loss: 0.0131, Val Loss: 0.2181, Val Accuracy: 94.42%, GFLOPs: 0.71\n",
      "Epoch [50/50], Train Loss: 0.0112, Val Loss: 0.2181, Val Accuracy: 94.42%, GFLOPs: 0.71\n",
      "\n",
      "Total Training Time: 1527.48 seconds\n"
     ]
    }
   ],
   "source": [
    "# Initialize a DataFrame to log training/validation metrics\n",
    "log_df = []\n",
    "\n",
    "# Record the start time\n",
    "start_time = time.time()\n",
    "\n",
    "# Training loop\n",
    "num_epochs = 50\n",
    "best_val_loss = float('inf')  # Initialize best validation loss for saving model\n",
    "\n",
    "for epoch in range(num_epochs):\n",
    "    # Training phase\n",
    "    model.train()\n",
    "    train_loss = 0.0\n",
    "\n",
    "    for images, labels in train_loader:\n",
    "        images, labels = images.to(device), labels.to(device)\n",
    "\n",
    "        # Forward pass\n",
    "        outputs = model(images)\n",
    "        loss = criterion(outputs, labels)\n",
    "\n",
    "        # Backward pass and optimization\n",
    "        optimizer.zero_grad()\n",
    "        loss.backward()\n",
    "        optimizer.step()\n",
    "\n",
    "        train_loss += loss.item()\n",
    "\n",
    "    # Validation phase\n",
    "    model.eval()\n",
    "    val_loss = 0.0\n",
    "    val_correct = 0\n",
    "    val_total = 0\n",
    "    with torch.no_grad():\n",
    "        for images, labels in val_loader:\n",
    "            images, labels = images.to(device), labels.to(device)\n",
    "            outputs = model(images)\n",
    "            loss = criterion(outputs, labels)\n",
    "            val_loss += loss.item()\n",
    "\n",
    "            _, predicted = torch.max(outputs, 1)\n",
    "            val_total += labels.size(0)\n",
    "            val_correct += (predicted == labels).sum().item()\n",
    "    \n",
    "    val_accuracy = val_correct / val_total * 100\n",
    "    \n",
    "    # Adjust learning rate\n",
    "    scheduler.step(val_loss)\n",
    "    \n",
    "    # Calculate FLOPs after each epoch\n",
    "    with torch.no_grad():\n",
    "        flops, _ = get_model_complexity_info(model, (image_input_size), as_strings=False, print_per_layer_stat=False)\n",
    "\n",
    "    # Log metrics into the DataFrame\n",
    "    new_row = {\n",
    "        \"Epoch\": epoch + 1,\n",
    "        \"Train_Loss\": train_loss / len(train_loader),\n",
    "        \"Validation_Loss\": val_loss / len(val_loader),\n",
    "        \"Validation_Accuracy\": val_accuracy,\n",
    "        \"FLOPs\": flops\n",
    "    }\n",
    "    log_df.append(new_row)\n",
    "\n",
    "    # Print metrics for this epoch\n",
    "    print(f\"Epoch [{epoch+1}/{num_epochs}], Train Loss: {train_loss / len(train_loader):.4f}, \"\n",
    "          f\"Val Loss: {val_loss / len(val_loader):.4f}, Val Accuracy: {val_accuracy:.2f}%, \"\n",
    "          f\"GFLOPs: {(flops / 1e9 ):.2f}\")\n",
    "\n",
    "    # Save the best model based on validation loss\n",
    "    if val_loss < best_val_loss:\n",
    "        best_val_loss = val_loss\n",
    "        torch.save(model.state_dict(), f\"model_outputs_data/best_{model_keyword}_model.pth\")\n",
    "\n",
    "\n",
    "# Calculate the total training time in seconds\n",
    "print(f\"\\nTotal Training Time: {(time.time() - start_time):.2f} seconds\")\n",
    "\n",
    "# Save the DataFrame to a CSV file for later use\n",
    "log_df = pd.DataFrame(log_df)\n",
    "log_df.to_csv(f\"model_outputs_data/model_evaluation_logs/training_logs_{model_keyword}.csv\", index=False)"
   ],
   "metadata": {
    "collapsed": false,
    "ExecuteTime": {
     "end_time": "2024-11-30T19:35:00.085935300Z",
     "start_time": "2024-11-30T19:09:32.594006400Z"
    }
   },
   "id": "1ae5f1d5387736b9"
  },
  {
   "cell_type": "markdown",
   "source": [
    "### Prediction and Model evaluation"
   ],
   "metadata": {
    "collapsed": false
   },
   "id": "31b42697ba912ffe"
  },
  {
   "cell_type": "code",
   "execution_count": 39,
   "outputs": [
    {
     "name": "stdout",
     "output_type": "stream",
     "text": [
      "\n",
      "Test Accuracy: 93.63%\n",
      "Precision: 0.94\n",
      "Recall: 0.94\n",
      "F1-Score: 0.94\n",
      "\n",
      "Classification Report:\n",
      "                   precision    recall  f1-score   support\n",
      "\n",
      "No Internal Waves       0.93      0.94      0.94       719\n",
      "   Internal Waves       0.94      0.94      0.94       740\n",
      "\n",
      "         accuracy                           0.94      1459\n",
      "        macro avg       0.94      0.94      0.94      1459\n",
      "     weighted avg       0.94      0.94      0.94      1459\n",
      "\n",
      "\n",
      "Confusion Matrix:\n",
      "[[674  45]\n",
      " [ 48 692]]\n",
      "\n",
      " Predictions saved to model_outputs_data/model_prediction_logs/alexnet_labels_predictions.csv\n"
     ]
    }
   ],
   "source": [
    "model.eval()\n",
    "# Load the best model for testing\n",
    "# model.load_state_dict(torch.load(f\"model_outputs_data/best_{model_keyword}_model.pth\"))\n",
    "\n",
    "# Test the model\n",
    "all_labels = []\n",
    "all_preds = []\n",
    "all_probs = []\n",
    "\n",
    "with torch.no_grad():\n",
    "    for images, labels in test_loader:\n",
    "        images, labels = images.to(device), labels.to(device)\n",
    "        outputs = model(images)\n",
    "        probabilities = torch.softmax(outputs, dim=1)\n",
    "        _, predicted = torch.max(outputs, 1)\n",
    "\n",
    "        all_labels.extend(labels.cpu().numpy())\n",
    "        all_preds.extend(predicted.cpu().numpy())\n",
    "        all_probs.extend(probabilities[:, 1].cpu().numpy())\n",
    "\n",
    "# Print evaluation metrics\n",
    "calculate_evaluation_metrics(all_labels, all_preds, all_probs, model_keyword)"
   ],
   "metadata": {
    "collapsed": false,
    "ExecuteTime": {
     "end_time": "2024-11-30T19:35:11.304954800Z",
     "start_time": "2024-11-30T19:35:00.082904400Z"
    }
   },
   "id": "186f65397e8ac668"
  }
 ],
 "metadata": {
  "kernelspec": {
   "display_name": "Python 3 (ipykernel)",
   "language": "python",
   "name": "python3"
  },
  "language_info": {
   "codemirror_mode": {
    "name": "ipython",
    "version": 3
   },
   "file_extension": ".py",
   "mimetype": "text/x-python",
   "name": "python",
   "nbconvert_exporter": "python",
   "pygments_lexer": "ipython3",
   "version": "3.11.6"
  }
 },
 "nbformat": 4,
 "nbformat_minor": 5
}
