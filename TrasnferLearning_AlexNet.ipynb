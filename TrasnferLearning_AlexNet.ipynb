{
 "cells": [
  {
   "cell_type": "markdown",
   "id": "2a61cdd4fcf34165",
   "metadata": {
    "collapsed": false
   },
   "source": [
    "# AlexNet (Transfer Learning)"
   ]
  },
  {
   "cell_type": "code",
   "execution_count": null,
   "outputs": [],
   "source": [
    "import torch\n",
    "import torchvision.models as models\n",
    "from torch import nn, optim\n",
    "from torchvision import transforms\n",
    "from torch.utils.data import DataLoader, random_split\n",
    "from torchsummary import summary\n",
    "import pandas as pd\n",
    "from sklearn.metrics import accuracy_score, precision_score, recall_score, f1_score, classification_report, confusion_matrix\n",
    "from PIL import Image\n",
    "from ptflops import get_model_complexity_info\n",
    "import time\n",
    "\n",
    "# Import custom utility module\n",
    "from utils import get_transform, prepare_train_test_data, calculate_evaluation_metrics"
   ],
   "metadata": {
    "collapsed": false
   },
   "id": "3a21c456bcaf905b"
  },
  {
   "cell_type": "code",
   "execution_count": null,
   "outputs": [],
   "source": [
    "# Device configuration (Select CPU or GPU)\n",
    "device = torch.device(\"cuda\" if torch.cuda.is_available() else \"cpu\")\n",
    "print(f\"\\n Device : {device}\")"
   ],
   "metadata": {
    "collapsed": false
   },
   "id": "f26b91bef342d73f"
  },
  {
   "cell_type": "markdown",
   "source": [
    "### Load and prepare the data"
   ],
   "metadata": {
    "collapsed": false
   },
   "id": "bfe3785237c973d7"
  },
  {
   "cell_type": "code",
   "execution_count": null,
   "outputs": [],
   "source": [
    "# Transform data\n",
    "image_input_size = (3, 227, 227) # Image input size for the model\n",
    "transform = get_transform(resize_image_size = (227, 227))\n",
    "\n",
    "# Prepare Train/Val/Test Data\n",
    "train_loader, val_loader, test_loader = prepare_train_test_data(transform)\n",
    "\n",
    "# Model keyword\n",
    "model_keyword = \"alexnet\""
   ],
   "metadata": {
    "collapsed": false
   },
   "id": "54708feab2e7ddd8"
  },
  {
   "cell_type": "markdown",
   "source": [
    "### Load pre-trained ResNet50 model"
   ],
   "metadata": {
    "collapsed": false
   },
   "id": "9d988a030bfc5d7"
  },
  {
   "cell_type": "code",
   "execution_count": null,
   "outputs": [],
   "source": [
    "# Load pre-trained AlexNet\n",
    "model = models.alexnet(pretrained=True)\n",
    "\n",
    "# Modify the final fully connected layer for binary classification\n",
    "num_features = model.classifier[6].in_features  # Get the input features of the last layer\n",
    "model.classifier[6] = nn.Linear(num_features, 2)  # Replaced the final layer for binary classification: Internal waves (1) or No waves (0). (This is actually treating binary classification as a 2-class problem when compared to a single output neuron)\n",
    "model = model.to(device)\n",
    "\n",
    "# Define the loss function and optimizer\n",
    "criterion = nn.CrossEntropyLoss()\n",
    "optimizer = optim.Adam(model.parameters(), lr=0.001)\n",
    "scheduler = optim.lr_scheduler.ReduceLROnPlateau(optimizer, mode='min', patience=5, factor=0.1) # Implement a learning rate scheduler to adjust the learning rate during training\n",
    "\n",
    "# Print summary\n",
    "summary(model, input_size=image_input_size)\n",
    "print(f\"Total number of layers: {sum(1 for _ in model.modules())}\")"
   ],
   "metadata": {
    "collapsed": false
   },
   "id": "3de16a2f1b1b7618"
  },
  {
   "cell_type": "markdown",
   "source": [
    "### Train the model"
   ],
   "metadata": {
    "collapsed": false
   },
   "id": "edfaedc3e77ed2aa"
  },
  {
   "cell_type": "code",
   "execution_count": null,
   "outputs": [],
   "source": [
    "# Initialize a DataFrame to log training/validation metrics\n",
    "log_df = []\n",
    "\n",
    "# Record the start time\n",
    "start_time = time.time()\n",
    "\n",
    "# Training loop\n",
    "num_epochs = 50\n",
    "best_val_loss = float('inf')  # Initialize best validation loss for saving model\n",
    "\n",
    "for epoch in range(num_epochs):\n",
    "    # Training phase\n",
    "    model.train()\n",
    "    train_loss = 0.0\n",
    "\n",
    "    for images, labels in train_loader:\n",
    "        images, labels = images.to(device), labels.to(device)\n",
    "\n",
    "        # Forward pass\n",
    "        outputs = model(images)\n",
    "        loss = criterion(outputs, labels)\n",
    "\n",
    "        # Backward pass and optimization\n",
    "        optimizer.zero_grad()\n",
    "        loss.backward()\n",
    "        optimizer.step()\n",
    "\n",
    "        train_loss += loss.item()\n",
    "\n",
    "    # Validation phase\n",
    "    model.eval()\n",
    "    val_loss = 0.0\n",
    "    val_correct = 0\n",
    "    val_total = 0\n",
    "    with torch.no_grad():\n",
    "        for images, labels in val_loader:\n",
    "            images, labels = images.to(device), labels.to(device)\n",
    "            outputs = model(images)\n",
    "            loss = criterion(outputs, labels)\n",
    "            val_loss += loss.item()\n",
    "\n",
    "            _, predicted = torch.max(outputs, 1)\n",
    "            val_total += labels.size(0)\n",
    "            val_correct += (predicted == labels).sum().item()\n",
    "    \n",
    "    val_accuracy = val_correct / val_total * 100\n",
    "    \n",
    "    # Adjust learning rate\n",
    "    scheduler.step(val_loss)\n",
    "    \n",
    "    # Calculate FLOPs after each epoch\n",
    "    with torch.no_grad():\n",
    "        flops, _ = get_model_complexity_info(model, (image_input_size), as_strings=False, print_per_layer_stat=False)\n",
    "\n",
    "    # Log metrics into the DataFrame\n",
    "    new_row = {\n",
    "        \"Epoch\": epoch + 1,\n",
    "        \"Train_Loss\": train_loss / len(train_loader),\n",
    "        \"Validation_Loss\": val_loss / len(val_loader),\n",
    "        \"Validation_Accuracy\": val_accuracy,\n",
    "        \"FLOPs\": flops\n",
    "    }\n",
    "    log_df.append(new_row)\n",
    "\n",
    "    # Print metrics for this epoch\n",
    "    print(f\"Epoch [{epoch+1}/{num_epochs}], Train Loss: {train_loss / len(train_loader):.4f}, \"\n",
    "          f\"Val Loss: {val_loss / len(val_loader):.4f}, Val Accuracy: {val_accuracy:.2f}%, \"\n",
    "          f\"GFLOPs: {(flops / 1e9 ):.2f}\")\n",
    "\n",
    "    # Save the best model based on validation loss\n",
    "    if val_loss < best_val_loss:\n",
    "        best_val_loss = val_loss\n",
    "        torch.save(model.state_dict(), f\"model_outputs_data/best_{model_keyword}_model.pth\")\n",
    "\n",
    "\n",
    "# Calculate the total training time in seconds\n",
    "print(f\"\\nTotal Training Time: {(time.time() - start_time):.2f} seconds\")\n",
    "\n",
    "# Save the DataFrame to a CSV file for later use\n",
    "log_df.to_csv(f\"model_outputs_data/model_evaluation_logs/training_logs_{model_keyword}.csv\", index=False)"
   ],
   "metadata": {
    "collapsed": false
   },
   "id": "1ae5f1d5387736b9"
  },
  {
   "cell_type": "markdown",
   "source": [
    "### Prediction and Model evaluation"
   ],
   "metadata": {
    "collapsed": false
   },
   "id": "31b42697ba912ffe"
  },
  {
   "cell_type": "code",
   "execution_count": null,
   "outputs": [],
   "source": [
    "# Test the model\n",
    "model.eval()\n",
    "# model.load_state_dict(torch.load(\"model_outputs_data/best_alexnet_model.pth\"))  # Load the best model for testing\n",
    "\n",
    "all_labels = []\n",
    "all_preds = []\n",
    "\n",
    "with torch.no_grad():\n",
    "    for images, labels in test_loader:\n",
    "        images, labels = images.to(device), labels.to(device)\n",
    "        outputs = model(images)\n",
    "        _, predicted = torch.max(outputs, 1)\n",
    "\n",
    "        # convert to CPU numpy arrays\n",
    "        all_labels.extend(labels.cpu().numpy())\n",
    "        all_preds.extend(predicted.cpu().numpy())\n",
    "\n",
    "# Compute Evaluation Metrics\n",
    "accuracy = accuracy_score(all_labels, all_preds)\n",
    "precision = precision_score(all_labels, all_preds, average='binary')\n",
    "recall = recall_score(all_labels, all_preds, average='binary')\n",
    "f1 = f1_score(all_labels, all_preds, average='binary')\n",
    "\n",
    "# Print evaluation metrics\n",
    "calculate_evaluation_metrics(all_labels, all_preds, model_keyword)"
   ],
   "metadata": {
    "collapsed": false
   },
   "id": "186f65397e8ac668"
  }
 ],
 "metadata": {
  "kernelspec": {
   "display_name": "Python 3 (ipykernel)",
   "language": "python",
   "name": "python3"
  },
  "language_info": {
   "codemirror_mode": {
    "name": "ipython",
    "version": 3
   },
   "file_extension": ".py",
   "mimetype": "text/x-python",
   "name": "python",
   "nbconvert_exporter": "python",
   "pygments_lexer": "ipython3",
   "version": "3.11.6"
  }
 },
 "nbformat": 4,
 "nbformat_minor": 5
}
