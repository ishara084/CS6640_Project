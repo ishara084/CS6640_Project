{
 "cells": [
  {
   "cell_type": "markdown",
   "id": "2a61cdd4fcf34165",
   "metadata": {
    "collapsed": false
   },
   "source": [
    "# AlexNet (Transfer Learning)"
   ]
  },
  {
   "cell_type": "code",
   "execution_count": 26,
   "outputs": [],
   "source": [
    "import torch\n",
    "import torchvision.models as models\n",
    "from torch import nn, optim\n",
    "from torchvision import transforms\n",
    "from torch.utils.data import DataLoader, random_split\n",
    "from torchsummary import summary\n",
    "import pandas as pd\n",
    "from sklearn.metrics import accuracy_score, precision_score, recall_score, f1_score, classification_report, confusion_matrix\n",
    "from PIL import Image\n",
    "from ptflops import get_model_complexity_info\n",
    "import time"
   ],
   "metadata": {
    "collapsed": false,
    "ExecuteTime": {
     "end_time": "2024-11-20T23:30:31.707429200Z",
     "start_time": "2024-11-20T23:30:31.669808400Z"
    }
   },
   "id": "3a21c456bcaf905b"
  },
  {
   "cell_type": "code",
   "execution_count": 27,
   "outputs": [
    {
     "name": "stdout",
     "output_type": "stream",
     "text": [
      "\n",
      " Device : cuda\n"
     ]
    }
   ],
   "source": [
    "# Device configuration (Select CPU or GPU)\n",
    "device = torch.device(\"cuda\" if torch.cuda.is_available() else \"cpu\")\n",
    "print(f\"\\n Device : {device}\")"
   ],
   "metadata": {
    "collapsed": false,
    "ExecuteTime": {
     "end_time": "2024-11-20T23:30:31.708442300Z",
     "start_time": "2024-11-20T23:30:31.672813600Z"
    }
   },
   "id": "f26b91bef342d73f"
  },
  {
   "cell_type": "markdown",
   "source": [
    "### Load and prepare the data"
   ],
   "metadata": {
    "collapsed": false
   },
   "id": "bfe3785237c973d7"
  },
  {
   "cell_type": "code",
   "execution_count": 28,
   "outputs": [],
   "source": [
    "# Transformations for the dataset\n",
    "transform = transforms.Compose([\n",
    "    transforms.Grayscale(num_output_channels=3),  # Convert grayscale-like images to 3 channels\n",
    "    transforms.Resize((256, 256)),               # Resize images for AlexNet input\n",
    "    transforms.CenterCrop(227),                  # Crop the central 227×227 region\n",
    "    transforms.ToTensor(),                       # Convert images to tensors\n",
    "    transforms.Normalize([0.5, 0.5, 0.5], [0.5, 0.5, 0.5])  # Normalize\n",
    "])\n",
    "\n",
    "# Custom dataset class to handle CSV and image folder\n",
    "class SARImageDataset(torch.utils.data.Dataset):\n",
    "    def __init__(self, csv_file, image_folder, transform=None):\n",
    "        self.data = pd.read_csv(csv_file)\n",
    "        self.image_folder = image_folder\n",
    "        self.transform = transform\n",
    "\n",
    "    def __len__(self):\n",
    "        return len(self.data)\n",
    "\n",
    "    def __getitem__(self, idx):\n",
    "        img_name = f\"{self.image_folder}/{self.data.iloc[idx, 0]}.png\"\n",
    "        label = self.data.iloc[idx, 1]\n",
    "        image = Image.open(img_name)\n",
    "\n",
    "        if self.transform:\n",
    "            image = self.transform(image)\n",
    "\n",
    "        return image, label\n",
    "\n",
    "# Load full training dataset\n",
    "train_val_dataset = SARImageDataset(csv_file=\"data/train.csv\", image_folder=\"data/images_train\", transform=transform)\n",
    "test_dataset = SARImageDataset(csv_file=\"data/test.csv\", image_folder=\"data/images_test\", transform=transform)\n",
    "\n",
    "# Split into training and validation datasets\n",
    "train_size = int(0.8 * len(train_val_dataset))  # 80% for training\n",
    "val_size = len(train_val_dataset) - train_size  # 20% for validation\n",
    "train_dataset, val_dataset = random_split(train_val_dataset, [train_size, val_size])\n",
    "\n",
    "# DataLoaders for batching\n",
    "train_loader = DataLoader(train_dataset, batch_size=32, shuffle=True)\n",
    "val_loader = DataLoader(val_dataset, batch_size=32, shuffle=False)\n",
    "test_loader = DataLoader(test_dataset, batch_size=32, shuffle=False)"
   ],
   "metadata": {
    "collapsed": false,
    "ExecuteTime": {
     "end_time": "2024-11-20T23:30:31.728951800Z",
     "start_time": "2024-11-20T23:30:31.684671900Z"
    }
   },
   "id": "54708feab2e7ddd8"
  },
  {
   "cell_type": "markdown",
   "source": [
    "### Load pre-trained ResNet50 model"
   ],
   "metadata": {
    "collapsed": false
   },
   "id": "9d988a030bfc5d7"
  },
  {
   "cell_type": "code",
   "execution_count": 29,
   "outputs": [
    {
     "name": "stderr",
     "output_type": "stream",
     "text": [
      "C:\\Users\\ishar\\.virtualenvs\\ML_env\\Lib\\site-packages\\torchvision\\models\\_utils.py:208: UserWarning: The parameter 'pretrained' is deprecated since 0.13 and may be removed in the future, please use 'weights' instead.\n",
      "  warnings.warn(\n",
      "C:\\Users\\ishar\\.virtualenvs\\ML_env\\Lib\\site-packages\\torchvision\\models\\_utils.py:223: UserWarning: Arguments other than a weight enum or `None` for 'weights' are deprecated since 0.13 and may be removed in the future. The current behavior is equivalent to passing `weights=AlexNet_Weights.IMAGENET1K_V1`. You can also use `weights=AlexNet_Weights.DEFAULT` to get the most up-to-date weights.\n",
      "  warnings.warn(msg)\n"
     ]
    },
    {
     "name": "stdout",
     "output_type": "stream",
     "text": [
      "----------------------------------------------------------------\n",
      "        Layer (type)               Output Shape         Param #\n",
      "================================================================\n",
      "            Conv2d-1           [-1, 64, 56, 56]          23,296\n",
      "              ReLU-2           [-1, 64, 56, 56]               0\n",
      "         MaxPool2d-3           [-1, 64, 27, 27]               0\n",
      "            Conv2d-4          [-1, 192, 27, 27]         307,392\n",
      "              ReLU-5          [-1, 192, 27, 27]               0\n",
      "         MaxPool2d-6          [-1, 192, 13, 13]               0\n",
      "            Conv2d-7          [-1, 384, 13, 13]         663,936\n",
      "              ReLU-8          [-1, 384, 13, 13]               0\n",
      "            Conv2d-9          [-1, 256, 13, 13]         884,992\n",
      "             ReLU-10          [-1, 256, 13, 13]               0\n",
      "           Conv2d-11          [-1, 256, 13, 13]         590,080\n",
      "             ReLU-12          [-1, 256, 13, 13]               0\n",
      "        MaxPool2d-13            [-1, 256, 6, 6]               0\n",
      "AdaptiveAvgPool2d-14            [-1, 256, 6, 6]               0\n",
      "          Dropout-15                 [-1, 9216]               0\n",
      "           Linear-16                 [-1, 4096]      37,752,832\n",
      "             ReLU-17                 [-1, 4096]               0\n",
      "          Dropout-18                 [-1, 4096]               0\n",
      "           Linear-19                 [-1, 4096]      16,781,312\n",
      "             ReLU-20                 [-1, 4096]               0\n",
      "           Linear-21                    [-1, 2]           8,194\n",
      "================================================================\n",
      "Total params: 57,012,034\n",
      "Trainable params: 57,012,034\n",
      "Non-trainable params: 0\n",
      "----------------------------------------------------------------\n",
      "Input size (MB): 0.59\n",
      "Forward/backward pass size (MB): 8.48\n",
      "Params size (MB): 217.48\n",
      "Estimated Total Size (MB): 226.55\n",
      "----------------------------------------------------------------\n"
     ]
    }
   ],
   "source": [
    "# Load pre-trained AlexNet\n",
    "model = models.alexnet(pretrained=True)\n",
    "\n",
    "# Modify the final fully connected layer for binary classification\n",
    "num_features = model.classifier[6].in_features  # Get the input features of the last layer\n",
    "model.classifier[6] = nn.Linear(num_features, 2)  # Binary classification: Internal waves (1) or No waves (0)\n",
    "model = model.to(device)\n",
    "\n",
    "# Define the loss function and optimizer\n",
    "criterion = nn.CrossEntropyLoss()\n",
    "optimizer = optim.Adam(model.parameters(), lr=0.001)\n",
    "\n",
    "# Print summary\n",
    "summary(model, input_size=(3, 227, 227))"
   ],
   "metadata": {
    "collapsed": false,
    "ExecuteTime": {
     "end_time": "2024-11-20T23:30:36.541160100Z",
     "start_time": "2024-11-20T23:30:31.708442300Z"
    }
   },
   "id": "3de16a2f1b1b7618"
  },
  {
   "cell_type": "markdown",
   "source": [
    "### Train the model"
   ],
   "metadata": {
    "collapsed": false
   },
   "id": "edfaedc3e77ed2aa"
  },
  {
   "cell_type": "code",
   "execution_count": 30,
   "outputs": [
    {
     "name": "stderr",
     "output_type": "stream",
     "text": [
      "C:\\Users\\ishar\\AppData\\Local\\Temp\\ipykernel_58276\\1540578241.py:60: FutureWarning: The behavior of DataFrame concatenation with empty or all-NA entries is deprecated. In a future version, this will no longer exclude empty or all-NA columns when determining the result dtypes. To retain the old behavior, exclude the relevant entries before the concat operation.\n",
      "  log_df = pd.concat([log_df, pd.DataFrame([new_row])], ignore_index=True)\n"
     ]
    },
    {
     "name": "stdout",
     "output_type": "stream",
     "text": [
      "Epoch [1/50], Train Loss: 0.8037, Val Loss: 0.6840, Val Accuracy: 52.42%, FLOPs: 0.71 GFLOPs\n",
      "Epoch [2/50], Train Loss: 0.6883, Val Loss: 0.6898, Val Accuracy: 53.16%, FLOPs: 0.71 GFLOPs\n",
      "Epoch [3/50], Train Loss: 0.6796, Val Loss: 0.7074, Val Accuracy: 49.49%, FLOPs: 0.71 GFLOPs\n",
      "Epoch [4/50], Train Loss: 0.6731, Val Loss: 0.6427, Val Accuracy: 63.88%, FLOPs: 0.71 GFLOPs\n",
      "Epoch [5/50], Train Loss: 0.6559, Val Loss: 0.6917, Val Accuracy: 49.49%, FLOPs: 0.71 GFLOPs\n",
      "Epoch [6/50], Train Loss: 0.6244, Val Loss: 0.6641, Val Accuracy: 74.16%, FLOPs: 0.71 GFLOPs\n",
      "Epoch [7/50], Train Loss: 0.5444, Val Loss: 0.6641, Val Accuracy: 75.77%, FLOPs: 0.71 GFLOPs\n",
      "Epoch [8/50], Train Loss: 0.4839, Val Loss: 0.4248, Val Accuracy: 82.09%, FLOPs: 0.71 GFLOPs\n",
      "Epoch [9/50], Train Loss: 0.4515, Val Loss: 0.4380, Val Accuracy: 78.41%, FLOPs: 0.71 GFLOPs\n",
      "Epoch [10/50], Train Loss: 0.4435, Val Loss: 0.4835, Val Accuracy: 75.92%, FLOPs: 0.71 GFLOPs\n",
      "Epoch [11/50], Train Loss: 0.4361, Val Loss: 0.4502, Val Accuracy: 82.67%, FLOPs: 0.71 GFLOPs\n",
      "Epoch [12/50], Train Loss: 0.4123, Val Loss: 0.3562, Val Accuracy: 84.58%, FLOPs: 0.71 GFLOPs\n",
      "Epoch [13/50], Train Loss: 0.3588, Val Loss: 0.4030, Val Accuracy: 83.26%, FLOPs: 0.71 GFLOPs\n",
      "Epoch [14/50], Train Loss: 0.3860, Val Loss: 0.4791, Val Accuracy: 76.80%, FLOPs: 0.71 GFLOPs\n",
      "Epoch [15/50], Train Loss: 0.4128, Val Loss: 0.5410, Val Accuracy: 83.26%, FLOPs: 0.71 GFLOPs\n",
      "Epoch [16/50], Train Loss: 0.2953, Val Loss: 0.7059, Val Accuracy: 84.14%, FLOPs: 0.71 GFLOPs\n",
      "Epoch [17/50], Train Loss: 0.3343, Val Loss: 0.3895, Val Accuracy: 81.79%, FLOPs: 0.71 GFLOPs\n",
      "Epoch [18/50], Train Loss: 0.3158, Val Loss: 0.3913, Val Accuracy: 83.85%, FLOPs: 0.71 GFLOPs\n",
      "Epoch [19/50], Train Loss: 0.2517, Val Loss: 0.4530, Val Accuracy: 84.43%, FLOPs: 0.71 GFLOPs\n",
      "Epoch [20/50], Train Loss: 0.2543, Val Loss: 0.3683, Val Accuracy: 85.76%, FLOPs: 0.71 GFLOPs\n",
      "Epoch [21/50], Train Loss: 0.2656, Val Loss: 0.5254, Val Accuracy: 80.62%, FLOPs: 0.71 GFLOPs\n",
      "Epoch [22/50], Train Loss: 0.2216, Val Loss: 0.3438, Val Accuracy: 86.20%, FLOPs: 0.71 GFLOPs\n",
      "Epoch [23/50], Train Loss: 0.2044, Val Loss: 0.4148, Val Accuracy: 85.32%, FLOPs: 0.71 GFLOPs\n",
      "Epoch [24/50], Train Loss: 0.2567, Val Loss: 0.4039, Val Accuracy: 85.02%, FLOPs: 0.71 GFLOPs\n",
      "Epoch [25/50], Train Loss: 0.2013, Val Loss: 0.3442, Val Accuracy: 86.64%, FLOPs: 0.71 GFLOPs\n",
      "Epoch [26/50], Train Loss: 0.3339, Val Loss: 0.4758, Val Accuracy: 75.62%, FLOPs: 0.71 GFLOPs\n",
      "Epoch [27/50], Train Loss: 0.2983, Val Loss: 0.4023, Val Accuracy: 83.41%, FLOPs: 0.71 GFLOPs\n",
      "Epoch [28/50], Train Loss: 0.2301, Val Loss: 0.3254, Val Accuracy: 86.93%, FLOPs: 0.71 GFLOPs\n",
      "Epoch [29/50], Train Loss: 0.1734, Val Loss: 0.4369, Val Accuracy: 85.61%, FLOPs: 0.71 GFLOPs\n",
      "Epoch [30/50], Train Loss: 0.2391, Val Loss: 0.5808, Val Accuracy: 84.29%, FLOPs: 0.71 GFLOPs\n",
      "Epoch [31/50], Train Loss: 0.1780, Val Loss: 0.7397, Val Accuracy: 84.58%, FLOPs: 0.71 GFLOPs\n",
      "Epoch [32/50], Train Loss: 0.1491, Val Loss: 0.6234, Val Accuracy: 85.61%, FLOPs: 0.71 GFLOPs\n",
      "Epoch [33/50], Train Loss: 0.1380, Val Loss: 0.6499, Val Accuracy: 87.22%, FLOPs: 0.71 GFLOPs\n",
      "Epoch [34/50], Train Loss: 0.1813, Val Loss: 0.5190, Val Accuracy: 86.34%, FLOPs: 0.71 GFLOPs\n",
      "Epoch [35/50], Train Loss: 0.1581, Val Loss: 0.4726, Val Accuracy: 84.88%, FLOPs: 0.71 GFLOPs\n",
      "Epoch [36/50], Train Loss: 0.1490, Val Loss: 0.4202, Val Accuracy: 86.93%, FLOPs: 0.71 GFLOPs\n",
      "Epoch [37/50], Train Loss: 0.0898, Val Loss: 0.6774, Val Accuracy: 85.61%, FLOPs: 0.71 GFLOPs\n",
      "Epoch [38/50], Train Loss: 0.0915, Val Loss: 0.6742, Val Accuracy: 84.14%, FLOPs: 0.71 GFLOPs\n",
      "Epoch [39/50], Train Loss: 0.1336, Val Loss: 0.8437, Val Accuracy: 86.93%, FLOPs: 0.71 GFLOPs\n",
      "Epoch [40/50], Train Loss: 0.1044, Val Loss: 0.6636, Val Accuracy: 85.90%, FLOPs: 0.71 GFLOPs\n",
      "Epoch [41/50], Train Loss: 0.1066, Val Loss: 0.5828, Val Accuracy: 82.97%, FLOPs: 0.71 GFLOPs\n",
      "Epoch [42/50], Train Loss: 0.1070, Val Loss: 0.6527, Val Accuracy: 85.17%, FLOPs: 0.71 GFLOPs\n",
      "Epoch [43/50], Train Loss: 0.0925, Val Loss: 1.0228, Val Accuracy: 86.64%, FLOPs: 0.71 GFLOPs\n",
      "Epoch [44/50], Train Loss: 0.2585, Val Loss: 0.3655, Val Accuracy: 83.26%, FLOPs: 0.71 GFLOPs\n",
      "Epoch [45/50], Train Loss: 0.1387, Val Loss: 0.5462, Val Accuracy: 85.17%, FLOPs: 0.71 GFLOPs\n",
      "Epoch [46/50], Train Loss: 0.0703, Val Loss: 0.6983, Val Accuracy: 86.93%, FLOPs: 0.71 GFLOPs\n",
      "Epoch [47/50], Train Loss: 0.1041, Val Loss: 1.0483, Val Accuracy: 82.82%, FLOPs: 0.71 GFLOPs\n",
      "Epoch [48/50], Train Loss: 0.0469, Val Loss: 0.6944, Val Accuracy: 85.61%, FLOPs: 0.71 GFLOPs\n",
      "Epoch [49/50], Train Loss: 0.1817, Val Loss: 0.5624, Val Accuracy: 84.14%, FLOPs: 0.71 GFLOPs\n",
      "Epoch [50/50], Train Loss: 0.1675, Val Loss: 0.5254, Val Accuracy: 84.88%, FLOPs: 0.71 GFLOPs\n",
      "\n",
      "Total Training Time: 2154.25 seconds\n"
     ]
    }
   ],
   "source": [
    "# Initialize a DataFrame to log training/validation metrics\n",
    "log_df = pd.DataFrame(columns=[\"Epoch\", \"Train Loss\", \"Validation Loss\", \"Validation Accuracy\"])\n",
    "\n",
    "# Record the start time\n",
    "start_time = time.time()\n",
    "\n",
    "# Training loop\n",
    "num_epochs = 50\n",
    "best_val_loss = float('inf')  # Initialize best validation loss for saving model\n",
    "\n",
    "for epoch in range(num_epochs):\n",
    "    # Training phase\n",
    "    model.train()\n",
    "    train_loss = 0.0\n",
    "\n",
    "    for images, labels in train_loader:\n",
    "        images, labels = images.to(device), labels.to(device)\n",
    "\n",
    "        # Forward pass\n",
    "        outputs = model(images)\n",
    "        loss = criterion(outputs, labels)\n",
    "\n",
    "        # Backward pass and optimization\n",
    "        optimizer.zero_grad()\n",
    "        loss.backward()\n",
    "        optimizer.step()\n",
    "\n",
    "        train_loss += loss.item()\n",
    "\n",
    "    # Validation phase\n",
    "    model.eval()\n",
    "    val_loss = 0.0\n",
    "    val_correct = 0\n",
    "    val_total = 0\n",
    "    with torch.no_grad():\n",
    "        for images, labels in val_loader:\n",
    "            images, labels = images.to(device), labels.to(device)\n",
    "            outputs = model(images)\n",
    "            loss = criterion(outputs, labels)\n",
    "            val_loss += loss.item()\n",
    "\n",
    "            _, predicted = torch.max(outputs, 1)\n",
    "            val_total += labels.size(0)\n",
    "            val_correct += (predicted == labels).sum().item()\n",
    "\n",
    "    val_accuracy = val_correct / val_total * 100\n",
    "    \n",
    "    # Calculate FLOPs after each epoch\n",
    "    with torch.no_grad():\n",
    "        flops, _ = get_model_complexity_info(model, (3, 224, 224), as_strings=False, print_per_layer_stat=False)\n",
    "\n",
    "    # Log metrics into the DataFrame\n",
    "    new_row = {\n",
    "        \"Epoch\": epoch + 1,\n",
    "        \"Train_Loss\": train_loss / len(train_loader),\n",
    "        \"Validation_Loss\": val_loss / len(val_loader),\n",
    "        \"Validation_Accuracy\": val_accuracy,\n",
    "        \"FLOPs\": flops\n",
    "    }\n",
    "    log_df = pd.concat([log_df, pd.DataFrame([new_row])], ignore_index=True)\n",
    "\n",
    "    # Print metrics for this epoch\n",
    "    print(f\"Epoch [{epoch+1}/{num_epochs}], Train Loss: {train_loss / len(train_loader):.4f}, \"\n",
    "          f\"Val Loss: {val_loss / len(val_loader):.4f}, Val Accuracy: {val_accuracy:.2f}%, \"\n",
    "          f\"FLOPs: {(flops / 1e9 ):.2f} GFLOPs\")\n",
    "\n",
    "    # Save the best model based on validation loss\n",
    "    if val_loss < best_val_loss:\n",
    "        best_val_loss = val_loss\n",
    "        torch.save(model.state_dict(), \"model_outputs_data/best_alexnet_model.pth\")\n",
    "\n",
    "\n",
    "# Calculate the total training time in seconds\n",
    "print(f\"\\nTotal Training Time: {(time.time() - start_time):.2f} seconds\")\n",
    "\n",
    "# Save the DataFrame to a CSV file for later use\n",
    "log_df.to_csv(\"model_outputs_data/model_evaluation_logs/training_logs_alexnet.csv\", index=False)"
   ],
   "metadata": {
    "collapsed": false,
    "ExecuteTime": {
     "end_time": "2024-11-21T00:06:30.816235500Z",
     "start_time": "2024-11-20T23:30:36.546183100Z"
    }
   },
   "id": "1ae5f1d5387736b9"
  },
  {
   "cell_type": "markdown",
   "source": [
    "### Prediction and Model evaluation"
   ],
   "metadata": {
    "collapsed": false
   },
   "id": "31b42697ba912ffe"
  },
  {
   "cell_type": "code",
   "execution_count": 31,
   "outputs": [
    {
     "name": "stderr",
     "output_type": "stream",
     "text": [
      "C:\\Users\\ishar\\AppData\\Local\\Temp\\ipykernel_58276\\126773375.py:2: FutureWarning: You are using `torch.load` with `weights_only=False` (the current default value), which uses the default pickle module implicitly. It is possible to construct malicious pickle data which will execute arbitrary code during unpickling (See https://github.com/pytorch/pytorch/blob/main/SECURITY.md#untrusted-models for more details). In a future release, the default value for `weights_only` will be flipped to `True`. This limits the functions that could be executed during unpickling. Arbitrary objects will no longer be allowed to be loaded via this mode unless they are explicitly allowlisted by the user via `torch.serialization.add_safe_globals`. We recommend you start setting `weights_only=True` for any use case where you don't have full control of the loaded file. Please open an issue on GitHub for any issues related to this experimental feature.\n",
      "  model.load_state_dict(torch.load(\"model_outputs_data/best_alexnet_model.pth\"))  # Load the best model\n"
     ]
    },
    {
     "name": "stdout",
     "output_type": "stream",
     "text": [
      "\n",
      "Test Accuracy: 86.43%\n",
      "Precision: 0.92\n",
      "Recall: 0.81\n",
      "F1-Score: 0.86\n",
      "\n",
      "Classification Report:\n",
      "                   precision    recall  f1-score   support\n",
      "\n",
      "No Internal Waves       0.82      0.92      0.87       719\n",
      "   Internal Waves       0.92      0.81      0.86       740\n",
      "\n",
      "         accuracy                           0.86      1459\n",
      "        macro avg       0.87      0.87      0.86      1459\n",
      "     weighted avg       0.87      0.86      0.86      1459\n",
      "\n",
      "\n",
      "Confusion Matrix:\n",
      "[[664  55]\n",
      " [143 597]]\n"
     ]
    }
   ],
   "source": [
    "# Test the model\n",
    "# model.load_state_dict(torch.load(\"model_outputs_data/best_alexnet_model.pth\"))  # Load the best model for testing\n",
    "model.eval()\n",
    "\n",
    "all_labels = []\n",
    "all_preds = []\n",
    "\n",
    "with torch.no_grad():\n",
    "    for images, labels in test_loader:\n",
    "        images, labels = images.to(device), labels.to(device)\n",
    "        outputs = model(images)\n",
    "        _, predicted = torch.max(outputs, 1)\n",
    "\n",
    "        all_labels.extend(labels.cpu().numpy())\n",
    "        all_preds.extend(predicted.cpu().numpy())\n",
    "\n",
    "# Compute Evaluation Metrics\n",
    "accuracy = accuracy_score(all_labels, all_preds)\n",
    "precision = precision_score(all_labels, all_preds, average='binary')\n",
    "recall = recall_score(all_labels, all_preds, average='binary')\n",
    "f1 = f1_score(all_labels, all_preds, average='binary')\n",
    "\n",
    "print(f\"\\nTest Accuracy: {accuracy * 100:.2f}%\")\n",
    "print(f\"Precision: {precision:.2f}\")\n",
    "print(f\"Recall: {recall:.2f}\")\n",
    "print(f\"F1-Score: {f1:.2f}\")\n",
    "\n",
    "# Classification Report\n",
    "print(\"\\nClassification Report:\")\n",
    "print(classification_report(all_labels, all_preds, target_names=[\"No Internal Waves\", \"Internal Waves\"]))\n",
    "\n",
    "# Confusion Matrix\n",
    "print(\"\\nConfusion Matrix:\")\n",
    "print(confusion_matrix(all_labels, all_preds))"
   ],
   "metadata": {
    "collapsed": false,
    "ExecuteTime": {
     "end_time": "2024-11-21T00:06:44.115049900Z",
     "start_time": "2024-11-21T00:06:30.815235600Z"
    }
   },
   "id": "761a2d9e8da9e31b"
  }
 ],
 "metadata": {
  "kernelspec": {
   "display_name": "Python 3 (ipykernel)",
   "language": "python",
   "name": "python3"
  },
  "language_info": {
   "codemirror_mode": {
    "name": "ipython",
    "version": 3
   },
   "file_extension": ".py",
   "mimetype": "text/x-python",
   "name": "python",
   "nbconvert_exporter": "python",
   "pygments_lexer": "ipython3",
   "version": "3.11.6"
  }
 },
 "nbformat": 4,
 "nbformat_minor": 5
}
