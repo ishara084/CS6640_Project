{
 "cells": [
  {
   "cell_type": "markdown",
   "id": "2a61cdd4fcf34165",
   "metadata": {
    "collapsed": false
   },
   "source": [
    "# ResNet 50 (Transfer Learning)"
   ]
  },
  {
   "cell_type": "code",
   "execution_count": 2,
   "outputs": [],
   "source": [
    "import torch\n",
    "import torchvision.models as models\n",
    "from torch import nn, optim\n",
    "from torchsummary import summary\n",
    "import pandas as pd\n",
    "from sklearn.metrics import classification_report, confusion_matrix, accuracy_score, precision_score, recall_score, f1_score\n",
    "from ptflops import get_model_complexity_info\n",
    "import time\n",
    "\n",
    "# Import custom utility module\n",
    "from utils import get_transform, prepare_train_test_data, calculate_evaluation_metrics"
   ],
   "metadata": {
    "collapsed": false,
    "ExecuteTime": {
     "end_time": "2024-11-23T00:35:09.033415400Z",
     "start_time": "2024-11-23T00:35:08.979384800Z"
    }
   },
   "id": "1ae5f1d5387736b9"
  },
  {
   "cell_type": "code",
   "execution_count": 3,
   "outputs": [
    {
     "name": "stdout",
     "output_type": "stream",
     "text": [
      "\n",
      " Device : cuda\n"
     ]
    }
   ],
   "source": [
    "# Device configuration (Select CPU or GPU)\n",
    "device = torch.device(\"cuda\" if torch.cuda.is_available() else \"cpu\")\n",
    "print(f\"\\n Device : {device}\")"
   ],
   "metadata": {
    "collapsed": false,
    "ExecuteTime": {
     "end_time": "2024-11-23T00:35:09.071862800Z",
     "start_time": "2024-11-23T00:35:08.982551500Z"
    }
   },
   "id": "188beecbc2ca2a54"
  },
  {
   "cell_type": "markdown",
   "source": [
    "### Load and prepare the data"
   ],
   "metadata": {
    "collapsed": false
   },
   "id": "a8a172f936c64fdd"
  },
  {
   "cell_type": "code",
   "execution_count": 4,
   "outputs": [],
   "source": [
    "# Transform data\n",
    "image_input_size = (3, 224, 224) # Image input size for the model\n",
    "transform = get_transform(resize_image_size = (224, 224))\n",
    "\n",
    "# Prepare Train/Val/Test Data\n",
    "train_loader, val_loader, test_loader = prepare_train_test_data(transform)\n",
    "\n",
    "# Model keyword\n",
    "model_keyword = \"resnet50\""
   ],
   "metadata": {
    "collapsed": false,
    "ExecuteTime": {
     "end_time": "2024-11-23T00:35:29.404286400Z",
     "start_time": "2024-11-23T00:35:09.013407900Z"
    }
   },
   "id": "24ffc57227a7eafc"
  },
  {
   "cell_type": "markdown",
   "source": [
    "### Load pre-trained ResNet50 model and modify it"
   ],
   "metadata": {
    "collapsed": false
   },
   "id": "77a19394ce739de6"
  },
  {
   "cell_type": "code",
   "execution_count": 5,
   "outputs": [
    {
     "name": "stderr",
     "output_type": "stream",
     "text": [
      "C:\\Users\\ishar\\.virtualenvs\\ML_env\\Lib\\site-packages\\torchvision\\models\\_utils.py:208: UserWarning: The parameter 'pretrained' is deprecated since 0.13 and may be removed in the future, please use 'weights' instead.\n",
      "  warnings.warn(\n",
      "C:\\Users\\ishar\\.virtualenvs\\ML_env\\Lib\\site-packages\\torchvision\\models\\_utils.py:223: UserWarning: Arguments other than a weight enum or `None` for 'weights' are deprecated since 0.13 and may be removed in the future. The current behavior is equivalent to passing `weights=ResNet50_Weights.IMAGENET1K_V1`. You can also use `weights=ResNet50_Weights.DEFAULT` to get the most up-to-date weights.\n",
      "  warnings.warn(msg)\n"
     ]
    },
    {
     "name": "stdout",
     "output_type": "stream",
     "text": [
      "----------------------------------------------------------------\n",
      "        Layer (type)               Output Shape         Param #\n",
      "================================================================\n",
      "            Conv2d-1         [-1, 64, 112, 112]           9,408\n",
      "       BatchNorm2d-2         [-1, 64, 112, 112]             128\n",
      "              ReLU-3         [-1, 64, 112, 112]               0\n",
      "         MaxPool2d-4           [-1, 64, 56, 56]               0\n",
      "            Conv2d-5           [-1, 64, 56, 56]           4,096\n",
      "       BatchNorm2d-6           [-1, 64, 56, 56]             128\n",
      "              ReLU-7           [-1, 64, 56, 56]               0\n",
      "            Conv2d-8           [-1, 64, 56, 56]          36,864\n",
      "       BatchNorm2d-9           [-1, 64, 56, 56]             128\n",
      "             ReLU-10           [-1, 64, 56, 56]               0\n",
      "           Conv2d-11          [-1, 256, 56, 56]          16,384\n",
      "      BatchNorm2d-12          [-1, 256, 56, 56]             512\n",
      "           Conv2d-13          [-1, 256, 56, 56]          16,384\n",
      "      BatchNorm2d-14          [-1, 256, 56, 56]             512\n",
      "             ReLU-15          [-1, 256, 56, 56]               0\n",
      "       Bottleneck-16          [-1, 256, 56, 56]               0\n",
      "           Conv2d-17           [-1, 64, 56, 56]          16,384\n",
      "      BatchNorm2d-18           [-1, 64, 56, 56]             128\n",
      "             ReLU-19           [-1, 64, 56, 56]               0\n",
      "           Conv2d-20           [-1, 64, 56, 56]          36,864\n",
      "      BatchNorm2d-21           [-1, 64, 56, 56]             128\n",
      "             ReLU-22           [-1, 64, 56, 56]               0\n",
      "           Conv2d-23          [-1, 256, 56, 56]          16,384\n",
      "      BatchNorm2d-24          [-1, 256, 56, 56]             512\n",
      "             ReLU-25          [-1, 256, 56, 56]               0\n",
      "       Bottleneck-26          [-1, 256, 56, 56]               0\n",
      "           Conv2d-27           [-1, 64, 56, 56]          16,384\n",
      "      BatchNorm2d-28           [-1, 64, 56, 56]             128\n",
      "             ReLU-29           [-1, 64, 56, 56]               0\n",
      "           Conv2d-30           [-1, 64, 56, 56]          36,864\n",
      "      BatchNorm2d-31           [-1, 64, 56, 56]             128\n",
      "             ReLU-32           [-1, 64, 56, 56]               0\n",
      "           Conv2d-33          [-1, 256, 56, 56]          16,384\n",
      "      BatchNorm2d-34          [-1, 256, 56, 56]             512\n",
      "             ReLU-35          [-1, 256, 56, 56]               0\n",
      "       Bottleneck-36          [-1, 256, 56, 56]               0\n",
      "           Conv2d-37          [-1, 128, 56, 56]          32,768\n",
      "      BatchNorm2d-38          [-1, 128, 56, 56]             256\n",
      "             ReLU-39          [-1, 128, 56, 56]               0\n",
      "           Conv2d-40          [-1, 128, 28, 28]         147,456\n",
      "      BatchNorm2d-41          [-1, 128, 28, 28]             256\n",
      "             ReLU-42          [-1, 128, 28, 28]               0\n",
      "           Conv2d-43          [-1, 512, 28, 28]          65,536\n",
      "      BatchNorm2d-44          [-1, 512, 28, 28]           1,024\n",
      "           Conv2d-45          [-1, 512, 28, 28]         131,072\n",
      "      BatchNorm2d-46          [-1, 512, 28, 28]           1,024\n",
      "             ReLU-47          [-1, 512, 28, 28]               0\n",
      "       Bottleneck-48          [-1, 512, 28, 28]               0\n",
      "           Conv2d-49          [-1, 128, 28, 28]          65,536\n",
      "      BatchNorm2d-50          [-1, 128, 28, 28]             256\n",
      "             ReLU-51          [-1, 128, 28, 28]               0\n",
      "           Conv2d-52          [-1, 128, 28, 28]         147,456\n",
      "      BatchNorm2d-53          [-1, 128, 28, 28]             256\n",
      "             ReLU-54          [-1, 128, 28, 28]               0\n",
      "           Conv2d-55          [-1, 512, 28, 28]          65,536\n",
      "      BatchNorm2d-56          [-1, 512, 28, 28]           1,024\n",
      "             ReLU-57          [-1, 512, 28, 28]               0\n",
      "       Bottleneck-58          [-1, 512, 28, 28]               0\n",
      "           Conv2d-59          [-1, 128, 28, 28]          65,536\n",
      "      BatchNorm2d-60          [-1, 128, 28, 28]             256\n",
      "             ReLU-61          [-1, 128, 28, 28]               0\n",
      "           Conv2d-62          [-1, 128, 28, 28]         147,456\n",
      "      BatchNorm2d-63          [-1, 128, 28, 28]             256\n",
      "             ReLU-64          [-1, 128, 28, 28]               0\n",
      "           Conv2d-65          [-1, 512, 28, 28]          65,536\n",
      "      BatchNorm2d-66          [-1, 512, 28, 28]           1,024\n",
      "             ReLU-67          [-1, 512, 28, 28]               0\n",
      "       Bottleneck-68          [-1, 512, 28, 28]               0\n",
      "           Conv2d-69          [-1, 128, 28, 28]          65,536\n",
      "      BatchNorm2d-70          [-1, 128, 28, 28]             256\n",
      "             ReLU-71          [-1, 128, 28, 28]               0\n",
      "           Conv2d-72          [-1, 128, 28, 28]         147,456\n",
      "      BatchNorm2d-73          [-1, 128, 28, 28]             256\n",
      "             ReLU-74          [-1, 128, 28, 28]               0\n",
      "           Conv2d-75          [-1, 512, 28, 28]          65,536\n",
      "      BatchNorm2d-76          [-1, 512, 28, 28]           1,024\n",
      "             ReLU-77          [-1, 512, 28, 28]               0\n",
      "       Bottleneck-78          [-1, 512, 28, 28]               0\n",
      "           Conv2d-79          [-1, 256, 28, 28]         131,072\n",
      "      BatchNorm2d-80          [-1, 256, 28, 28]             512\n",
      "             ReLU-81          [-1, 256, 28, 28]               0\n",
      "           Conv2d-82          [-1, 256, 14, 14]         589,824\n",
      "      BatchNorm2d-83          [-1, 256, 14, 14]             512\n",
      "             ReLU-84          [-1, 256, 14, 14]               0\n",
      "           Conv2d-85         [-1, 1024, 14, 14]         262,144\n",
      "      BatchNorm2d-86         [-1, 1024, 14, 14]           2,048\n",
      "           Conv2d-87         [-1, 1024, 14, 14]         524,288\n",
      "      BatchNorm2d-88         [-1, 1024, 14, 14]           2,048\n",
      "             ReLU-89         [-1, 1024, 14, 14]               0\n",
      "       Bottleneck-90         [-1, 1024, 14, 14]               0\n",
      "           Conv2d-91          [-1, 256, 14, 14]         262,144\n",
      "      BatchNorm2d-92          [-1, 256, 14, 14]             512\n",
      "             ReLU-93          [-1, 256, 14, 14]               0\n",
      "           Conv2d-94          [-1, 256, 14, 14]         589,824\n",
      "      BatchNorm2d-95          [-1, 256, 14, 14]             512\n",
      "             ReLU-96          [-1, 256, 14, 14]               0\n",
      "           Conv2d-97         [-1, 1024, 14, 14]         262,144\n",
      "      BatchNorm2d-98         [-1, 1024, 14, 14]           2,048\n",
      "             ReLU-99         [-1, 1024, 14, 14]               0\n",
      "      Bottleneck-100         [-1, 1024, 14, 14]               0\n",
      "          Conv2d-101          [-1, 256, 14, 14]         262,144\n",
      "     BatchNorm2d-102          [-1, 256, 14, 14]             512\n",
      "            ReLU-103          [-1, 256, 14, 14]               0\n",
      "          Conv2d-104          [-1, 256, 14, 14]         589,824\n",
      "     BatchNorm2d-105          [-1, 256, 14, 14]             512\n",
      "            ReLU-106          [-1, 256, 14, 14]               0\n",
      "          Conv2d-107         [-1, 1024, 14, 14]         262,144\n",
      "     BatchNorm2d-108         [-1, 1024, 14, 14]           2,048\n",
      "            ReLU-109         [-1, 1024, 14, 14]               0\n",
      "      Bottleneck-110         [-1, 1024, 14, 14]               0\n",
      "          Conv2d-111          [-1, 256, 14, 14]         262,144\n",
      "     BatchNorm2d-112          [-1, 256, 14, 14]             512\n",
      "            ReLU-113          [-1, 256, 14, 14]               0\n",
      "          Conv2d-114          [-1, 256, 14, 14]         589,824\n",
      "     BatchNorm2d-115          [-1, 256, 14, 14]             512\n",
      "            ReLU-116          [-1, 256, 14, 14]               0\n",
      "          Conv2d-117         [-1, 1024, 14, 14]         262,144\n",
      "     BatchNorm2d-118         [-1, 1024, 14, 14]           2,048\n",
      "            ReLU-119         [-1, 1024, 14, 14]               0\n",
      "      Bottleneck-120         [-1, 1024, 14, 14]               0\n",
      "          Conv2d-121          [-1, 256, 14, 14]         262,144\n",
      "     BatchNorm2d-122          [-1, 256, 14, 14]             512\n",
      "            ReLU-123          [-1, 256, 14, 14]               0\n",
      "          Conv2d-124          [-1, 256, 14, 14]         589,824\n",
      "     BatchNorm2d-125          [-1, 256, 14, 14]             512\n",
      "            ReLU-126          [-1, 256, 14, 14]               0\n",
      "          Conv2d-127         [-1, 1024, 14, 14]         262,144\n",
      "     BatchNorm2d-128         [-1, 1024, 14, 14]           2,048\n",
      "            ReLU-129         [-1, 1024, 14, 14]               0\n",
      "      Bottleneck-130         [-1, 1024, 14, 14]               0\n",
      "          Conv2d-131          [-1, 256, 14, 14]         262,144\n",
      "     BatchNorm2d-132          [-1, 256, 14, 14]             512\n",
      "            ReLU-133          [-1, 256, 14, 14]               0\n",
      "          Conv2d-134          [-1, 256, 14, 14]         589,824\n",
      "     BatchNorm2d-135          [-1, 256, 14, 14]             512\n",
      "            ReLU-136          [-1, 256, 14, 14]               0\n",
      "          Conv2d-137         [-1, 1024, 14, 14]         262,144\n",
      "     BatchNorm2d-138         [-1, 1024, 14, 14]           2,048\n",
      "            ReLU-139         [-1, 1024, 14, 14]               0\n",
      "      Bottleneck-140         [-1, 1024, 14, 14]               0\n",
      "          Conv2d-141          [-1, 512, 14, 14]         524,288\n",
      "     BatchNorm2d-142          [-1, 512, 14, 14]           1,024\n",
      "            ReLU-143          [-1, 512, 14, 14]               0\n",
      "          Conv2d-144            [-1, 512, 7, 7]       2,359,296\n",
      "     BatchNorm2d-145            [-1, 512, 7, 7]           1,024\n",
      "            ReLU-146            [-1, 512, 7, 7]               0\n",
      "          Conv2d-147           [-1, 2048, 7, 7]       1,048,576\n",
      "     BatchNorm2d-148           [-1, 2048, 7, 7]           4,096\n",
      "          Conv2d-149           [-1, 2048, 7, 7]       2,097,152\n",
      "     BatchNorm2d-150           [-1, 2048, 7, 7]           4,096\n",
      "            ReLU-151           [-1, 2048, 7, 7]               0\n",
      "      Bottleneck-152           [-1, 2048, 7, 7]               0\n",
      "          Conv2d-153            [-1, 512, 7, 7]       1,048,576\n",
      "     BatchNorm2d-154            [-1, 512, 7, 7]           1,024\n",
      "            ReLU-155            [-1, 512, 7, 7]               0\n",
      "          Conv2d-156            [-1, 512, 7, 7]       2,359,296\n",
      "     BatchNorm2d-157            [-1, 512, 7, 7]           1,024\n",
      "            ReLU-158            [-1, 512, 7, 7]               0\n",
      "          Conv2d-159           [-1, 2048, 7, 7]       1,048,576\n",
      "     BatchNorm2d-160           [-1, 2048, 7, 7]           4,096\n",
      "            ReLU-161           [-1, 2048, 7, 7]               0\n",
      "      Bottleneck-162           [-1, 2048, 7, 7]               0\n",
      "          Conv2d-163            [-1, 512, 7, 7]       1,048,576\n",
      "     BatchNorm2d-164            [-1, 512, 7, 7]           1,024\n",
      "            ReLU-165            [-1, 512, 7, 7]               0\n",
      "          Conv2d-166            [-1, 512, 7, 7]       2,359,296\n",
      "     BatchNorm2d-167            [-1, 512, 7, 7]           1,024\n",
      "            ReLU-168            [-1, 512, 7, 7]               0\n",
      "          Conv2d-169           [-1, 2048, 7, 7]       1,048,576\n",
      "     BatchNorm2d-170           [-1, 2048, 7, 7]           4,096\n",
      "            ReLU-171           [-1, 2048, 7, 7]               0\n",
      "      Bottleneck-172           [-1, 2048, 7, 7]               0\n",
      "AdaptiveAvgPool2d-173           [-1, 2048, 1, 1]               0\n",
      "          Linear-174                    [-1, 2]           4,098\n",
      "================================================================\n",
      "Total params: 23,512,130\n",
      "Trainable params: 23,512,130\n",
      "Non-trainable params: 0\n",
      "----------------------------------------------------------------\n",
      "Input size (MB): 0.57\n",
      "Forward/backward pass size (MB): 286.55\n",
      "Params size (MB): 89.69\n",
      "Estimated Total Size (MB): 376.82\n",
      "----------------------------------------------------------------\n"
     ]
    }
   ],
   "source": [
    "# Load pre-trained ResNet50\n",
    "model = models.resnet50(pretrained=True)\n",
    "\n",
    "# Modify the final fully connected layer for binary classification\n",
    "num_features = model.fc.in_features\n",
    "model.fc = nn.Linear(num_features, 2)  # Binary classification: Internal waves (1) or No waves (0)\n",
    "model = model.to(device)\n",
    "\n",
    "# Define the loss function and optimizer\n",
    "criterion = nn.CrossEntropyLoss()\n",
    "optimizer = optim.Adam(model.parameters(), lr=0.001)\n",
    "scheduler = optim.lr_scheduler.ReduceLROnPlateau(optimizer, mode='min', patience=5, factor=0.1) # Implement a learning rate scheduler to adjust the learning rate during training\n",
    "\n",
    "# Print summary\n",
    "summary(model, input_size=image_input_size)"
   ],
   "metadata": {
    "collapsed": false,
    "ExecuteTime": {
     "end_time": "2024-11-23T00:35:30.247743500Z",
     "start_time": "2024-11-23T00:35:29.406289700Z"
    }
   },
   "id": "e012d0e80e8527f6"
  },
  {
   "cell_type": "markdown",
   "source": [
    "### Train the model"
   ],
   "metadata": {
    "collapsed": false
   },
   "id": "f57b564354cd16d3"
  },
  {
   "cell_type": "code",
   "execution_count": 35,
   "outputs": [
    {
     "name": "stderr",
     "output_type": "stream",
     "text": [
      "C:\\Users\\ishar\\AppData\\Local\\Temp\\ipykernel_20404\\3796617994.py:60: FutureWarning: The behavior of DataFrame concatenation with empty or all-NA entries is deprecated. In a future version, this will no longer exclude empty or all-NA columns when determining the result dtypes. To retain the old behavior, exclude the relevant entries before the concat operation.\n",
      "  log_df = pd.concat([log_df, pd.DataFrame([new_row])], ignore_index=True)\n"
     ]
    },
    {
     "name": "stdout",
     "output_type": "stream",
     "text": [
      "Epoch [1/50], Train Loss: 0.5716, Val Loss: 0.4982, Val Accuracy: 81.50%, FLOPs: 4.13 GFLOPs\n",
      "Epoch [2/50], Train Loss: 0.4450, Val Loss: 0.5995, Val Accuracy: 73.72%, FLOPs: 4.13 GFLOPs\n",
      "Epoch [3/50], Train Loss: 0.4120, Val Loss: 0.4799, Val Accuracy: 77.97%, FLOPs: 4.13 GFLOPs\n",
      "Epoch [4/50], Train Loss: 0.3880, Val Loss: 0.4515, Val Accuracy: 81.79%, FLOPs: 4.13 GFLOPs\n",
      "Epoch [5/50], Train Loss: 0.3660, Val Loss: 0.3950, Val Accuracy: 83.26%, FLOPs: 4.13 GFLOPs\n",
      "Epoch [6/50], Train Loss: 0.3216, Val Loss: 0.3371, Val Accuracy: 87.22%, FLOPs: 4.13 GFLOPs\n",
      "Epoch [7/50], Train Loss: 0.3226, Val Loss: 0.3376, Val Accuracy: 83.85%, FLOPs: 4.13 GFLOPs\n",
      "Epoch [8/50], Train Loss: 0.2850, Val Loss: 0.3357, Val Accuracy: 87.37%, FLOPs: 4.13 GFLOPs\n",
      "Epoch [9/50], Train Loss: 0.2566, Val Loss: 0.3092, Val Accuracy: 86.93%, FLOPs: 4.13 GFLOPs\n",
      "Epoch [10/50], Train Loss: 0.2566, Val Loss: 0.3791, Val Accuracy: 83.11%, FLOPs: 4.13 GFLOPs\n",
      "Epoch [11/50], Train Loss: 0.1966, Val Loss: 0.5201, Val Accuracy: 81.20%, FLOPs: 4.13 GFLOPs\n",
      "Epoch [12/50], Train Loss: 0.2046, Val Loss: 0.3977, Val Accuracy: 86.05%, FLOPs: 4.13 GFLOPs\n",
      "Epoch [13/50], Train Loss: 0.1432, Val Loss: 0.4904, Val Accuracy: 86.20%, FLOPs: 4.13 GFLOPs\n",
      "Epoch [14/50], Train Loss: 0.1787, Val Loss: 0.4813, Val Accuracy: 81.50%, FLOPs: 4.13 GFLOPs\n",
      "Epoch [15/50], Train Loss: 0.1700, Val Loss: 0.4293, Val Accuracy: 81.94%, FLOPs: 4.13 GFLOPs\n",
      "Epoch [16/50], Train Loss: 0.0893, Val Loss: 0.7390, Val Accuracy: 79.44%, FLOPs: 4.13 GFLOPs\n",
      "Epoch [17/50], Train Loss: 0.1054, Val Loss: 0.4993, Val Accuracy: 86.05%, FLOPs: 4.13 GFLOPs\n",
      "Epoch [18/50], Train Loss: 0.0857, Val Loss: 0.5288, Val Accuracy: 85.61%, FLOPs: 4.13 GFLOPs\n",
      "Epoch [19/50], Train Loss: 0.0728, Val Loss: 0.3850, Val Accuracy: 86.20%, FLOPs: 4.13 GFLOPs\n",
      "Epoch [20/50], Train Loss: 0.0842, Val Loss: 1.0585, Val Accuracy: 74.45%, FLOPs: 4.13 GFLOPs\n",
      "Epoch [21/50], Train Loss: 0.0913, Val Loss: 0.4910, Val Accuracy: 86.20%, FLOPs: 4.13 GFLOPs\n",
      "Epoch [22/50], Train Loss: 0.0589, Val Loss: 0.4324, Val Accuracy: 86.64%, FLOPs: 4.13 GFLOPs\n",
      "Epoch [23/50], Train Loss: 0.0435, Val Loss: 0.4694, Val Accuracy: 86.20%, FLOPs: 4.13 GFLOPs\n",
      "Epoch [24/50], Train Loss: 0.0821, Val Loss: 0.7637, Val Accuracy: 83.41%, FLOPs: 4.13 GFLOPs\n",
      "Epoch [25/50], Train Loss: 0.0994, Val Loss: 0.4180, Val Accuracy: 85.76%, FLOPs: 4.13 GFLOPs\n",
      "Epoch [26/50], Train Loss: 0.0399, Val Loss: 0.6065, Val Accuracy: 85.90%, FLOPs: 4.13 GFLOPs\n",
      "Epoch [27/50], Train Loss: 0.0428, Val Loss: 0.6321, Val Accuracy: 84.88%, FLOPs: 4.13 GFLOPs\n",
      "Epoch [28/50], Train Loss: 0.0386, Val Loss: 0.5187, Val Accuracy: 87.08%, FLOPs: 4.13 GFLOPs\n",
      "Epoch [29/50], Train Loss: 0.0518, Val Loss: 0.3919, Val Accuracy: 86.20%, FLOPs: 4.13 GFLOPs\n",
      "Epoch [30/50], Train Loss: 0.0446, Val Loss: 0.4699, Val Accuracy: 87.67%, FLOPs: 4.13 GFLOPs\n",
      "Epoch [31/50], Train Loss: 0.0502, Val Loss: 0.4496, Val Accuracy: 88.25%, FLOPs: 4.13 GFLOPs\n",
      "Epoch [32/50], Train Loss: 0.0289, Val Loss: 0.6698, Val Accuracy: 85.61%, FLOPs: 4.13 GFLOPs\n",
      "Epoch [33/50], Train Loss: 0.0306, Val Loss: 0.7971, Val Accuracy: 80.76%, FLOPs: 4.13 GFLOPs\n",
      "Epoch [34/50], Train Loss: 0.0753, Val Loss: 0.4961, Val Accuracy: 86.64%, FLOPs: 4.13 GFLOPs\n",
      "Epoch [35/50], Train Loss: 0.0279, Val Loss: 0.5129, Val Accuracy: 84.43%, FLOPs: 4.13 GFLOPs\n",
      "Epoch [36/50], Train Loss: 0.0202, Val Loss: 0.6439, Val Accuracy: 83.85%, FLOPs: 4.13 GFLOPs\n",
      "Epoch [37/50], Train Loss: 0.0562, Val Loss: 1.3940, Val Accuracy: 75.77%, FLOPs: 4.13 GFLOPs\n",
      "Epoch [38/50], Train Loss: 0.0320, Val Loss: 0.7417, Val Accuracy: 83.11%, FLOPs: 4.13 GFLOPs\n",
      "Epoch [39/50], Train Loss: 0.0374, Val Loss: 0.5189, Val Accuracy: 85.90%, FLOPs: 4.13 GFLOPs\n",
      "Epoch [40/50], Train Loss: 0.0301, Val Loss: 0.6015, Val Accuracy: 86.34%, FLOPs: 4.13 GFLOPs\n",
      "Epoch [41/50], Train Loss: 0.0169, Val Loss: 0.5788, Val Accuracy: 87.08%, FLOPs: 4.13 GFLOPs\n",
      "Epoch [42/50], Train Loss: 0.0062, Val Loss: 0.6678, Val Accuracy: 85.61%, FLOPs: 4.13 GFLOPs\n",
      "Epoch [43/50], Train Loss: 0.0180, Val Loss: 0.5767, Val Accuracy: 86.05%, FLOPs: 4.13 GFLOPs\n",
      "Epoch [44/50], Train Loss: 0.0459, Val Loss: 0.6674, Val Accuracy: 86.78%, FLOPs: 4.13 GFLOPs\n",
      "Epoch [45/50], Train Loss: 0.0467, Val Loss: 0.5564, Val Accuracy: 85.46%, FLOPs: 4.13 GFLOPs\n",
      "Epoch [46/50], Train Loss: 0.0165, Val Loss: 0.4851, Val Accuracy: 88.11%, FLOPs: 4.13 GFLOPs\n",
      "Epoch [47/50], Train Loss: 0.0179, Val Loss: 0.6182, Val Accuracy: 86.20%, FLOPs: 4.13 GFLOPs\n",
      "Epoch [48/50], Train Loss: 0.0945, Val Loss: 0.6532, Val Accuracy: 82.23%, FLOPs: 4.13 GFLOPs\n",
      "Epoch [49/50], Train Loss: 0.0305, Val Loss: 0.5099, Val Accuracy: 87.37%, FLOPs: 4.13 GFLOPs\n",
      "Epoch [50/50], Train Loss: 0.0132, Val Loss: 0.4775, Val Accuracy: 87.67%, FLOPs: 4.13 GFLOPs\n",
      "\n",
      "Total Training Time: 4635.63 seconds\n"
     ]
    }
   ],
   "source": [
    "# Initialize a df to log training/validation metrics\n",
    "log_df = []\n",
    "\n",
    "# Record the start time\n",
    "start_time = time.time()\n",
    "\n",
    "# Training loop\n",
    "num_epochs = 50\n",
    "best_val_loss = float('inf')  # Initialize best validation loss for saving model\n",
    "\n",
    "for epoch in range(num_epochs):\n",
    "    # Training phase\n",
    "    model.train()\n",
    "    train_loss = 0.0\n",
    "\n",
    "    for images, labels in train_loader:\n",
    "        images, labels = images.to(device), labels.to(device)\n",
    "\n",
    "        # Forward pass\n",
    "        outputs = model(images)\n",
    "        loss = criterion(outputs, labels)\n",
    "\n",
    "        # Backward pass and optimization\n",
    "        optimizer.zero_grad()\n",
    "        loss.backward()\n",
    "        optimizer.step()\n",
    "\n",
    "        train_loss += loss.item()\n",
    "\n",
    "    # Validation phase\n",
    "    model.eval()\n",
    "    val_loss = 0.0\n",
    "    val_correct = 0\n",
    "    val_total = 0\n",
    "    with torch.no_grad():\n",
    "        for images, labels in val_loader:\n",
    "            images, labels = images.to(device), labels.to(device)\n",
    "            outputs = model(images)\n",
    "            loss = criterion(outputs, labels)\n",
    "            val_loss += loss.item()\n",
    "\n",
    "            _, predicted = torch.max(outputs, 1)\n",
    "            val_total += labels.size(0)\n",
    "            val_correct += (predicted == labels).sum().item()\n",
    "\n",
    "    val_accuracy = val_correct / val_total * 100\n",
    "    \n",
    "    # Adjust learning rate\n",
    "    scheduler.step(val_loss)\n",
    "    \n",
    "    # Calculate FLOPs after each epoch\n",
    "    with torch.no_grad():\n",
    "        flops, _ = get_model_complexity_info(model, image_input_size, as_strings=False, print_per_layer_stat=False)\n",
    "    \n",
    "    # Log metrics into the DataFrame\n",
    "    new_row = {\n",
    "        \"Epoch\": epoch + 1,\n",
    "        \"Train_Loss\": train_loss / len(train_loader),\n",
    "        \"Validation_Loss\": val_loss / len(val_loader),\n",
    "        \"Validation_Accuracy\": val_accuracy,\n",
    "        \"FLOPs\": flops\n",
    "    }\n",
    "    log_df.append(new_row)\n",
    "\n",
    "    # Print metrics for this epoch\n",
    "    print(f\"Epoch [{epoch+1}/{num_epochs}], Train Loss: {train_loss / len(train_loader):.4f}, \"\n",
    "          f\"Val Loss: {val_loss / len(val_loader):.4f}, Val Accuracy: {val_accuracy:.2f}%, \"\n",
    "          f\"FLOPs: {(flops / 1e9 ):.2f} GFLOPs\")\n",
    "\n",
    "    # Save the best model based on validation loss\n",
    "    if val_loss < best_val_loss:\n",
    "        best_val_loss = val_loss\n",
    "        torch.save(model.state_dict(), f\"model_outputs_data/best_{model_keyword}_model.pth\")\n",
    "\n",
    "# Calculate the total training time in seconds\n",
    "print(f\"\\nTotal Training Time: {(time.time() - start_time):.2f} seconds\")\n",
    "\n",
    "# Save the DataFrame to a CSV file for later use\n",
    "log_df = pd.DataFrame(log_df)\n",
    "log_df.to_csv(f\"model_outputs_data/model_evaluation_logs/training_{model_keyword}.csv\", index=False)"
   ],
   "metadata": {
    "collapsed": false,
    "ExecuteTime": {
     "end_time": "2024-11-21T01:27:50.810427Z",
     "start_time": "2024-11-21T00:10:35.157771800Z"
    }
   },
   "id": "d654b3f73f9fe431"
  },
  {
   "cell_type": "markdown",
   "source": [
    "### Prediction and Model evaluation"
   ],
   "metadata": {
    "collapsed": false
   },
   "id": "7acaa3beca7b584f"
  },
  {
   "cell_type": "code",
   "execution_count": 36,
   "outputs": [
    {
     "name": "stdout",
     "output_type": "stream",
     "text": [
      "\n",
      "Test Accuracy: 87.32%\n",
      "Precision: 0.91\n",
      "Recall: 0.83\n",
      "F1-Score: 0.87\n",
      "\n",
      "Classification Report:\n",
      "                   precision    recall  f1-score   support\n",
      "\n",
      "No Internal Waves       0.84      0.92      0.88       719\n",
      "   Internal Waves       0.91      0.83      0.87       740\n",
      "\n",
      "         accuracy                           0.87      1459\n",
      "        macro avg       0.88      0.87      0.87      1459\n",
      "     weighted avg       0.88      0.87      0.87      1459\n",
      "\n",
      "\n",
      "Confusion Matrix:\n",
      "[[659  60]\n",
      " [125 615]]\n"
     ]
    }
   ],
   "source": [
    "# Test the model\n",
    "model.eval()\n",
    "\n",
    "all_labels = []\n",
    "all_preds = []\n",
    "\n",
    "with torch.no_grad():\n",
    "    for images, labels in test_loader:\n",
    "        images, labels = images.to(device), labels.to(device)\n",
    "        outputs = model(images)\n",
    "        _, predicted = torch.max(outputs, 1)\n",
    "\n",
    "        all_labels.extend(labels.cpu().numpy())\n",
    "        all_preds.extend(predicted.cpu().numpy())\n",
    "\n",
    "# Print evaluation metrics\n",
    "calculate_evaluation_metrics(all_labels, all_preds, model_keyword)"
   ],
   "metadata": {
    "collapsed": false,
    "ExecuteTime": {
     "end_time": "2024-11-21T01:28:32.330307700Z",
     "start_time": "2024-11-21T01:28:18.298239600Z"
    }
   },
   "id": "238f872459953610"
  },
  {
   "cell_type": "code",
   "execution_count": 40,
   "outputs": [],
   "source": [
    "# Save prediction data to a CSV file (As a backup)\n",
    "results_df = pd.DataFrame({\n",
    "    \"true_labels\": all_labels,\n",
    "    \"predicted_labels\": all_preds\n",
    "})\n",
    "results_df.to_csv(\"model_outputs_data/model_prediction_logs/resnet50_labels_predictions.csv\", index=False)"
   ],
   "metadata": {
    "collapsed": false,
    "ExecuteTime": {
     "end_time": "2024-11-21T06:45:00.109446600Z",
     "start_time": "2024-11-21T06:45:00.078394300Z"
    }
   },
   "id": "595993653eae51d7"
  }
 ],
 "metadata": {
  "kernelspec": {
   "display_name": "Python 3 (ipykernel)",
   "language": "python",
   "name": "python3"
  },
  "language_info": {
   "codemirror_mode": {
    "name": "ipython",
    "version": 3
   },
   "file_extension": ".py",
   "mimetype": "text/x-python",
   "name": "python",
   "nbconvert_exporter": "python",
   "pygments_lexer": "ipython3",
   "version": "3.11.6"
  }
 },
 "nbformat": 4,
 "nbformat_minor": 5
}
