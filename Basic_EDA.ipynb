{
 "cells": [
  {
   "cell_type": "markdown",
   "id": "2a61cdd4fcf34165",
   "metadata": {
    "collapsed": false
   },
   "source": [
    "# Basic_CNN"
   ]
  },
  {
   "cell_type": "code",
   "execution_count": 3,
   "outputs": [],
   "source": [
    "import os\n",
    "import numpy as np\n",
    "import pandas as pd\n",
    "import matplotlib.pyplot as plt\n",
    "from sklearn.metrics import accuracy_score, precision_score, recall_score, f1_score, classification_report, confusion_matrix\n",
    "import seaborn as sns"
   ],
   "metadata": {
    "collapsed": false,
    "ExecuteTime": {
     "end_time": "2024-11-21T06:39:35.865607700Z",
     "start_time": "2024-11-21T06:39:35.342541800Z"
    }
   },
   "id": "47c6069681648b33"
  },
  {
   "cell_type": "code",
   "execution_count": 5,
   "outputs": [],
   "source": [
    "# Path setup\n",
    "train_dir = 'data/images_train'\n",
    "test_dir = 'data/images_test'\n",
    "train_csv = pd.read_csv('data/train.csv')\n",
    "test_csv = pd.read_csv('data/test.csv')"
   ],
   "metadata": {
    "collapsed": false,
    "ExecuteTime": {
     "end_time": "2024-11-18T04:23:28.071153300Z",
     "start_time": "2024-11-18T04:23:27.915276400Z"
    }
   },
   "id": "aa390c699364b449"
  },
  {
   "cell_type": "code",
   "execution_count": 5,
   "outputs": [
    {
     "name": "stdout",
     "output_type": "stream",
     "text": [
      "\n",
      "Test Accuracy: 89.65%\n",
      "Precision: 0.95\n",
      "Recall: 0.84\n",
      "F1-Score: 0.89\n",
      "\n",
      "Classification Report:\n",
      "                   precision    recall  f1-score   support\n",
      "\n",
      "No Internal Waves       0.85      0.96      0.90       719\n",
      "   Internal Waves       0.95      0.84      0.89       740\n",
      "\n",
      "         accuracy                           0.90      1459\n",
      "        macro avg       0.90      0.90      0.90      1459\n",
      "     weighted avg       0.90      0.90      0.90      1459\n",
      "\n",
      "\n",
      "Confusion Matrix:\n",
      "[[689  30]\n",
      " [121 619]]\n"
     ]
    }
   ],
   "source": [
    "# Load the predictions CSV file for Inception V3 model\n",
    "results_df = pd.read_csv(\"model_outputs_data/model_prediction_logs/inception_v3_labels_predictions.csv\")\n",
    "\n",
    "# Extract true labels and predictions\n",
    "all_labels = results_df[\"true_labels\"].to_numpy()\n",
    "all_preds = results_df[\"predicted_labels\"].to_numpy()\n",
    "\n",
    "# Compute evaluation metrics\n",
    "accuracy = accuracy_score(all_labels, all_preds)\n",
    "precision = precision_score(all_labels, all_preds, average='binary')\n",
    "recall = recall_score(all_labels, all_preds, average='binary')\n",
    "f1 = f1_score(all_labels, all_preds, average='binary')\n",
    "\n",
    "print(f\"\\nTest Accuracy: {accuracy * 100:.2f}%\")\n",
    "print(f\"Precision: {precision:.2f}\")\n",
    "print(f\"Recall: {recall:.2f}\")\n",
    "print(f\"F1-Score: {f1:.2f}\")\n",
    "\n",
    "# Generate classification report\n",
    "print(\"\\nClassification Report:\")\n",
    "print(classification_report(all_labels, all_preds, target_names=[\"No Internal Waves\", \"Internal Waves\"]))\n",
    "\n",
    "# Generate confusion matrix\n",
    "print(\"\\nConfusion Matrix:\")\n",
    "cm = confusion_matrix(all_labels, all_preds)\n",
    "print(cm)\n"
   ],
   "metadata": {
    "collapsed": false,
    "ExecuteTime": {
     "end_time": "2024-11-21T06:39:58.229869300Z",
     "start_time": "2024-11-21T06:39:58.214961100Z"
    }
   },
   "id": "269340cea1cdb9ab"
  }
 ],
 "metadata": {
  "kernelspec": {
   "display_name": "Python 3 (ipykernel)",
   "language": "python",
   "name": "python3"
  },
  "language_info": {
   "codemirror_mode": {
    "name": "ipython",
    "version": 3
   },
   "file_extension": ".py",
   "mimetype": "text/x-python",
   "name": "python",
   "nbconvert_exporter": "python",
   "pygments_lexer": "ipython3",
   "version": "3.11.6"
  }
 },
 "nbformat": 4,
 "nbformat_minor": 5
}
