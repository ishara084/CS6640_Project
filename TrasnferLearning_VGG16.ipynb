{
 "cells": [
  {
   "cell_type": "markdown",
   "id": "2a61cdd4fcf34165",
   "metadata": {
    "collapsed": false
   },
   "source": [
    "# VGG-16 (Transfer Learning)"
   ]
  },
  {
   "cell_type": "code",
   "execution_count": 1,
   "outputs": [],
   "source": [
    "import torch\n",
    "import torchvision.models as models\n",
    "from torch import nn, optim\n",
    "from torchsummary import summary\n",
    "import pandas as pd\n",
    "from sklearn.metrics import classification_report, confusion_matrix, accuracy_score, precision_score, recall_score, f1_score\n",
    "from ptflops import get_model_complexity_info\n",
    "import os\n",
    "\n",
    "# Import custom utility module\n",
    "from utils import get_transform, prepare_train_test_data"
   ],
   "metadata": {
    "collapsed": false,
    "ExecuteTime": {
     "end_time": "2024-11-22T19:52:02.545884Z",
     "start_time": "2024-11-22T19:51:59.652357Z"
    }
   },
   "id": "3a21c456bcaf905b"
  },
  {
   "cell_type": "code",
   "execution_count": 2,
   "outputs": [
    {
     "name": "stdout",
     "output_type": "stream",
     "text": [
      "\n",
      " Device : cuda\n"
     ]
    }
   ],
   "source": [
    "# Device configuration (Select CPU or GPU)\n",
    "device = torch.device(\"cuda\" if torch.cuda.is_available() else \"cpu\")\n",
    "print(f\"\\n Device : {device}\")"
   ],
   "metadata": {
    "collapsed": false,
    "ExecuteTime": {
     "end_time": "2024-11-22T19:52:02.567903100Z",
     "start_time": "2024-11-22T19:52:02.538863600Z"
    }
   },
   "id": "f26b91bef342d73f"
  },
  {
   "cell_type": "markdown",
   "source": [
    "### Load and prepare the data"
   ],
   "metadata": {
    "collapsed": false
   },
   "id": "bfe3785237c973d7"
  },
  {
   "cell_type": "code",
   "execution_count": 3,
   "outputs": [],
   "source": [
    "# Transform data\n",
    "image_input_size = (3, 224, 224) # Image input size for the model\n",
    "transform = get_transform(resize_image_size = (224, 224))\n",
    "\n",
    "# Prepare Train/Val/Test Data\n",
    "train_loader, val_loader, test_loader = prepare_train_test_data(transform)"
   ],
   "metadata": {
    "collapsed": false,
    "ExecuteTime": {
     "end_time": "2024-11-22T19:52:21.687406300Z",
     "start_time": "2024-11-22T19:52:02.562673200Z"
    }
   },
   "id": "54708feab2e7ddd8"
  },
  {
   "cell_type": "markdown",
   "source": [
    "### Load pre-trained VGG-16 model and modify it"
   ],
   "metadata": {
    "collapsed": false
   },
   "id": "9d988a030bfc5d7"
  },
  {
   "cell_type": "code",
   "execution_count": 4,
   "outputs": [
    {
     "name": "stderr",
     "output_type": "stream",
     "text": [
      "C:\\Users\\ishar\\.virtualenvs\\ML_env\\Lib\\site-packages\\torchvision\\models\\_utils.py:208: UserWarning: The parameter 'pretrained' is deprecated since 0.13 and may be removed in the future, please use 'weights' instead.\n",
      "  warnings.warn(\n",
      "C:\\Users\\ishar\\.virtualenvs\\ML_env\\Lib\\site-packages\\torchvision\\models\\_utils.py:223: UserWarning: Arguments other than a weight enum or `None` for 'weights' are deprecated since 0.13 and may be removed in the future. The current behavior is equivalent to passing `weights=VGG16_Weights.IMAGENET1K_V1`. You can also use `weights=VGG16_Weights.DEFAULT` to get the most up-to-date weights.\n",
      "  warnings.warn(msg)\n"
     ]
    },
    {
     "name": "stdout",
     "output_type": "stream",
     "text": [
      "----------------------------------------------------------------\n",
      "        Layer (type)               Output Shape         Param #\n",
      "================================================================\n",
      "            Conv2d-1         [-1, 64, 224, 224]           1,792\n",
      "              ReLU-2         [-1, 64, 224, 224]               0\n",
      "            Conv2d-3         [-1, 64, 224, 224]          36,928\n",
      "              ReLU-4         [-1, 64, 224, 224]               0\n",
      "         MaxPool2d-5         [-1, 64, 112, 112]               0\n",
      "            Conv2d-6        [-1, 128, 112, 112]          73,856\n",
      "              ReLU-7        [-1, 128, 112, 112]               0\n",
      "            Conv2d-8        [-1, 128, 112, 112]         147,584\n",
      "              ReLU-9        [-1, 128, 112, 112]               0\n",
      "        MaxPool2d-10          [-1, 128, 56, 56]               0\n",
      "           Conv2d-11          [-1, 256, 56, 56]         295,168\n",
      "             ReLU-12          [-1, 256, 56, 56]               0\n",
      "           Conv2d-13          [-1, 256, 56, 56]         590,080\n",
      "             ReLU-14          [-1, 256, 56, 56]               0\n",
      "           Conv2d-15          [-1, 256, 56, 56]         590,080\n",
      "             ReLU-16          [-1, 256, 56, 56]               0\n",
      "        MaxPool2d-17          [-1, 256, 28, 28]               0\n",
      "           Conv2d-18          [-1, 512, 28, 28]       1,180,160\n",
      "             ReLU-19          [-1, 512, 28, 28]               0\n",
      "           Conv2d-20          [-1, 512, 28, 28]       2,359,808\n",
      "             ReLU-21          [-1, 512, 28, 28]               0\n",
      "           Conv2d-22          [-1, 512, 28, 28]       2,359,808\n",
      "             ReLU-23          [-1, 512, 28, 28]               0\n",
      "        MaxPool2d-24          [-1, 512, 14, 14]               0\n",
      "           Conv2d-25          [-1, 512, 14, 14]       2,359,808\n",
      "             ReLU-26          [-1, 512, 14, 14]               0\n",
      "           Conv2d-27          [-1, 512, 14, 14]       2,359,808\n",
      "             ReLU-28          [-1, 512, 14, 14]               0\n",
      "           Conv2d-29          [-1, 512, 14, 14]       2,359,808\n",
      "             ReLU-30          [-1, 512, 14, 14]               0\n",
      "        MaxPool2d-31            [-1, 512, 7, 7]               0\n",
      "AdaptiveAvgPool2d-32            [-1, 512, 7, 7]               0\n",
      "           Linear-33                 [-1, 4096]     102,764,544\n",
      "             ReLU-34                 [-1, 4096]               0\n",
      "          Dropout-35                 [-1, 4096]               0\n",
      "           Linear-36                 [-1, 4096]      16,781,312\n",
      "             ReLU-37                 [-1, 4096]               0\n",
      "          Dropout-38                 [-1, 4096]               0\n",
      "           Linear-39                    [-1, 2]           8,194\n",
      "================================================================\n",
      "Total params: 134,268,738\n",
      "Trainable params: 134,268,738\n",
      "Non-trainable params: 0\n",
      "----------------------------------------------------------------\n",
      "Input size (MB): 0.57\n",
      "Forward/backward pass size (MB): 218.77\n",
      "Params size (MB): 512.19\n",
      "Estimated Total Size (MB): 731.54\n",
      "----------------------------------------------------------------\n"
     ]
    }
   ],
   "source": [
    "# Load pre-trained VGG-16\n",
    "model = models.vgg16(pretrained=True)\n",
    "\n",
    "# Modify the final fully connected layer for binary classification\n",
    "num_features = model.classifier[6].in_features\n",
    "model.classifier[6] = nn.Linear(num_features, 2)  # Binary classification: Internal waves (1) or No waves (0)\n",
    "model = model.to(device)\n",
    "\n",
    "# Define the loss function and optimizer\n",
    "criterion = nn.CrossEntropyLoss()\n",
    "optimizer = optim.Adam(model.parameters(), lr=0.001)\n",
    "scheduler = optim.lr_scheduler.ReduceLROnPlateau(optimizer, mode='min', patience=5, factor=0.1) # Implement a learning rate scheduler to adjust the learning rate during training\n",
    "\n",
    "# Print summary\n",
    "summary(model, input_size=image_input_size)"
   ],
   "metadata": {
    "collapsed": false,
    "ExecuteTime": {
     "end_time": "2024-11-22T19:52:22.717267700Z",
     "start_time": "2024-11-22T19:52:21.688406500Z"
    }
   },
   "id": "3de16a2f1b1b7618"
  },
  {
   "cell_type": "markdown",
   "source": [
    "### Train the model"
   ],
   "metadata": {
    "collapsed": false
   },
   "id": "edfaedc3e77ed2aa"
  },
  {
   "cell_type": "code",
   "execution_count": 5,
   "outputs": [
    {
     "name": "stdout",
     "output_type": "stream",
     "text": [
      "Starting training from scratch.\n"
     ]
    },
    {
     "name": "stderr",
     "output_type": "stream",
     "text": [
      "C:\\Users\\ishar\\AppData\\Local\\Temp\\ipykernel_218900\\4108583156.py:78: FutureWarning: The behavior of DataFrame concatenation with empty or all-NA entries is deprecated. In a future version, this will no longer exclude empty or all-NA columns when determining the result dtypes. To retain the old behavior, exclude the relevant entries before the concat operation.\n",
      "  log_df = pd.concat([log_df, pd.DataFrame([new_row])], ignore_index=True)\n"
     ]
    },
    {
     "name": "stdout",
     "output_type": "stream",
     "text": [
      "Epoch [1/50], Train Loss: 1.1141, Val Loss: 0.6929, Val Accuracy: 50.66%, GFLOPs: 15.52\n",
      "Epoch [2/50], Train Loss: 0.7327, Val Loss: 0.6956, Val Accuracy: 50.66%, GFLOPs: 15.52\n",
      "Epoch [3/50], Train Loss: 0.6963, Val Loss: 0.6931, Val Accuracy: 50.66%, GFLOPs: 15.52\n",
      "Epoch [4/50], Train Loss: 0.7198, Val Loss: 0.6953, Val Accuracy: 50.66%, GFLOPs: 15.52\n",
      "Epoch [5/50], Train Loss: 0.6956, Val Loss: 0.6944, Val Accuracy: 49.34%, GFLOPs: 15.52\n",
      "Epoch [6/50], Train Loss: 0.6968, Val Loss: 0.6929, Val Accuracy: 50.66%, GFLOPs: 15.52\n",
      "Epoch [7/50], Train Loss: 0.6962, Val Loss: 0.6929, Val Accuracy: 50.66%, GFLOPs: 15.52\n",
      "Epoch [8/50], Train Loss: 0.6947, Val Loss: 0.6929, Val Accuracy: 50.66%, GFLOPs: 15.52\n",
      "Epoch [9/50], Train Loss: 0.6934, Val Loss: 0.6929, Val Accuracy: 50.66%, GFLOPs: 15.52\n",
      "Epoch [10/50], Train Loss: 0.6942, Val Loss: 0.6929, Val Accuracy: 50.66%, GFLOPs: 15.52\n",
      "Epoch [11/50], Train Loss: 0.6931, Val Loss: 0.6929, Val Accuracy: 50.66%, GFLOPs: 15.52\n",
      "Epoch [12/50], Train Loss: 0.6951, Val Loss: 0.6931, Val Accuracy: 50.66%, GFLOPs: 15.52\n",
      "Epoch [13/50], Train Loss: 0.6947, Val Loss: 0.6929, Val Accuracy: 50.66%, GFLOPs: 15.52\n",
      "Epoch [14/50], Train Loss: 0.6946, Val Loss: 0.6929, Val Accuracy: 50.66%, GFLOPs: 15.52\n",
      "Epoch [15/50], Train Loss: 0.6931, Val Loss: 0.6929, Val Accuracy: 50.66%, GFLOPs: 15.52\n",
      "Epoch [16/50], Train Loss: 0.6940, Val Loss: 0.6929, Val Accuracy: 50.66%, GFLOPs: 15.52\n",
      "Epoch [17/50], Train Loss: 0.6926, Val Loss: 0.6929, Val Accuracy: 50.66%, GFLOPs: 15.52\n",
      "Epoch [18/50], Train Loss: 0.6924, Val Loss: 0.6929, Val Accuracy: 50.66%, GFLOPs: 15.52\n",
      "Epoch [19/50], Train Loss: 0.6937, Val Loss: 0.6929, Val Accuracy: 50.66%, GFLOPs: 15.52\n",
      "Epoch [20/50], Train Loss: 0.6932, Val Loss: 0.6929, Val Accuracy: 50.66%, GFLOPs: 15.52\n",
      "Epoch [21/50], Train Loss: 0.6942, Val Loss: 0.6929, Val Accuracy: 50.66%, GFLOPs: 15.52\n",
      "Epoch [22/50], Train Loss: 0.6944, Val Loss: 0.6929, Val Accuracy: 50.66%, GFLOPs: 15.52\n",
      "Epoch [23/50], Train Loss: 0.6926, Val Loss: 0.6929, Val Accuracy: 50.66%, GFLOPs: 15.52\n",
      "Epoch [24/50], Train Loss: 0.6939, Val Loss: 0.6929, Val Accuracy: 50.66%, GFLOPs: 15.52\n",
      "Epoch [25/50], Train Loss: 0.6929, Val Loss: 0.6929, Val Accuracy: 50.66%, GFLOPs: 15.52\n",
      "Epoch [26/50], Train Loss: 0.6940, Val Loss: 0.6929, Val Accuracy: 50.66%, GFLOPs: 15.52\n",
      "Epoch [27/50], Train Loss: 0.6940, Val Loss: 0.6929, Val Accuracy: 50.66%, GFLOPs: 15.52\n",
      "Epoch [28/50], Train Loss: 0.6936, Val Loss: 0.6929, Val Accuracy: 50.66%, GFLOPs: 15.52\n",
      "Epoch [29/50], Train Loss: 0.6933, Val Loss: 0.6929, Val Accuracy: 50.66%, GFLOPs: 15.52\n",
      "Epoch [30/50], Train Loss: 0.6933, Val Loss: 0.6929, Val Accuracy: 50.66%, GFLOPs: 15.52\n",
      "Epoch [31/50], Train Loss: 0.6933, Val Loss: 0.6929, Val Accuracy: 50.66%, GFLOPs: 15.52\n",
      "Epoch [32/50], Train Loss: 0.6926, Val Loss: 0.6929, Val Accuracy: 50.66%, GFLOPs: 15.52\n",
      "Epoch [33/50], Train Loss: 0.6937, Val Loss: 0.6929, Val Accuracy: 50.66%, GFLOPs: 15.52\n",
      "Epoch [34/50], Train Loss: 0.6942, Val Loss: 0.6929, Val Accuracy: 50.66%, GFLOPs: 15.52\n",
      "Epoch [35/50], Train Loss: 0.6939, Val Loss: 0.6929, Val Accuracy: 50.66%, GFLOPs: 15.52\n",
      "Epoch [36/50], Train Loss: 0.6955, Val Loss: 0.6929, Val Accuracy: 50.66%, GFLOPs: 15.52\n",
      "Epoch [37/50], Train Loss: 0.6940, Val Loss: 0.6929, Val Accuracy: 50.66%, GFLOPs: 15.52\n",
      "Epoch [38/50], Train Loss: 0.6943, Val Loss: 0.6929, Val Accuracy: 50.66%, GFLOPs: 15.52\n",
      "Epoch [39/50], Train Loss: 0.6942, Val Loss: 0.6929, Val Accuracy: 50.66%, GFLOPs: 15.52\n",
      "Epoch [40/50], Train Loss: 0.6937, Val Loss: 0.6929, Val Accuracy: 50.66%, GFLOPs: 15.52\n",
      "Epoch [41/50], Train Loss: 0.6929, Val Loss: 0.6929, Val Accuracy: 50.66%, GFLOPs: 15.52\n",
      "Epoch [42/50], Train Loss: 0.6946, Val Loss: 0.6929, Val Accuracy: 50.66%, GFLOPs: 15.52\n",
      "Epoch [43/50], Train Loss: 0.6942, Val Loss: 0.6929, Val Accuracy: 50.66%, GFLOPs: 15.52\n",
      "Epoch [44/50], Train Loss: 0.6935, Val Loss: 0.6929, Val Accuracy: 50.66%, GFLOPs: 15.52\n",
      "Epoch [45/50], Train Loss: 0.6934, Val Loss: 0.6929, Val Accuracy: 50.66%, GFLOPs: 15.52\n",
      "Epoch [46/50], Train Loss: 0.6935, Val Loss: 0.6929, Val Accuracy: 50.66%, GFLOPs: 15.52\n",
      "Epoch [47/50], Train Loss: 0.6929, Val Loss: 0.6929, Val Accuracy: 50.66%, GFLOPs: 15.52\n",
      "Epoch [48/50], Train Loss: 0.6931, Val Loss: 0.6929, Val Accuracy: 50.66%, GFLOPs: 15.52\n",
      "Epoch [49/50], Train Loss: 0.6952, Val Loss: 0.6929, Val Accuracy: 50.66%, GFLOPs: 15.52\n",
      "Epoch [50/50], Train Loss: 0.6951, Val Loss: 0.6929, Val Accuracy: 50.66%, GFLOPs: 15.52\n"
     ]
    }
   ],
   "source": [
    "# Initialize a DataFrame to log training/validation metrics\n",
    "log_df = pd.DataFrame(columns=[\"Epoch\", \"Train Loss\", \"Validation Loss\", \"Validation Accuracy\", \"FLOPs\"])\n",
    "\n",
    "# Check if a checkpoint exists to resume training\n",
    "checkpoint_path = \"model_outputs_data/vgg16_checkpoint.pth\"\n",
    "start_epoch = 0\n",
    "best_val_loss = float('inf')\n",
    "\n",
    "if os.path.exists(checkpoint_path):\n",
    "    print(\"Loading checkpoint...\")\n",
    "    checkpoint = torch.load(checkpoint_path)\n",
    "    model.load_state_dict(checkpoint['model_state_dict'])\n",
    "    optimizer.load_state_dict(checkpoint['optimizer_state_dict'])\n",
    "    scheduler.load_state_dict(checkpoint['scheduler_state_dict'])\n",
    "    start_epoch = checkpoint['epoch'] + 1\n",
    "    best_val_loss = checkpoint['best_val_loss']\n",
    "    # Load training logs\n",
    "    log_df = pd.read_csv(\"model_outputs_data/training_vgg16_logs.csv\")\n",
    "    print(f\"Resuming training from epoch {start_epoch}\")\n",
    "else:\n",
    "    print(\"Starting training from scratch.\")\n",
    "\n",
    "# Training loop\n",
    "num_epochs = 50  # Total number of epochs\n",
    "\n",
    "for epoch in range(start_epoch, num_epochs):\n",
    "    # Training phase\n",
    "    model.train()\n",
    "    train_loss = 0.0\n",
    "\n",
    "    for images, labels in train_loader:\n",
    "        images, labels = images.to(device), labels.to(device)\n",
    "\n",
    "        # Forward pass\n",
    "        outputs = model(images)\n",
    "        loss = criterion(outputs, labels)\n",
    "\n",
    "        # Backward pass and optimization\n",
    "        optimizer.zero_grad()\n",
    "        loss.backward()\n",
    "        optimizer.step()\n",
    "\n",
    "        train_loss += loss.item()\n",
    "\n",
    "    # Validation phase\n",
    "    model.eval()\n",
    "    val_loss = 0.0\n",
    "    val_correct = 0\n",
    "    val_total = 0\n",
    "    with torch.no_grad():\n",
    "        for images, labels in val_loader:\n",
    "            images, labels = images.to(device), labels.to(device)\n",
    "            outputs = model(images)\n",
    "            loss = criterion(outputs, labels)\n",
    "            val_loss += loss.item()\n",
    "\n",
    "            _, predicted = torch.max(outputs, 1)\n",
    "            val_total += labels.size(0)\n",
    "            val_correct += (predicted == labels).sum().item()\n",
    "\n",
    "    val_accuracy = val_correct / val_total * 100\n",
    "\n",
    "    # Adjust learning rate\n",
    "    scheduler.step(val_loss)\n",
    "\n",
    "    # Calculate FLOPs after each epoch\n",
    "    with torch.no_grad():\n",
    "        flops, _ = get_model_complexity_info(model, image_input_size, as_strings=False, print_per_layer_stat=False)\n",
    "\n",
    "    # Log metrics into the DataFrame\n",
    "    new_row = {\n",
    "        \"Epoch\": epoch + 1,\n",
    "        \"Train Loss\": train_loss / len(train_loader),\n",
    "        \"Validation Loss\": val_loss / len(val_loader),\n",
    "        \"Validation Accuracy\": val_accuracy,\n",
    "        \"FLOPs\": flops\n",
    "    }\n",
    "    log_df = pd.concat([log_df, pd.DataFrame([new_row])], ignore_index=True)\n",
    "\n",
    "    # Save training logs after each epoch\n",
    "    log_df.to_csv(\"model_outputs_data/training_vgg16_logs.csv\", index=False)\n",
    "\n",
    "    # Print metrics for this epoch\n",
    "    print(f\"Epoch [{epoch+1}/{num_epochs}], Train Loss: {train_loss / len(train_loader):.4f}, \"\n",
    "          f\"Val Loss: {val_loss / len(val_loader):.4f}, Val Accuracy: {val_accuracy:.2f}%, \"\n",
    "          f\"GFLOPs: {(new_row['FLOPs'] / 1e9):.2f}\")\n",
    "\n",
    "    # Save the best model based on validation loss\n",
    "    if val_loss < best_val_loss:\n",
    "        best_val_loss = val_loss\n",
    "        torch.save(model.state_dict(), \"model_outputs_data/best_vgg16_model.pth\")\n",
    "\n",
    "    # Save checkpoint after each epoch\n",
    "    torch.save({\n",
    "        'epoch': epoch,\n",
    "        'model_state_dict': model.state_dict(),\n",
    "        'optimizer_state_dict': optimizer.state_dict(),\n",
    "        'scheduler_state_dict': scheduler.state_dict(),\n",
    "        'best_val_loss': best_val_loss,\n",
    "    }, checkpoint_path)\n",
    "\n",
    "# Remove the checkpoint file after training is complete\n",
    "if os.path.exists(checkpoint_path):\n",
    "    os.remove(checkpoint_path)\n"
   ],
   "metadata": {
    "collapsed": false,
    "ExecuteTime": {
     "end_time": "2024-11-22T20:41:09.105884100Z",
     "start_time": "2024-11-22T19:52:22.719267600Z"
    }
   },
   "id": "1ae5f1d5387736b9"
  },
  {
   "cell_type": "markdown",
   "source": [
    "### Prediction and Model evaluation"
   ],
   "metadata": {
    "collapsed": false
   },
   "id": "31b42697ba912ffe"
  },
  {
   "cell_type": "code",
   "execution_count": 7,
   "outputs": [
    {
     "name": "stdout",
     "output_type": "stream",
     "text": [
      "\n",
      "Test Accuracy: 50.72%\n",
      "Precision: 0.51\n",
      "Recall: 1.00\n",
      "F1-Score: 0.67\n",
      "\n",
      "Classification Report:\n",
      "                   precision    recall  f1-score   support\n",
      "\n",
      "No Internal Waves       0.00      0.00      0.00       719\n",
      "   Internal Waves       0.51      1.00      0.67       740\n",
      "\n",
      "         accuracy                           0.51      1459\n",
      "        macro avg       0.25      0.50      0.34      1459\n",
      "     weighted avg       0.26      0.51      0.34      1459\n",
      "\n",
      "\n",
      "Confusion Matrix:\n",
      "[[  0 719]\n",
      " [  0 740]]\n"
     ]
    },
    {
     "name": "stderr",
     "output_type": "stream",
     "text": [
      "C:\\Users\\ishar\\.virtualenvs\\ML_env\\Lib\\site-packages\\sklearn\\metrics\\_classification.py:1531: UndefinedMetricWarning: Precision is ill-defined and being set to 0.0 in labels with no predicted samples. Use `zero_division` parameter to control this behavior.\n",
      "  _warn_prf(average, modifier, f\"{metric.capitalize()} is\", len(result))\n",
      "C:\\Users\\ishar\\.virtualenvs\\ML_env\\Lib\\site-packages\\sklearn\\metrics\\_classification.py:1531: UndefinedMetricWarning: Precision is ill-defined and being set to 0.0 in labels with no predicted samples. Use `zero_division` parameter to control this behavior.\n",
      "  _warn_prf(average, modifier, f\"{metric.capitalize()} is\", len(result))\n",
      "C:\\Users\\ishar\\.virtualenvs\\ML_env\\Lib\\site-packages\\sklearn\\metrics\\_classification.py:1531: UndefinedMetricWarning: Precision is ill-defined and being set to 0.0 in labels with no predicted samples. Use `zero_division` parameter to control this behavior.\n",
      "  _warn_prf(average, modifier, f\"{metric.capitalize()} is\", len(result))\n"
     ]
    }
   ],
   "source": [
    "# Test the model\n",
    "# model.load_state_dict(torch.load(\"model_outputs_data/best_vgg16_model.pth\"))  # Load the best model\n",
    "model.eval()\n",
    "all_labels = []\n",
    "all_preds = []\n",
    "\n",
    "with torch.no_grad():\n",
    "    for images, labels in test_loader:\n",
    "        images, labels = images.to(device), labels.to(device)\n",
    "        outputs = model(images)\n",
    "        _, predicted = torch.max(outputs, 1)\n",
    "\n",
    "        all_labels.extend(labels.cpu().numpy())\n",
    "        all_preds.extend(predicted.cpu().numpy())\n",
    "\n",
    "# Compute Evaluation Metrics\n",
    "accuracy = accuracy_score(all_labels, all_preds)\n",
    "precision = precision_score(all_labels, all_preds, average='binary')\n",
    "recall = recall_score(all_labels, all_preds, average='binary')\n",
    "f1 = f1_score(all_labels, all_preds, average='binary')\n",
    "\n",
    "print(f\"\\nTest Accuracy: {accuracy * 100:.2f}%\")\n",
    "print(f\"Precision: {precision:.2f}\")\n",
    "print(f\"Recall: {recall:.2f}\")\n",
    "print(f\"F1-Score: {f1:.2f}\")\n",
    "\n",
    "# Classification Report\n",
    "print(\"\\nClassification Report:\")\n",
    "print(classification_report(all_labels, all_preds, target_names=[\"No Internal Waves\", \"Internal Waves\"]))\n",
    "\n",
    "# Confusion Matrix\n",
    "print(\"\\nConfusion Matrix:\")\n",
    "print(confusion_matrix(all_labels, all_preds))"
   ],
   "metadata": {
    "collapsed": false,
    "ExecuteTime": {
     "end_time": "2024-11-22T17:42:34.228001900Z",
     "start_time": "2024-11-22T17:42:18.188999700Z"
    }
   },
   "id": "761a2d9e8da9e31b"
  },
  {
   "cell_type": "code",
   "execution_count": 8,
   "outputs": [],
   "source": [
    "# Save prediction data to a CSV file (As a backup)\n",
    "results_df = pd.DataFrame({\n",
    "    \"true_labels\": all_labels,\n",
    "    \"predicted_labels\": all_preds\n",
    "})\n",
    "results_df.to_csv(\"model_outputs_data/model_prediction_logs/vgg16_labels_predictions.csv\", index=False)"
   ],
   "metadata": {
    "collapsed": false,
    "ExecuteTime": {
     "end_time": "2024-11-22T19:00:54.445560900Z",
     "start_time": "2024-11-22T19:00:54.431275400Z"
    }
   },
   "id": "eb25716ec46e49b6"
  }
 ],
 "metadata": {
  "kernelspec": {
   "display_name": "Python 3 (ipykernel)",
   "language": "python",
   "name": "python3"
  },
  "language_info": {
   "codemirror_mode": {
    "name": "ipython",
    "version": 3
   },
   "file_extension": ".py",
   "mimetype": "text/x-python",
   "name": "python",
   "nbconvert_exporter": "python",
   "pygments_lexer": "ipython3",
   "version": "3.11.6"
  }
 },
 "nbformat": 4,
 "nbformat_minor": 5
}
