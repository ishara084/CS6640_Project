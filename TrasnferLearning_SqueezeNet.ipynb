{
 "cells": [
  {
   "cell_type": "markdown",
   "id": "2a61cdd4fcf34165",
   "metadata": {
    "collapsed": false
   },
   "source": [
    "# SqueezeNet (Transfer Learning)"
   ]
  },
  {
   "cell_type": "code",
   "execution_count": 13,
   "outputs": [],
   "source": [
    "import torch\n",
    "import torchvision.models as models\n",
    "from torch import nn, optim\n",
    "from torchvision import transforms, datasets\n",
    "from torch.utils.data import DataLoader, random_split\n",
    "from torchsummary import summary\n",
    "import pandas as pd\n",
    "from PIL import Image\n",
    "from sklearn.metrics import classification_report, confusion_matrix, accuracy_score, precision_score, recall_score, f1_score\n",
    "from sklearn.model_selection import train_test_split\n",
    "from ptflops import get_model_complexity_info"
   ],
   "metadata": {
    "collapsed": false,
    "ExecuteTime": {
     "end_time": "2024-11-21T03:26:27.089506700Z",
     "start_time": "2024-11-21T03:26:27.050314Z"
    }
   },
   "id": "3a21c456bcaf905b"
  },
  {
   "cell_type": "code",
   "execution_count": 14,
   "outputs": [
    {
     "name": "stdout",
     "output_type": "stream",
     "text": [
      "\n",
      " Device : cuda\n"
     ]
    }
   ],
   "source": [
    "# Device configuration (Select CPU or GPU)\n",
    "device = torch.device(\"cuda\" if torch.cuda.is_available() else \"cpu\")\n",
    "print(f\"\\n Device : {device}\")"
   ],
   "metadata": {
    "collapsed": false,
    "ExecuteTime": {
     "end_time": "2024-11-21T03:26:27.107019300Z",
     "start_time": "2024-11-21T03:26:27.053322700Z"
    }
   },
   "id": "f26b91bef342d73f"
  },
  {
   "cell_type": "markdown",
   "source": [
    "### Load and prepare the data"
   ],
   "metadata": {
    "collapsed": false
   },
   "id": "bfe3785237c973d7"
  },
  {
   "cell_type": "code",
   "execution_count": 15,
   "outputs": [],
   "source": [
    "# Transformations for the dataset\n",
    "transform = transforms.Compose([\n",
    "    transforms.Grayscale(num_output_channels=3),  # Convert grayscale-like images to 3 channels\n",
    "    transforms.Resize((256, 256)),               # Resize images to SqueezeNet input size\n",
    "    transforms.CenterCrop(224),                  # Crop the central 224×224 region\n",
    "    transforms.ToTensor(),                       # Convert images to tensors\n",
    "    transforms.Normalize([0.5, 0.5, 0.5], [0.5, 0.5, 0.5])  # Normalize\n",
    "])\n",
    "\n",
    "# Custom dataset class to handle CSV and image folder\n",
    "class SARImageDataset(torch.utils.data.Dataset):\n",
    "    def __init__(self, csv_file, image_folder, transform=None):\n",
    "        self.data = pd.read_csv(csv_file)\n",
    "        self.image_folder = image_folder\n",
    "        self.transform = transform\n",
    "\n",
    "    def __len__(self):\n",
    "        return len(self.data)\n",
    "\n",
    "    def __getitem__(self, idx):\n",
    "        img_name = f\"{self.image_folder}/{self.data.iloc[idx, 0]}.png\"\n",
    "        label = self.data.iloc[idx, 1]\n",
    "        image = Image.open(img_name)\n",
    "\n",
    "        if self.transform:\n",
    "            image = self.transform(image)\n",
    "\n",
    "        return image, label\n",
    "\n",
    "# Load full training dataset\n",
    "train_val_dataset = SARImageDataset(csv_file=\"data/train.csv\", image_folder=\"data/images_train\", transform=transform)\n",
    "test_dataset = SARImageDataset(csv_file=\"data/test.csv\", image_folder=\"data/images_test\", transform=transform)\n",
    "\n",
    "# Split into training and validation datasets\n",
    "train_size = int(0.8 * len(train_val_dataset))  # 80% for training\n",
    "val_size = len(train_val_dataset) - train_size  # 20% for validation\n",
    "train_dataset, val_dataset = random_split(train_val_dataset, [train_size, val_size])\n",
    "\n",
    "# DataLoaders for batching\n",
    "train_loader = DataLoader(train_dataset, batch_size=32, shuffle=True)\n",
    "val_loader = DataLoader(val_dataset, batch_size=32, shuffle=False)\n",
    "test_loader = DataLoader(test_dataset, batch_size=32, shuffle=False)"
   ],
   "metadata": {
    "collapsed": false,
    "ExecuteTime": {
     "end_time": "2024-11-21T03:26:27.155187800Z",
     "start_time": "2024-11-21T03:26:27.059809900Z"
    }
   },
   "id": "54708feab2e7ddd8"
  },
  {
   "cell_type": "markdown",
   "source": [
    "### Load pre-trained SqueezeNet"
   ],
   "metadata": {
    "collapsed": false
   },
   "id": "9d988a030bfc5d7"
  },
  {
   "cell_type": "code",
   "execution_count": 16,
   "outputs": [
    {
     "name": "stdout",
     "output_type": "stream",
     "text": [
      "----------------------------------------------------------------\n",
      "        Layer (type)               Output Shape         Param #\n",
      "================================================================\n",
      "            Conv2d-1         [-1, 96, 109, 109]          14,208\n",
      "              ReLU-2         [-1, 96, 109, 109]               0\n",
      "         MaxPool2d-3           [-1, 96, 54, 54]               0\n",
      "            Conv2d-4           [-1, 16, 54, 54]           1,552\n",
      "              ReLU-5           [-1, 16, 54, 54]               0\n",
      "            Conv2d-6           [-1, 64, 54, 54]           1,088\n",
      "              ReLU-7           [-1, 64, 54, 54]               0\n",
      "            Conv2d-8           [-1, 64, 54, 54]           9,280\n",
      "              ReLU-9           [-1, 64, 54, 54]               0\n",
      "             Fire-10          [-1, 128, 54, 54]               0\n",
      "           Conv2d-11           [-1, 16, 54, 54]           2,064\n",
      "             ReLU-12           [-1, 16, 54, 54]               0\n",
      "           Conv2d-13           [-1, 64, 54, 54]           1,088\n",
      "             ReLU-14           [-1, 64, 54, 54]               0\n",
      "           Conv2d-15           [-1, 64, 54, 54]           9,280\n",
      "             ReLU-16           [-1, 64, 54, 54]               0\n",
      "             Fire-17          [-1, 128, 54, 54]               0\n",
      "           Conv2d-18           [-1, 32, 54, 54]           4,128\n",
      "             ReLU-19           [-1, 32, 54, 54]               0\n",
      "           Conv2d-20          [-1, 128, 54, 54]           4,224\n",
      "             ReLU-21          [-1, 128, 54, 54]               0\n",
      "           Conv2d-22          [-1, 128, 54, 54]          36,992\n",
      "             ReLU-23          [-1, 128, 54, 54]               0\n",
      "             Fire-24          [-1, 256, 54, 54]               0\n",
      "        MaxPool2d-25          [-1, 256, 27, 27]               0\n",
      "           Conv2d-26           [-1, 32, 27, 27]           8,224\n",
      "             ReLU-27           [-1, 32, 27, 27]               0\n",
      "           Conv2d-28          [-1, 128, 27, 27]           4,224\n",
      "             ReLU-29          [-1, 128, 27, 27]               0\n",
      "           Conv2d-30          [-1, 128, 27, 27]          36,992\n",
      "             ReLU-31          [-1, 128, 27, 27]               0\n",
      "             Fire-32          [-1, 256, 27, 27]               0\n",
      "           Conv2d-33           [-1, 48, 27, 27]          12,336\n",
      "             ReLU-34           [-1, 48, 27, 27]               0\n",
      "           Conv2d-35          [-1, 192, 27, 27]           9,408\n",
      "             ReLU-36          [-1, 192, 27, 27]               0\n",
      "           Conv2d-37          [-1, 192, 27, 27]          83,136\n",
      "             ReLU-38          [-1, 192, 27, 27]               0\n",
      "             Fire-39          [-1, 384, 27, 27]               0\n",
      "           Conv2d-40           [-1, 48, 27, 27]          18,480\n",
      "             ReLU-41           [-1, 48, 27, 27]               0\n",
      "           Conv2d-42          [-1, 192, 27, 27]           9,408\n",
      "             ReLU-43          [-1, 192, 27, 27]               0\n",
      "           Conv2d-44          [-1, 192, 27, 27]          83,136\n",
      "             ReLU-45          [-1, 192, 27, 27]               0\n",
      "             Fire-46          [-1, 384, 27, 27]               0\n",
      "           Conv2d-47           [-1, 64, 27, 27]          24,640\n",
      "             ReLU-48           [-1, 64, 27, 27]               0\n",
      "           Conv2d-49          [-1, 256, 27, 27]          16,640\n",
      "             ReLU-50          [-1, 256, 27, 27]               0\n",
      "           Conv2d-51          [-1, 256, 27, 27]         147,712\n",
      "             ReLU-52          [-1, 256, 27, 27]               0\n",
      "             Fire-53          [-1, 512, 27, 27]               0\n",
      "        MaxPool2d-54          [-1, 512, 13, 13]               0\n",
      "           Conv2d-55           [-1, 64, 13, 13]          32,832\n",
      "             ReLU-56           [-1, 64, 13, 13]               0\n",
      "           Conv2d-57          [-1, 256, 13, 13]          16,640\n",
      "             ReLU-58          [-1, 256, 13, 13]               0\n",
      "           Conv2d-59          [-1, 256, 13, 13]         147,712\n",
      "             ReLU-60          [-1, 256, 13, 13]               0\n",
      "             Fire-61          [-1, 512, 13, 13]               0\n",
      "          Dropout-62          [-1, 512, 13, 13]               0\n",
      "           Conv2d-63            [-1, 2, 13, 13]           1,026\n",
      "             ReLU-64            [-1, 2, 13, 13]               0\n",
      "AdaptiveAvgPool2d-65              [-1, 2, 1, 1]               0\n",
      "================================================================\n",
      "Total params: 736,450\n",
      "Trainable params: 736,450\n",
      "Non-trainable params: 0\n",
      "----------------------------------------------------------------\n",
      "Input size (MB): 0.57\n",
      "Forward/backward pass size (MB): 89.22\n",
      "Params size (MB): 2.81\n",
      "Estimated Total Size (MB): 92.60\n",
      "----------------------------------------------------------------\n"
     ]
    },
    {
     "name": "stderr",
     "output_type": "stream",
     "text": [
      "C:\\Users\\ishar\\.virtualenvs\\ML_env\\Lib\\site-packages\\torchvision\\models\\_utils.py:208: UserWarning: The parameter 'pretrained' is deprecated since 0.13 and may be removed in the future, please use 'weights' instead.\n",
      "  warnings.warn(\n",
      "C:\\Users\\ishar\\.virtualenvs\\ML_env\\Lib\\site-packages\\torchvision\\models\\_utils.py:223: UserWarning: Arguments other than a weight enum or `None` for 'weights' are deprecated since 0.13 and may be removed in the future. The current behavior is equivalent to passing `weights=SqueezeNet1_0_Weights.IMAGENET1K_V1`. You can also use `weights=SqueezeNet1_0_Weights.DEFAULT` to get the most up-to-date weights.\n",
      "  warnings.warn(msg)\n"
     ]
    }
   ],
   "source": [
    "# Load pre-trained SqueezeNet\n",
    "model = models.squeezenet1_0(pretrained=True)\n",
    "\n",
    "# Modify the final classification layer for binary classification\n",
    "model.classifier[1] = nn.Conv2d(512, 2, kernel_size=(1, 1))  # Binary classification: Internal waves (1) or No waves (0)\n",
    "model.num_classes = 2\n",
    "model = model.to(device)\n",
    "\n",
    "# Define the loss function and optimizer\n",
    "criterion = nn.CrossEntropyLoss()\n",
    "optimizer = optim.Adam(model.parameters(), lr=0.001)\n",
    "\n",
    "# Print summary\n",
    "summary(model, input_size=(3, 224, 224))"
   ],
   "metadata": {
    "collapsed": false,
    "ExecuteTime": {
     "end_time": "2024-11-21T03:26:27.157188900Z",
     "start_time": "2024-11-21T03:26:27.076498200Z"
    }
   },
   "id": "3de16a2f1b1b7618"
  },
  {
   "cell_type": "markdown",
   "source": [
    "### Train the model"
   ],
   "metadata": {
    "collapsed": false
   },
   "id": "edfaedc3e77ed2aa"
  },
  {
   "cell_type": "code",
   "execution_count": 17,
   "outputs": [
    {
     "name": "stdout",
     "output_type": "stream",
     "text": [
      "Epoch [1/50], Train Loss: 0.6991, Val Loss: 0.6931, Val Accuracy: 46.84%, FLOPs: 0.75 GFLOPs\n",
      "Epoch [2/50], Train Loss: 0.6928, Val Loss: 0.6931, Val Accuracy: 46.84%, FLOPs: 0.75 GFLOPs\n",
      "Epoch [3/50], Train Loss: 0.6933, Val Loss: 0.6931, Val Accuracy: 46.84%, FLOPs: 0.75 GFLOPs\n",
      "Epoch [4/50], Train Loss: 0.6931, Val Loss: 0.6931, Val Accuracy: 46.84%, FLOPs: 0.75 GFLOPs\n",
      "Epoch [5/50], Train Loss: 0.6931, Val Loss: 0.6931, Val Accuracy: 46.84%, FLOPs: 0.75 GFLOPs\n",
      "Epoch [6/50], Train Loss: 0.6931, Val Loss: 0.6931, Val Accuracy: 46.84%, FLOPs: 0.75 GFLOPs\n",
      "Epoch [7/50], Train Loss: 0.6931, Val Loss: 0.6931, Val Accuracy: 46.84%, FLOPs: 0.75 GFLOPs\n",
      "Epoch [8/50], Train Loss: 0.6931, Val Loss: 0.6931, Val Accuracy: 46.84%, FLOPs: 0.75 GFLOPs\n",
      "Epoch [9/50], Train Loss: 0.6931, Val Loss: 0.6931, Val Accuracy: 46.84%, FLOPs: 0.75 GFLOPs\n",
      "Epoch [10/50], Train Loss: 0.6931, Val Loss: 0.6931, Val Accuracy: 46.84%, FLOPs: 0.75 GFLOPs\n",
      "Epoch [11/50], Train Loss: 0.6931, Val Loss: 0.6931, Val Accuracy: 46.84%, FLOPs: 0.75 GFLOPs\n",
      "Epoch [12/50], Train Loss: 0.6931, Val Loss: 0.6931, Val Accuracy: 46.84%, FLOPs: 0.75 GFLOPs\n",
      "Epoch [13/50], Train Loss: 0.6931, Val Loss: 0.6931, Val Accuracy: 46.84%, FLOPs: 0.75 GFLOPs\n",
      "Epoch [14/50], Train Loss: 0.6931, Val Loss: 0.6931, Val Accuracy: 46.84%, FLOPs: 0.75 GFLOPs\n",
      "Epoch [15/50], Train Loss: 0.6931, Val Loss: 0.6931, Val Accuracy: 46.84%, FLOPs: 0.75 GFLOPs\n",
      "Epoch [16/50], Train Loss: 0.6931, Val Loss: 0.6931, Val Accuracy: 46.84%, FLOPs: 0.75 GFLOPs\n",
      "Epoch [17/50], Train Loss: 0.6931, Val Loss: 0.6931, Val Accuracy: 46.84%, FLOPs: 0.75 GFLOPs\n",
      "Epoch [18/50], Train Loss: 0.6931, Val Loss: 0.6931, Val Accuracy: 46.84%, FLOPs: 0.75 GFLOPs\n",
      "Epoch [19/50], Train Loss: 0.6931, Val Loss: 0.6931, Val Accuracy: 46.84%, FLOPs: 0.75 GFLOPs\n",
      "Epoch [20/50], Train Loss: 0.6931, Val Loss: 0.6931, Val Accuracy: 46.84%, FLOPs: 0.75 GFLOPs\n",
      "Epoch [21/50], Train Loss: 0.6931, Val Loss: 0.6931, Val Accuracy: 46.84%, FLOPs: 0.75 GFLOPs\n",
      "Epoch [22/50], Train Loss: 0.6931, Val Loss: 0.6931, Val Accuracy: 46.84%, FLOPs: 0.75 GFLOPs\n",
      "Epoch [23/50], Train Loss: 0.6931, Val Loss: 0.6931, Val Accuracy: 46.84%, FLOPs: 0.75 GFLOPs\n",
      "Epoch [24/50], Train Loss: 0.6931, Val Loss: 0.6931, Val Accuracy: 46.84%, FLOPs: 0.75 GFLOPs\n",
      "Epoch [25/50], Train Loss: 0.6931, Val Loss: 0.6931, Val Accuracy: 46.84%, FLOPs: 0.75 GFLOPs\n",
      "Epoch [26/50], Train Loss: 0.6931, Val Loss: 0.6931, Val Accuracy: 46.84%, FLOPs: 0.75 GFLOPs\n",
      "Epoch [27/50], Train Loss: 0.6931, Val Loss: 0.6931, Val Accuracy: 46.84%, FLOPs: 0.75 GFLOPs\n",
      "Epoch [28/50], Train Loss: 0.6931, Val Loss: 0.6931, Val Accuracy: 46.84%, FLOPs: 0.75 GFLOPs\n",
      "Epoch [29/50], Train Loss: 0.6931, Val Loss: 0.6931, Val Accuracy: 46.84%, FLOPs: 0.75 GFLOPs\n",
      "Epoch [30/50], Train Loss: 0.6931, Val Loss: 0.6931, Val Accuracy: 46.84%, FLOPs: 0.75 GFLOPs\n",
      "Epoch [31/50], Train Loss: 0.6931, Val Loss: 0.6931, Val Accuracy: 46.84%, FLOPs: 0.75 GFLOPs\n",
      "Epoch [32/50], Train Loss: 0.6931, Val Loss: 0.6931, Val Accuracy: 46.84%, FLOPs: 0.75 GFLOPs\n",
      "Epoch [33/50], Train Loss: 0.6931, Val Loss: 0.6931, Val Accuracy: 46.84%, FLOPs: 0.75 GFLOPs\n",
      "Epoch [34/50], Train Loss: 0.6931, Val Loss: 0.6931, Val Accuracy: 46.84%, FLOPs: 0.75 GFLOPs\n",
      "Epoch [35/50], Train Loss: 0.6931, Val Loss: 0.6931, Val Accuracy: 46.84%, FLOPs: 0.75 GFLOPs\n",
      "Epoch [36/50], Train Loss: 0.6931, Val Loss: 0.6931, Val Accuracy: 46.84%, FLOPs: 0.75 GFLOPs\n",
      "Epoch [37/50], Train Loss: 0.6931, Val Loss: 0.6931, Val Accuracy: 46.84%, FLOPs: 0.75 GFLOPs\n",
      "Epoch [38/50], Train Loss: 0.6931, Val Loss: 0.6931, Val Accuracy: 46.84%, FLOPs: 0.75 GFLOPs\n",
      "Epoch [39/50], Train Loss: 0.6931, Val Loss: 0.6931, Val Accuracy: 46.84%, FLOPs: 0.75 GFLOPs\n",
      "Epoch [40/50], Train Loss: 0.6931, Val Loss: 0.6931, Val Accuracy: 46.84%, FLOPs: 0.75 GFLOPs\n",
      "Epoch [41/50], Train Loss: 0.6931, Val Loss: 0.6931, Val Accuracy: 46.84%, FLOPs: 0.75 GFLOPs\n",
      "Epoch [42/50], Train Loss: 0.6931, Val Loss: 0.6931, Val Accuracy: 46.84%, FLOPs: 0.75 GFLOPs\n",
      "Epoch [43/50], Train Loss: 0.6931, Val Loss: 0.6931, Val Accuracy: 46.84%, FLOPs: 0.75 GFLOPs\n",
      "Epoch [44/50], Train Loss: 0.6931, Val Loss: 0.6931, Val Accuracy: 46.84%, FLOPs: 0.75 GFLOPs\n",
      "Epoch [45/50], Train Loss: 0.6931, Val Loss: 0.6931, Val Accuracy: 46.84%, FLOPs: 0.75 GFLOPs\n",
      "Epoch [46/50], Train Loss: 0.6932, Val Loss: 0.6931, Val Accuracy: 46.84%, FLOPs: 0.75 GFLOPs\n",
      "Epoch [47/50], Train Loss: 0.6932, Val Loss: 0.6931, Val Accuracy: 46.84%, FLOPs: 0.75 GFLOPs\n",
      "Epoch [48/50], Train Loss: 0.6931, Val Loss: 0.6931, Val Accuracy: 46.84%, FLOPs: 0.75 GFLOPs\n",
      "Epoch [49/50], Train Loss: 0.6931, Val Loss: 0.6931, Val Accuracy: 46.84%, FLOPs: 0.75 GFLOPs\n",
      "Epoch [50/50], Train Loss: 0.6931, Val Loss: 0.6931, Val Accuracy: 46.84%, FLOPs: 0.75 GFLOPs\n"
     ]
    }
   ],
   "source": [
    "# Initialize a df to log training/validation metrics\n",
    "log_df = pd.DataFrame(columns=[\"Epoch\", \"Train Loss\", \"Validation Loss\", \"Validation Accuracy\"])\n",
    "\n",
    "# Training loop\n",
    "num_epochs = 50\n",
    "best_val_loss = float('inf')  # Initialize best validation loss for saving model\n",
    "\n",
    "for epoch in range(num_epochs):\n",
    "    # Training phase\n",
    "    model.train()\n",
    "    train_loss = 0.0\n",
    "\n",
    "    for images, labels in train_loader:\n",
    "        images, labels = images.to(device), labels.to(device)\n",
    "\n",
    "        # Forward pass\n",
    "        outputs = model(images)\n",
    "        loss = criterion(outputs, labels)\n",
    "\n",
    "        # Backward pass and optimization\n",
    "        optimizer.zero_grad()\n",
    "        loss.backward()\n",
    "        optimizer.step()\n",
    "\n",
    "        train_loss += loss.item()\n",
    "\n",
    "    # Validation phase\n",
    "    model.eval()\n",
    "    val_loss = 0.0\n",
    "    val_correct = 0\n",
    "    val_total = 0\n",
    "    with torch.no_grad():\n",
    "        for images, labels in val_loader:\n",
    "            images, labels = images.to(device), labels.to(device)\n",
    "            outputs = model(images)\n",
    "            loss = criterion(outputs, labels)\n",
    "            val_loss += loss.item()\n",
    "\n",
    "            _, predicted = torch.max(outputs, 1)\n",
    "            val_total += labels.size(0)\n",
    "            val_correct += (predicted == labels).sum().item()\n",
    "\n",
    "    val_accuracy = val_correct / val_total * 100\n",
    "    \n",
    "    # Calculate FLOPs after each epoch\n",
    "    with torch.no_grad():\n",
    "        flops, _ = get_model_complexity_info(model, (3, 224, 224), as_strings=False, print_per_layer_stat=False)\n",
    "    \n",
    "    # Log metrics into the DataFrame\n",
    "    new_row = {\n",
    "        \"Epoch\": epoch + 1,\n",
    "        \"Train_Loss\": train_loss / len(train_loader),\n",
    "        \"Validation_Loss\": val_loss / len(val_loader),\n",
    "        \"Validation_Accuracy\": val_accuracy,\n",
    "        \"FLOPs\": flops\n",
    "    }\n",
    "    log_df = pd.concat([log_df, pd.DataFrame([new_row])], ignore_index=True)\n",
    "\n",
    "    # Print metrics for this epoch\n",
    "    print(f\"Epoch [{epoch+1}/{num_epochs}], Train Loss: {train_loss / len(train_loader):.4f}, \"\n",
    "          f\"Val Loss: {val_loss / len(val_loader):.4f}, Val Accuracy: {val_accuracy:.2f}%, \"\n",
    "          f\"FLOPs: {(new_row['FLOPs'] / 1e9):.2f} GFLOPs\")\n",
    "\n",
    "    # Save the best model based on validation loss\n",
    "    if val_loss < best_val_loss:\n",
    "        best_val_loss = val_loss\n",
    "        torch.save(model.state_dict(), \"model_outputs_data/best_squeezenet_model.pth\")\n",
    "\n",
    "# Save the DataFrame to a CSV file for later use\n",
    "log_df.to_csv(\"model_outputs_data/training_squeezenet_logs.csv\", index=False)"
   ],
   "metadata": {
    "collapsed": false,
    "ExecuteTime": {
     "end_time": "2024-11-21T03:52:18.692571800Z",
     "start_time": "2024-11-21T03:26:27.161189400Z"
    }
   },
   "id": "1ae5f1d5387736b9"
  },
  {
   "cell_type": "markdown",
   "source": [
    "### Prediction and Model evaluation"
   ],
   "metadata": {
    "collapsed": false
   },
   "id": "31b42697ba912ffe"
  },
  {
   "cell_type": "code",
   "execution_count": 18,
   "outputs": [
    {
     "name": "stdout",
     "output_type": "stream",
     "text": [
      "\n",
      "Test Accuracy: 49.28%\n",
      "Precision: 0.00\n",
      "Recall: 0.00\n",
      "F1-Score: 0.00\n",
      "\n",
      "Classification Report:\n",
      "                   precision    recall  f1-score   support\n",
      "\n",
      "No Internal Waves       0.49      1.00      0.66       719\n",
      "   Internal Waves       0.00      0.00      0.00       740\n",
      "\n",
      "         accuracy                           0.49      1459\n",
      "        macro avg       0.25      0.50      0.33      1459\n",
      "     weighted avg       0.24      0.49      0.33      1459\n",
      "\n",
      "\n",
      "Confusion Matrix:\n",
      "[[719   0]\n",
      " [740   0]]\n"
     ]
    },
    {
     "name": "stderr",
     "output_type": "stream",
     "text": [
      "C:\\Users\\ishar\\.virtualenvs\\ML_env\\Lib\\site-packages\\sklearn\\metrics\\_classification.py:1531: UndefinedMetricWarning: Precision is ill-defined and being set to 0.0 due to no predicted samples. Use `zero_division` parameter to control this behavior.\n",
      "  _warn_prf(average, modifier, f\"{metric.capitalize()} is\", len(result))\n",
      "C:\\Users\\ishar\\.virtualenvs\\ML_env\\Lib\\site-packages\\sklearn\\metrics\\_classification.py:1531: UndefinedMetricWarning: Precision is ill-defined and being set to 0.0 in labels with no predicted samples. Use `zero_division` parameter to control this behavior.\n",
      "  _warn_prf(average, modifier, f\"{metric.capitalize()} is\", len(result))\n",
      "C:\\Users\\ishar\\.virtualenvs\\ML_env\\Lib\\site-packages\\sklearn\\metrics\\_classification.py:1531: UndefinedMetricWarning: Precision is ill-defined and being set to 0.0 in labels with no predicted samples. Use `zero_division` parameter to control this behavior.\n",
      "  _warn_prf(average, modifier, f\"{metric.capitalize()} is\", len(result))\n",
      "C:\\Users\\ishar\\.virtualenvs\\ML_env\\Lib\\site-packages\\sklearn\\metrics\\_classification.py:1531: UndefinedMetricWarning: Precision is ill-defined and being set to 0.0 in labels with no predicted samples. Use `zero_division` parameter to control this behavior.\n",
      "  _warn_prf(average, modifier, f\"{metric.capitalize()} is\", len(result))\n"
     ]
    }
   ],
   "source": [
    "# Test the model\n",
    "model.eval()\n",
    "# model.load_state_dict(torch.load(\"model_outputs_data/best_squeezenet_model.pth\"))  # Load the best model\n",
    "\n",
    "all_labels = []\n",
    "all_preds = []\n",
    "\n",
    "with torch.no_grad():\n",
    "    for images, labels in test_loader:\n",
    "        images, labels = images.to(device), labels.to(device)\n",
    "        outputs = model(images)\n",
    "        _, predicted = torch.max(outputs, 1)\n",
    "\n",
    "        all_labels.extend(labels.cpu().numpy())\n",
    "        all_preds.extend(predicted.cpu().numpy())\n",
    "\n",
    "# Compute Evaluation Metrics\n",
    "accuracy = accuracy_score(all_labels, all_preds)\n",
    "precision = precision_score(all_labels, all_preds, average='binary')\n",
    "recall = recall_score(all_labels, all_preds, average='binary')\n",
    "f1 = f1_score(all_labels, all_preds, average='binary')\n",
    "\n",
    "print(f\"\\nTest Accuracy: {accuracy * 100:.2f}%\")\n",
    "print(f\"Precision: {precision:.2f}\")\n",
    "print(f\"Recall: {recall:.2f}\")\n",
    "print(f\"F1-Score: {f1:.2f}\")\n",
    "\n",
    "# Classification Report\n",
    "print(\"\\nClassification Report:\")\n",
    "print(classification_report(all_labels, all_preds, target_names=[\"No Internal Waves\", \"Internal Waves\"]))\n",
    "\n",
    "# Confusion Matrix\n",
    "print(\"\\nConfusion Matrix:\")\n",
    "print(confusion_matrix(all_labels, all_preds))"
   ],
   "metadata": {
    "collapsed": false,
    "ExecuteTime": {
     "end_time": "2024-11-21T03:52:32.862515Z",
     "start_time": "2024-11-21T03:52:18.686553100Z"
    }
   },
   "id": "761a2d9e8da9e31b"
  }
 ],
 "metadata": {
  "kernelspec": {
   "display_name": "Python 3 (ipykernel)",
   "language": "python",
   "name": "python3"
  },
  "language_info": {
   "codemirror_mode": {
    "name": "ipython",
    "version": 3
   },
   "file_extension": ".py",
   "mimetype": "text/x-python",
   "name": "python",
   "nbconvert_exporter": "python",
   "pygments_lexer": "ipython3",
   "version": "3.11.6"
  }
 },
 "nbformat": 4,
 "nbformat_minor": 5
}
